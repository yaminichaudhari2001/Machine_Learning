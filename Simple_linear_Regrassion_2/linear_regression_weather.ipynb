{
 "cells": [
  {
   "cell_type": "markdown",
   "id": "3797e763",
   "metadata": {},
   "source": [
    "2. Build a predictive linear regression model for given dataset, given humidity\n",
    "predict apparent temperature"
   ]
  },
  {
   "cell_type": "markdown",
   "id": "3d00808b",
   "metadata": {},
   "source": [
    "### Import library"
   ]
  },
  {
   "cell_type": "code",
   "execution_count": 1,
   "id": "849eee8b",
   "metadata": {},
   "outputs": [],
   "source": [
    "import numpy as np\n",
    "import pandas as pd\n",
    "import matplotlib.pyplot as plt\n",
    "import seaborn as sns\n",
    "import math"
   ]
  },
  {
   "cell_type": "markdown",
   "id": "646af0e5",
   "metadata": {},
   "source": [
    "### Import dataset"
   ]
  },
  {
   "cell_type": "code",
   "execution_count": 2,
   "id": "7a120291",
   "metadata": {},
   "outputs": [],
   "source": [
    "ds=pd.read_csv(\"weatherHistory.csv\")\n"
   ]
  },
  {
   "cell_type": "code",
   "execution_count": 3,
   "id": "80e5cbca",
   "metadata": {},
   "outputs": [
    {
     "data": {
      "text/plain": [
       "(96453, 12)"
      ]
     },
     "execution_count": 3,
     "metadata": {},
     "output_type": "execute_result"
    }
   ],
   "source": [
    "ds.shape"
   ]
  },
  {
   "cell_type": "code",
   "execution_count": 4,
   "id": "232659ec",
   "metadata": {},
   "outputs": [
    {
     "data": {
      "text/html": [
       "<div>\n",
       "<style scoped>\n",
       "    .dataframe tbody tr th:only-of-type {\n",
       "        vertical-align: middle;\n",
       "    }\n",
       "\n",
       "    .dataframe tbody tr th {\n",
       "        vertical-align: top;\n",
       "    }\n",
       "\n",
       "    .dataframe thead th {\n",
       "        text-align: right;\n",
       "    }\n",
       "</style>\n",
       "<table border=\"1\" class=\"dataframe\">\n",
       "  <thead>\n",
       "    <tr style=\"text-align: right;\">\n",
       "      <th></th>\n",
       "      <th>Formatted Date</th>\n",
       "      <th>Summary</th>\n",
       "      <th>Precip Type</th>\n",
       "      <th>Temperature (C)</th>\n",
       "      <th>Apparent Temperature (C)</th>\n",
       "      <th>Humidity</th>\n",
       "      <th>Wind Speed (km/h)</th>\n",
       "      <th>Wind Bearing (degrees)</th>\n",
       "      <th>Visibility (km)</th>\n",
       "      <th>Loud Cover</th>\n",
       "      <th>Pressure (millibars)</th>\n",
       "      <th>Daily Summary</th>\n",
       "    </tr>\n",
       "  </thead>\n",
       "  <tbody>\n",
       "    <tr>\n",
       "      <th>0</th>\n",
       "      <td>2006-04-01 00:00:00.000 +0200</td>\n",
       "      <td>Partly Cloudy</td>\n",
       "      <td>rain</td>\n",
       "      <td>9.472222</td>\n",
       "      <td>7.388889</td>\n",
       "      <td>0.89</td>\n",
       "      <td>14.1197</td>\n",
       "      <td>251.0</td>\n",
       "      <td>15.8263</td>\n",
       "      <td>0.0</td>\n",
       "      <td>1015.13</td>\n",
       "      <td>Partly cloudy throughout the day.</td>\n",
       "    </tr>\n",
       "    <tr>\n",
       "      <th>1</th>\n",
       "      <td>2006-04-01 01:00:00.000 +0200</td>\n",
       "      <td>Partly Cloudy</td>\n",
       "      <td>rain</td>\n",
       "      <td>9.355556</td>\n",
       "      <td>7.227778</td>\n",
       "      <td>0.86</td>\n",
       "      <td>14.2646</td>\n",
       "      <td>259.0</td>\n",
       "      <td>15.8263</td>\n",
       "      <td>0.0</td>\n",
       "      <td>1015.63</td>\n",
       "      <td>Partly cloudy throughout the day.</td>\n",
       "    </tr>\n",
       "    <tr>\n",
       "      <th>2</th>\n",
       "      <td>2006-04-01 02:00:00.000 +0200</td>\n",
       "      <td>Mostly Cloudy</td>\n",
       "      <td>rain</td>\n",
       "      <td>9.377778</td>\n",
       "      <td>9.377778</td>\n",
       "      <td>0.89</td>\n",
       "      <td>3.9284</td>\n",
       "      <td>204.0</td>\n",
       "      <td>14.9569</td>\n",
       "      <td>0.0</td>\n",
       "      <td>1015.94</td>\n",
       "      <td>Partly cloudy throughout the day.</td>\n",
       "    </tr>\n",
       "    <tr>\n",
       "      <th>3</th>\n",
       "      <td>2006-04-01 03:00:00.000 +0200</td>\n",
       "      <td>Partly Cloudy</td>\n",
       "      <td>rain</td>\n",
       "      <td>8.288889</td>\n",
       "      <td>5.944444</td>\n",
       "      <td>0.83</td>\n",
       "      <td>14.1036</td>\n",
       "      <td>269.0</td>\n",
       "      <td>15.8263</td>\n",
       "      <td>0.0</td>\n",
       "      <td>1016.41</td>\n",
       "      <td>Partly cloudy throughout the day.</td>\n",
       "    </tr>\n",
       "    <tr>\n",
       "      <th>4</th>\n",
       "      <td>2006-04-01 04:00:00.000 +0200</td>\n",
       "      <td>Mostly Cloudy</td>\n",
       "      <td>rain</td>\n",
       "      <td>8.755556</td>\n",
       "      <td>6.977778</td>\n",
       "      <td>0.83</td>\n",
       "      <td>11.0446</td>\n",
       "      <td>259.0</td>\n",
       "      <td>15.8263</td>\n",
       "      <td>0.0</td>\n",
       "      <td>1016.51</td>\n",
       "      <td>Partly cloudy throughout the day.</td>\n",
       "    </tr>\n",
       "  </tbody>\n",
       "</table>\n",
       "</div>"
      ],
      "text/plain": [
       "                  Formatted Date        Summary Precip Type  Temperature (C)  \\\n",
       "0  2006-04-01 00:00:00.000 +0200  Partly Cloudy        rain         9.472222   \n",
       "1  2006-04-01 01:00:00.000 +0200  Partly Cloudy        rain         9.355556   \n",
       "2  2006-04-01 02:00:00.000 +0200  Mostly Cloudy        rain         9.377778   \n",
       "3  2006-04-01 03:00:00.000 +0200  Partly Cloudy        rain         8.288889   \n",
       "4  2006-04-01 04:00:00.000 +0200  Mostly Cloudy        rain         8.755556   \n",
       "\n",
       "   Apparent Temperature (C)  Humidity  Wind Speed (km/h)  \\\n",
       "0                  7.388889      0.89            14.1197   \n",
       "1                  7.227778      0.86            14.2646   \n",
       "2                  9.377778      0.89             3.9284   \n",
       "3                  5.944444      0.83            14.1036   \n",
       "4                  6.977778      0.83            11.0446   \n",
       "\n",
       "   Wind Bearing (degrees)  Visibility (km)  Loud Cover  Pressure (millibars)  \\\n",
       "0                   251.0          15.8263         0.0               1015.13   \n",
       "1                   259.0          15.8263         0.0               1015.63   \n",
       "2                   204.0          14.9569         0.0               1015.94   \n",
       "3                   269.0          15.8263         0.0               1016.41   \n",
       "4                   259.0          15.8263         0.0               1016.51   \n",
       "\n",
       "                       Daily Summary  \n",
       "0  Partly cloudy throughout the day.  \n",
       "1  Partly cloudy throughout the day.  \n",
       "2  Partly cloudy throughout the day.  \n",
       "3  Partly cloudy throughout the day.  \n",
       "4  Partly cloudy throughout the day.  "
      ]
     },
     "execution_count": 4,
     "metadata": {},
     "output_type": "execute_result"
    }
   ],
   "source": [
    "ds.head()"
   ]
  },
  {
   "cell_type": "code",
   "execution_count": 5,
   "id": "35e02c61",
   "metadata": {},
   "outputs": [
    {
     "name": "stdout",
     "output_type": "stream",
     "text": [
      "<class 'pandas.core.frame.DataFrame'>\n",
      "RangeIndex: 96453 entries, 0 to 96452\n",
      "Data columns (total 12 columns):\n",
      " #   Column                    Non-Null Count  Dtype  \n",
      "---  ------                    --------------  -----  \n",
      " 0   Formatted Date            96453 non-null  object \n",
      " 1   Summary                   96453 non-null  object \n",
      " 2   Precip Type               95936 non-null  object \n",
      " 3   Temperature (C)           96453 non-null  float64\n",
      " 4   Apparent Temperature (C)  96453 non-null  float64\n",
      " 5   Humidity                  96453 non-null  float64\n",
      " 6   Wind Speed (km/h)         96453 non-null  float64\n",
      " 7   Wind Bearing (degrees)    96453 non-null  float64\n",
      " 8   Visibility (km)           96453 non-null  float64\n",
      " 9   Loud Cover                96453 non-null  float64\n",
      " 10  Pressure (millibars)      96453 non-null  float64\n",
      " 11  Daily Summary             96453 non-null  object \n",
      "dtypes: float64(8), object(4)\n",
      "memory usage: 8.8+ MB\n"
     ]
    }
   ],
   "source": [
    "ds.info()"
   ]
  },
  {
   "cell_type": "code",
   "execution_count": 6,
   "id": "0eaa05bf",
   "metadata": {},
   "outputs": [
    {
     "data": {
      "text/html": [
       "<div>\n",
       "<style scoped>\n",
       "    .dataframe tbody tr th:only-of-type {\n",
       "        vertical-align: middle;\n",
       "    }\n",
       "\n",
       "    .dataframe tbody tr th {\n",
       "        vertical-align: top;\n",
       "    }\n",
       "\n",
       "    .dataframe thead th {\n",
       "        text-align: right;\n",
       "    }\n",
       "</style>\n",
       "<table border=\"1\" class=\"dataframe\">\n",
       "  <thead>\n",
       "    <tr style=\"text-align: right;\">\n",
       "      <th></th>\n",
       "      <th>Temperature (C)</th>\n",
       "      <th>Apparent Temperature (C)</th>\n",
       "      <th>Humidity</th>\n",
       "      <th>Wind Speed (km/h)</th>\n",
       "      <th>Wind Bearing (degrees)</th>\n",
       "      <th>Visibility (km)</th>\n",
       "      <th>Loud Cover</th>\n",
       "      <th>Pressure (millibars)</th>\n",
       "    </tr>\n",
       "  </thead>\n",
       "  <tbody>\n",
       "    <tr>\n",
       "      <th>count</th>\n",
       "      <td>96453.000000</td>\n",
       "      <td>96453.000000</td>\n",
       "      <td>96453.000000</td>\n",
       "      <td>96453.000000</td>\n",
       "      <td>96453.000000</td>\n",
       "      <td>96453.000000</td>\n",
       "      <td>96453.0</td>\n",
       "      <td>96453.000000</td>\n",
       "    </tr>\n",
       "    <tr>\n",
       "      <th>mean</th>\n",
       "      <td>11.932678</td>\n",
       "      <td>10.855029</td>\n",
       "      <td>0.734899</td>\n",
       "      <td>10.810640</td>\n",
       "      <td>187.509232</td>\n",
       "      <td>10.347325</td>\n",
       "      <td>0.0</td>\n",
       "      <td>1003.235956</td>\n",
       "    </tr>\n",
       "    <tr>\n",
       "      <th>std</th>\n",
       "      <td>9.551546</td>\n",
       "      <td>10.696847</td>\n",
       "      <td>0.195473</td>\n",
       "      <td>6.913571</td>\n",
       "      <td>107.383428</td>\n",
       "      <td>4.192123</td>\n",
       "      <td>0.0</td>\n",
       "      <td>116.969906</td>\n",
       "    </tr>\n",
       "    <tr>\n",
       "      <th>min</th>\n",
       "      <td>-21.822222</td>\n",
       "      <td>-27.716667</td>\n",
       "      <td>0.000000</td>\n",
       "      <td>0.000000</td>\n",
       "      <td>0.000000</td>\n",
       "      <td>0.000000</td>\n",
       "      <td>0.0</td>\n",
       "      <td>0.000000</td>\n",
       "    </tr>\n",
       "    <tr>\n",
       "      <th>25%</th>\n",
       "      <td>4.688889</td>\n",
       "      <td>2.311111</td>\n",
       "      <td>0.600000</td>\n",
       "      <td>5.828200</td>\n",
       "      <td>116.000000</td>\n",
       "      <td>8.339800</td>\n",
       "      <td>0.0</td>\n",
       "      <td>1011.900000</td>\n",
       "    </tr>\n",
       "    <tr>\n",
       "      <th>50%</th>\n",
       "      <td>12.000000</td>\n",
       "      <td>12.000000</td>\n",
       "      <td>0.780000</td>\n",
       "      <td>9.965900</td>\n",
       "      <td>180.000000</td>\n",
       "      <td>10.046400</td>\n",
       "      <td>0.0</td>\n",
       "      <td>1016.450000</td>\n",
       "    </tr>\n",
       "    <tr>\n",
       "      <th>75%</th>\n",
       "      <td>18.838889</td>\n",
       "      <td>18.838889</td>\n",
       "      <td>0.890000</td>\n",
       "      <td>14.135800</td>\n",
       "      <td>290.000000</td>\n",
       "      <td>14.812000</td>\n",
       "      <td>0.0</td>\n",
       "      <td>1021.090000</td>\n",
       "    </tr>\n",
       "    <tr>\n",
       "      <th>max</th>\n",
       "      <td>39.905556</td>\n",
       "      <td>39.344444</td>\n",
       "      <td>1.000000</td>\n",
       "      <td>63.852600</td>\n",
       "      <td>359.000000</td>\n",
       "      <td>16.100000</td>\n",
       "      <td>0.0</td>\n",
       "      <td>1046.380000</td>\n",
       "    </tr>\n",
       "  </tbody>\n",
       "</table>\n",
       "</div>"
      ],
      "text/plain": [
       "       Temperature (C)  Apparent Temperature (C)      Humidity  \\\n",
       "count     96453.000000              96453.000000  96453.000000   \n",
       "mean         11.932678                 10.855029      0.734899   \n",
       "std           9.551546                 10.696847      0.195473   \n",
       "min         -21.822222                -27.716667      0.000000   \n",
       "25%           4.688889                  2.311111      0.600000   \n",
       "50%          12.000000                 12.000000      0.780000   \n",
       "75%          18.838889                 18.838889      0.890000   \n",
       "max          39.905556                 39.344444      1.000000   \n",
       "\n",
       "       Wind Speed (km/h)  Wind Bearing (degrees)  Visibility (km)  Loud Cover  \\\n",
       "count       96453.000000            96453.000000     96453.000000     96453.0   \n",
       "mean           10.810640              187.509232        10.347325         0.0   \n",
       "std             6.913571              107.383428         4.192123         0.0   \n",
       "min             0.000000                0.000000         0.000000         0.0   \n",
       "25%             5.828200              116.000000         8.339800         0.0   \n",
       "50%             9.965900              180.000000        10.046400         0.0   \n",
       "75%            14.135800              290.000000        14.812000         0.0   \n",
       "max            63.852600              359.000000        16.100000         0.0   \n",
       "\n",
       "       Pressure (millibars)  \n",
       "count          96453.000000  \n",
       "mean            1003.235956  \n",
       "std              116.969906  \n",
       "min                0.000000  \n",
       "25%             1011.900000  \n",
       "50%             1016.450000  \n",
       "75%             1021.090000  \n",
       "max             1046.380000  "
      ]
     },
     "execution_count": 6,
     "metadata": {},
     "output_type": "execute_result"
    }
   ],
   "source": [
    "ds.describe()"
   ]
  },
  {
   "cell_type": "code",
   "execution_count": 7,
   "id": "baa352b4",
   "metadata": {},
   "outputs": [
    {
     "data": {
      "text/plain": [
       "(96453, 12)"
      ]
     },
     "execution_count": 7,
     "metadata": {},
     "output_type": "execute_result"
    }
   ],
   "source": [
    "ds.shape"
   ]
  },
  {
   "cell_type": "markdown",
   "id": "a813d9e5",
   "metadata": {},
   "source": [
    "### data cleaning "
   ]
  },
  {
   "cell_type": "code",
   "execution_count": 9,
   "id": "46bf273c",
   "metadata": {},
   "outputs": [
    {
     "data": {
      "text/plain": [
       "Formatted Date                0\n",
       "Summary                       0\n",
       "Precip Type                 517\n",
       "Temperature (C)               0\n",
       "Apparent Temperature (C)      0\n",
       "Humidity                      0\n",
       "Wind Speed (km/h)             0\n",
       "Wind Bearing (degrees)        0\n",
       "Visibility (km)               0\n",
       "Loud Cover                    0\n",
       "Pressure (millibars)          0\n",
       "Daily Summary                 0\n",
       "dtype: int64"
      ]
     },
     "execution_count": 9,
     "metadata": {},
     "output_type": "execute_result"
    }
   ],
   "source": [
    "ds.isna().sum()"
   ]
  },
  {
   "cell_type": "code",
   "execution_count": 10,
   "id": "2454da1d",
   "metadata": {},
   "outputs": [],
   "source": [
    "ds=ds[ds['Precip Type'].notna()]"
   ]
  },
  {
   "cell_type": "code",
   "execution_count": 11,
   "id": "f7c88582",
   "metadata": {},
   "outputs": [
    {
     "data": {
      "text/plain": [
       "Formatted Date              0\n",
       "Summary                     0\n",
       "Precip Type                 0\n",
       "Temperature (C)             0\n",
       "Apparent Temperature (C)    0\n",
       "Humidity                    0\n",
       "Wind Speed (km/h)           0\n",
       "Wind Bearing (degrees)      0\n",
       "Visibility (km)             0\n",
       "Loud Cover                  0\n",
       "Pressure (millibars)        0\n",
       "Daily Summary               0\n",
       "dtype: int64"
      ]
     },
     "execution_count": 11,
     "metadata": {},
     "output_type": "execute_result"
    }
   ],
   "source": [
    "ds.isna().sum()"
   ]
  },
  {
   "cell_type": "code",
   "execution_count": 12,
   "id": "e6d126dc",
   "metadata": {},
   "outputs": [
    {
     "data": {
      "text/plain": [
       "(95936, 12)"
      ]
     },
     "execution_count": 12,
     "metadata": {},
     "output_type": "execute_result"
    }
   ],
   "source": [
    "ds.shape"
   ]
  },
  {
   "cell_type": "code",
   "execution_count": 13,
   "id": "87efe847",
   "metadata": {},
   "outputs": [
    {
     "data": {
      "text/plain": [
       "<AxesSubplot:>"
      ]
     },
     "execution_count": 13,
     "metadata": {},
     "output_type": "execute_result"
    },
    {
     "data": {
      "image/png": "[encoded data removed]",
      "text/plain": [
       "<Figure size 432x288 with 1 Axes>"
      ]
     },
     "metadata": {
      "needs_background": "light"
     },
     "output_type": "display_data"
    }
   ],
   "source": [
    "sns.boxplot(data=ds)"
   ]
  },
  {
   "cell_type": "code",
   "execution_count": 14,
   "id": "256b5538",
   "metadata": {},
   "outputs": [
    {
     "name": "stderr",
     "output_type": "stream",
     "text": [
      "D:\\ProgramData\\Anaconda3\\lib\\site-packages\\seaborn\\distributions.py:2619: FutureWarning: `distplot` is a deprecated function and will be removed in a future version. Please adapt your code to use either `displot` (a figure-level function with similar flexibility) or `histplot` (an axes-level function for histograms).\n",
      "  warnings.warn(msg, FutureWarning)\n"
     ]
    },
    {
     "data": {
      "text/plain": [
       "<AxesSubplot:xlabel='Humidity', ylabel='Density'>"
      ]
     },
     "execution_count": 14,
     "metadata": {},
     "output_type": "execute_result"
    },
    {
     "data": {
      "image/png": "[encoded data removed]",
      "text/plain": [
       "<Figure size 432x288 with 1 Axes>"
      ]
     },
     "metadata": {
      "needs_background": "light"
     },
     "output_type": "display_data"
    }
   ],
   "source": [
    "sns.distplot(ds['Humidity'])"
   ]
  },
  {
   "cell_type": "code",
   "execution_count": 15,
   "id": "b671ea5e",
   "metadata": {},
   "outputs": [
    {
     "data": {
      "text/plain": [
       "<AxesSubplot:>"
      ]
     },
     "execution_count": 15,
     "metadata": {},
     "output_type": "execute_result"
    },
    {
     "data": {
      "image/png": "[encoded data removed]",
      "text/plain": [
       "<Figure size 432x288 with 1 Axes>"
      ]
     },
     "metadata": {
      "needs_background": "light"
     },
     "output_type": "display_data"
    }
   ],
   "source": [
    "sns.boxplot(data=ds['Humidity'])"
   ]
  },
  {
   "cell_type": "code",
   "execution_count": 16,
   "id": "6d3717cb",
   "metadata": {},
   "outputs": [
    {
     "data": {
      "text/plain": [
       "<AxesSubplot:>"
      ]
     },
     "execution_count": 16,
     "metadata": {},
     "output_type": "execute_result"
    },
    {
     "data": {
      "image/png": "[encoded data removed]",
      "text/plain": [
       "<Figure size 432x288 with 1 Axes>"
      ]
     },
     "metadata": {
      "needs_background": "light"
     },
     "output_type": "display_data"
    }
   ],
   "source": [
    "sns.boxplot(data=ds['Wind Speed (km/h)'])"
   ]
  },
  {
   "cell_type": "code",
   "execution_count": 17,
   "id": "06707ef9",
   "metadata": {},
   "outputs": [
    {
     "data": {
      "text/plain": [
       "<AxesSubplot:>"
      ]
     },
     "execution_count": 17,
     "metadata": {},
     "output_type": "execute_result"
    },
    {
     "data": {
      "image/png": "[encoded data removed]",
      "text/plain": [
       "<Figure size 432x288 with 1 Axes>"
      ]
     },
     "metadata": {
      "needs_background": "light"
     },
     "output_type": "display_data"
    }
   ],
   "source": [
    "sns.boxplot(data=ds['Pressure (millibars)'])"
   ]
  },
  {
   "cell_type": "code",
   "execution_count": 18,
   "id": "167241c7",
   "metadata": {},
   "outputs": [],
   "source": [
    "ds=ds[(ds['Humidity']>=0) & (ds['Wind Speed (km/h)']<=60) & (ds['Pressure (millibars)']>0)]"
   ]
  },
  {
   "cell_type": "code",
   "execution_count": 19,
   "id": "bc847455",
   "metadata": {},
   "outputs": [
    {
     "data": {
      "text/plain": [
       "(94647, 12)"
      ]
     },
     "execution_count": 19,
     "metadata": {},
     "output_type": "execute_result"
    }
   ],
   "source": [
    "ds.shape"
   ]
  },
  {
   "cell_type": "code",
   "execution_count": 20,
   "id": "e806bf1d",
   "metadata": {},
   "outputs": [
    {
     "data": {
      "text/plain": [
       "array([0.89, 0.85, 0.82, ..., 0.89, 0.91, 0.92])"
      ]
     },
     "execution_count": 20,
     "metadata": {},
     "output_type": "execute_result"
    }
   ],
   "source": [
    "x=ds[\"Humidity\"].values\n",
    "x"
   ]
  },
  {
   "cell_type": "code",
   "execution_count": 21,
   "id": "07e1ea78",
   "metadata": {},
   "outputs": [
    {
     "data": {
      "text/plain": [
       "(94647,)"
      ]
     },
     "execution_count": 21,
     "metadata": {},
     "output_type": "execute_result"
    }
   ],
   "source": [
    "x.shape"
   ]
  },
  {
   "cell_type": "code",
   "execution_count": 22,
   "id": "db3fa645",
   "metadata": {},
   "outputs": [
    {
     "data": {
      "text/plain": [
       "array([-4.05      , -3.23888889, -3.15555556, ..., -3.37777778,\n",
       "       -3.64444444, -3.88888889])"
      ]
     },
     "execution_count": 22,
     "metadata": {},
     "output_type": "execute_result"
    }
   ],
   "source": [
    "y=ds['Apparent Temperature (C)'].values\n",
    "y"
   ]
  },
  {
   "cell_type": "code",
   "execution_count": 23,
   "id": "08b74a0c",
   "metadata": {},
   "outputs": [
    {
     "data": {
      "text/plain": [
       "(94647,)"
      ]
     },
     "execution_count": 23,
     "metadata": {},
     "output_type": "execute_result"
    }
   ],
   "source": [
    "y.shape"
   ]
  },
  {
   "cell_type": "markdown",
   "id": "26d4d662",
   "metadata": {},
   "source": [
    "### Feature scalling "
   ]
  },
  {
   "cell_type": "code",
   "execution_count": 24,
   "id": "d86a15ed",
   "metadata": {},
   "outputs": [],
   "source": [
    "def standardScalling(x):\n",
    "    x_mean=np.mean(x,axis=0)\n",
    "    x_std=np.std(x,axis=0)\n",
    "    x_scale=(x-x_mean)/x_std\n",
    "    return x_scale"
   ]
  },
  {
   "cell_type": "code",
   "execution_count": 25,
   "id": "1dd12319",
   "metadata": {},
   "outputs": [],
   "source": [
    "y=standardScalling(y)\n",
    "x=standardScalling(x)\n"
   ]
  },
  {
   "cell_type": "code",
   "execution_count": 26,
   "id": "4c26dd86",
   "metadata": {},
   "outputs": [],
   "source": [
    "split_ratio=0.8\n",
    "split_index=int(split_ratio*len(x))"
   ]
  },
  {
   "cell_type": "markdown",
   "id": "4d185059",
   "metadata": {},
   "source": [
    "### split into training and testing"
   ]
  },
  {
   "cell_type": "code",
   "execution_count": 27,
   "id": "ce15951f",
   "metadata": {},
   "outputs": [],
   "source": [
    "x_train=x[:split_index]\n",
    "x_test=x[split_index:]\n",
    "y_train=y[:split_index]\n",
    "y_test=y[split_index:]"
   ]
  },
  {
   "cell_type": "code",
   "execution_count": 28,
   "id": "e1a068ec",
   "metadata": {},
   "outputs": [
    {
     "name": "stderr",
     "output_type": "stream",
     "text": [
      "D:\\ProgramData\\Anaconda3\\lib\\site-packages\\seaborn\\distributions.py:2619: FutureWarning: `distplot` is a deprecated function and will be removed in a future version. Please adapt your code to use either `displot` (a figure-level function with similar flexibility) or `histplot` (an axes-level function for histograms).\n",
      "  warnings.warn(msg, FutureWarning)\n"
     ]
    },
    {
     "data": {
      "text/plain": [
       "<AxesSubplot:ylabel='Density'>"
      ]
     },
     "execution_count": 28,
     "metadata": {},
     "output_type": "execute_result"
    },
    {
     "data": {
      "image/png": "[encoded data removed]",
      "text/plain": [
       "<Figure size 432x288 with 1 Axes>"
      ]
     },
     "metadata": {
      "needs_background": "light"
     },
     "output_type": "display_data"
    }
   ],
   "source": [
    "sns.distplot(x_train,color='green')"
   ]
  },
  {
   "cell_type": "code",
   "execution_count": 29,
   "id": "be1d7f04",
   "metadata": {},
   "outputs": [
    {
     "data": {
      "text/plain": [
       "((75717,), (18930,))"
      ]
     },
     "execution_count": 29,
     "metadata": {},
     "output_type": "execute_result"
    }
   ],
   "source": [
    "x_train.shape,x_test.shape"
   ]
  },
  {
   "cell_type": "code",
   "execution_count": 30,
   "id": "0d277664",
   "metadata": {},
   "outputs": [
    {
     "data": {
      "text/plain": [
       "((75717,), (18930,))"
      ]
     },
     "execution_count": 30,
     "metadata": {},
     "output_type": "execute_result"
    }
   ],
   "source": [
    "y_train.shape,y_test.shape"
   ]
  },
  {
   "cell_type": "markdown",
   "id": "7248bbfe",
   "metadata": {},
   "source": [
    "### linear regression "
   ]
  },
  {
   "cell_type": "code",
   "execution_count": 31,
   "id": "d2213130",
   "metadata": {},
   "outputs": [
    {
     "data": {
      "text/plain": [
       "((75717, 1), (75717, 1))"
      ]
     },
     "execution_count": 31,
     "metadata": {},
     "output_type": "execute_result"
    }
   ],
   "source": [
    "x_train=x_train.reshape(-1,1)\n",
    "y_train=y_train.reshape(-1,1)\n",
    "x_train.shape,y_train.shape"
   ]
  },
  {
   "cell_type": "code",
   "execution_count": 32,
   "id": "5e8700d8",
   "metadata": {},
   "outputs": [
    {
     "data": {
      "text/plain": [
       "((18930, 1), (18930, 1))"
      ]
     },
     "execution_count": 32,
     "metadata": {},
     "output_type": "execute_result"
    }
   ],
   "source": [
    "x_test=x_test.reshape(-1,1)\n",
    "y_test=y_test.reshape(-1,1)\n",
    "x_test.shape,y_test.shape"
   ]
  },
  {
   "cell_type": "code",
   "execution_count": 33,
   "id": "1ee62be4",
   "metadata": {},
   "outputs": [
    {
     "data": {
      "text/plain": [
       "(1, 2)"
      ]
     },
     "execution_count": 33,
     "metadata": {},
     "output_type": "execute_result"
    }
   ],
   "source": [
    "theta=np.zeros((1,2))\n",
    "theta.shape"
   ]
  },
  {
   "cell_type": "code",
   "execution_count": 34,
   "id": "67f6df80",
   "metadata": {},
   "outputs": [
    {
     "data": {
      "text/plain": [
       "(75717, 2)"
      ]
     },
     "execution_count": 34,
     "metadata": {},
     "output_type": "execute_result"
    }
   ],
   "source": [
    "x1=np.ones((x_train.shape[0],1))\n",
    "x_train=np.concatenate((x1,x_train),axis=1)\n",
    "x_train.shape"
   ]
  },
  {
   "cell_type": "code",
   "execution_count": 35,
   "id": "46dc2ec3",
   "metadata": {},
   "outputs": [
    {
     "data": {
      "text/plain": [
       "(18930, 2)"
      ]
     },
     "execution_count": 35,
     "metadata": {},
     "output_type": "execute_result"
    }
   ],
   "source": [
    "x1=np.ones((x_test.shape[0],1))\n",
    "x_test=np.concatenate((x1,x_test),axis=1)\n",
    "x_test.shape"
   ]
  },
  {
   "cell_type": "code",
   "execution_count": 36,
   "id": "abbb98ac",
   "metadata": {},
   "outputs": [],
   "source": [
    "def compute_cost(x_train,y_train,theta): \n",
    "    \"\"\"\n",
    "    Description :\n",
    "        This function is used to calculate cost\n",
    "    Parameters :\n",
    "        x_train: actual data traing\n",
    "        y_train:prdicted data traing\n",
    "        theta:parameters\n",
    "    Return :\n",
    "        It returns the cost\n",
    "    \"\"\"    \n",
    "    hx=np.dot(x_train,theta.T) \n",
    "    cost=np.sum((hx-y_train)**2)/(2*len(x_train))\n",
    "    return cost     \n",
    "      "
   ]
  },
  {
   "cell_type": "code",
   "execution_count": 37,
   "id": "023d6cba",
   "metadata": {},
   "outputs": [],
   "source": [
    "def gradient_descent(x_train,y_train,theta,alpha,epoch):\n",
    "    \"\"\"\n",
    "    Description :\n",
    "        This function is used to update paramenter(theata)\n",
    "    Parameters :\n",
    "        x_train: actual data traing\n",
    "        y_train:prdicted data traing\n",
    "        theta:parameters\n",
    "        alpha : learning rate\n",
    "        epoch :number of iterations\n",
    "    Return :\n",
    "        It returns the updated theta\n",
    "    \"\"\" \n",
    "    for i in range(epoch):\n",
    "        hx=np.dot(x_train,theta.T)       \n",
    "        \n",
    "        theta=theta-alpha/(len(x_train))*np.sum((hx-y_train)*x_train,axis=0)\n",
    "        cost=compute_cost(x_train,y_train,theta)\n",
    "        print(f\"Epoch {i+1} theta0 = {theta[0][0]} theta1 = {theta[0][1]} cost = {cost}\")\n",
    "    return theta,cost"
   ]
  },
  {
   "cell_type": "code",
   "execution_count": 38,
   "id": "0cba4707",
   "metadata": {},
   "outputs": [
    {
     "name": "stdout",
     "output_type": "stream",
     "text": [
      "Epoch 1 theta0 = 0.0013049535832074033 theta1 = -0.4290818990963672 cost = 0.3429318792667135\n",
      "Epoch 2 theta0 = -0.006132384231946162 theta1 = -0.5541719416267399 cost = 0.3284204807735601\n",
      "Epoch 3 theta0 = -0.010645918891971893 theta1 = -0.5907820217078034 cost = 0.327160750651029\n",
      "Epoch 4 theta0 = -0.012667949367862419 theta1 = -0.6015393242694423 cost = 0.3270496288114219\n",
      "Epoch 5 theta0 = -0.013470831127734397 theta1 = -0.604712885505575 cost = 0.3270396722609976\n",
      "Epoch 6 theta0 = -0.01376959894193202 theta1 = -0.6056528974050596 cost = 0.327038766859125\n",
      "Epoch 7 theta0 = -0.013876380295430233 theta1 = -0.605932441964293 cost = 0.32703868339961334\n",
      "Epoch 8 theta0 = -0.013913515138315404 theta1 = -0.6060159012505589 cost = 0.3270386756122817\n",
      "Epoch 9 theta0 = -0.013926178349553465 theta1 = -0.6060409142724679 cost = 0.32703867487792165\n",
      "Epoch 10 theta0 = -0.013930433688603902 theta1 = -0.6060484387417613 cost = 0.32703867480803933\n",
      "Epoch 11 theta0 = -0.013931847578200974 theta1 = -0.6060507104051437 cost = 0.32703867480133847\n",
      "Epoch 12 theta0 = -0.01393231319276797 theta1 = -0.6060513985853018 cost = 0.32703867480069193\n",
      "Epoch 13 theta0 = -0.01393246543334533 theta1 = -0.606051607743705 cost = 0.3270386748006292\n",
      "Epoch 14 theta0 = -0.013932514921722847 theta1 = -0.6060516715088704 cost = 0.3270386748006231\n",
      "Epoch 15 theta0 = -0.01393253093166458 theta1 = -0.6060516910047784 cost = 0.3270386748006225\n",
      "Epoch 16 theta0 = -0.013932536090360971 theta1 = -0.6060516969816028 cost = 0.32703867480062243\n",
      "Epoch 17 theta0 = -0.013932537747019948 theta1 = -0.6060516988184784 cost = 0.3270386748006224\n",
      "Epoch 18 theta0 = -0.013932538277532226 theta1 = -0.6060516993843102 cost = 0.3270386748006224\n",
      "Epoch 19 theta0 = -0.013932538447010126 theta1 = -0.606051699558978 cost = 0.3270386748006225\n",
      "Epoch 20 theta0 = -0.013932538501040353 theta1 = -0.6060516996130005 cost = 0.32703867480062243\n",
      "Epoch 21 theta0 = -0.01393253851823536 theta1 = -0.6060516996297386 cost = 0.3270386748006225\n",
      "Epoch 22 theta0 = -0.013932538523699118 theta1 = -0.6060516996349328 cost = 0.32703867480062243\n",
      "Epoch 23 theta0 = -0.013932538525433313 theta1 = -0.6060516996365473 cost = 0.3270386748006224\n",
      "Epoch 24 theta0 = -0.013932538525982582 theta1 = -0.6060516996370494 cost = 0.3270386748006224\n",
      "Epoch 25 theta0 = -0.013932538526156456 theta1 = -0.606051699637206 cost = 0.3270386748006225\n",
      "Epoch 26 theta0 = -0.013932538526211506 theta1 = -0.6060516996372547 cost = 0.3270386748006225\n",
      "Epoch 27 theta0 = -0.013932538526228883 theta1 = -0.6060516996372701 cost = 0.32703867480062243\n",
      "Epoch 28 theta0 = -0.013932538526234477 theta1 = -0.6060516996372749 cost = 0.32703867480062243\n",
      "Epoch 29 theta0 = -0.013932538526236455 theta1 = -0.6060516996372763 cost = 0.3270386748006225\n",
      "Epoch 30 theta0 = -0.013932538526237095 theta1 = -0.6060516996372769 cost = 0.3270386748006224\n",
      "Epoch 31 theta0 = -0.013932538526237322 theta1 = -0.606051699637277 cost = 0.3270386748006224\n",
      "Epoch 32 theta0 = -0.013932538526237383 theta1 = -0.606051699637277 cost = 0.32703867480062243\n",
      "Epoch 33 theta0 = -0.013932538526237366 theta1 = -0.6060516996372771 cost = 0.3270386748006225\n",
      "Epoch 34 theta0 = -0.013932538526237387 theta1 = -0.6060516996372771 cost = 0.3270386748006225\n",
      "Epoch 35 theta0 = -0.013932538526237378 theta1 = -0.6060516996372771 cost = 0.3270386748006225\n",
      "Epoch 36 theta0 = -0.013932538526237399 theta1 = -0.6060516996372771 cost = 0.32703867480062243\n",
      "Epoch 37 theta0 = -0.013932538526237381 theta1 = -0.6060516996372771 cost = 0.32703867480062243\n",
      "Epoch 38 theta0 = -0.01393253852623739 theta1 = -0.6060516996372771 cost = 0.3270386748006225\n",
      "Epoch 39 theta0 = -0.013932538526237381 theta1 = -0.6060516996372771 cost = 0.32703867480062243\n",
      "Epoch 40 theta0 = -0.01393253852623739 theta1 = -0.6060516996372771 cost = 0.3270386748006225\n",
      "Epoch 41 theta0 = -0.013932538526237381 theta1 = -0.6060516996372771 cost = 0.32703867480062243\n",
      "Epoch 42 theta0 = -0.01393253852623739 theta1 = -0.6060516996372771 cost = 0.3270386748006225\n",
      "Epoch 43 theta0 = -0.013932538526237381 theta1 = -0.6060516996372771 cost = 0.32703867480062243\n",
      "Epoch 44 theta0 = -0.01393253852623739 theta1 = -0.6060516996372771 cost = 0.3270386748006225\n",
      "Epoch 45 theta0 = -0.013932538526237381 theta1 = -0.6060516996372771 cost = 0.32703867480062243\n",
      "Epoch 46 theta0 = -0.01393253852623739 theta1 = -0.6060516996372771 cost = 0.3270386748006225\n",
      "Epoch 47 theta0 = -0.013932538526237381 theta1 = -0.6060516996372771 cost = 0.32703867480062243\n",
      "Epoch 48 theta0 = -0.01393253852623739 theta1 = -0.6060516996372771 cost = 0.3270386748006225\n",
      "Epoch 49 theta0 = -0.013932538526237381 theta1 = -0.6060516996372771 cost = 0.32703867480062243\n",
      "Epoch 50 theta0 = -0.01393253852623739 theta1 = -0.6060516996372771 cost = 0.3270386748006225\n",
      "Epoch 51 theta0 = -0.013932538526237381 theta1 = -0.6060516996372771 cost = 0.32703867480062243\n",
      "Epoch 52 theta0 = -0.01393253852623739 theta1 = -0.6060516996372771 cost = 0.3270386748006225\n",
      "Epoch 53 theta0 = -0.013932538526237381 theta1 = -0.6060516996372771 cost = 0.32703867480062243\n",
      "Epoch 54 theta0 = -0.01393253852623739 theta1 = -0.6060516996372771 cost = 0.3270386748006225\n",
      "Epoch 55 theta0 = -0.013932538526237381 theta1 = -0.6060516996372771 cost = 0.32703867480062243\n",
      "Epoch 56 theta0 = -0.01393253852623739 theta1 = -0.6060516996372771 cost = 0.3270386748006225\n",
      "Epoch 57 theta0 = -0.013932538526237381 theta1 = -0.6060516996372771 cost = 0.32703867480062243\n",
      "Epoch 58 theta0 = -0.01393253852623739 theta1 = -0.6060516996372771 cost = 0.3270386748006225\n",
      "Epoch 59 theta0 = -0.013932538526237381 theta1 = -0.6060516996372771 cost = 0.32703867480062243\n",
      "Epoch 60 theta0 = -0.01393253852623739 theta1 = -0.6060516996372771 cost = 0.3270386748006225\n",
      "Epoch 61 theta0 = -0.013932538526237381 theta1 = -0.6060516996372771 cost = 0.32703867480062243\n",
      "Epoch 62 theta0 = -0.01393253852623739 theta1 = -0.6060516996372771 cost = 0.3270386748006225\n",
      "Epoch 63 theta0 = -0.013932538526237381 theta1 = -0.6060516996372771 cost = 0.32703867480062243\n",
      "Epoch 64 theta0 = -0.01393253852623739 theta1 = -0.6060516996372771 cost = 0.3270386748006225\n",
      "Epoch 65 theta0 = -0.013932538526237381 theta1 = -0.6060516996372771 cost = 0.32703867480062243\n",
      "Epoch 66 theta0 = -0.01393253852623739 theta1 = -0.6060516996372771 cost = 0.3270386748006225\n",
      "Epoch 67 theta0 = -0.013932538526237381 theta1 = -0.6060516996372771 cost = 0.32703867480062243\n",
      "Epoch 68 theta0 = -0.01393253852623739 theta1 = -0.6060516996372771 cost = 0.3270386748006225\n",
      "Epoch 69 theta0 = -0.013932538526237381 theta1 = -0.6060516996372771 cost = 0.32703867480062243\n",
      "Epoch 70 theta0 = -0.01393253852623739 theta1 = -0.6060516996372771 cost = 0.3270386748006225\n",
      "Epoch 71 theta0 = -0.013932538526237381 theta1 = -0.6060516996372771 cost = 0.32703867480062243\n",
      "Epoch 72 theta0 = -0.01393253852623739 theta1 = -0.6060516996372771 cost = 0.3270386748006225\n",
      "Epoch 73 theta0 = -0.013932538526237381 theta1 = -0.6060516996372771 cost = 0.32703867480062243\n",
      "Epoch 74 theta0 = -0.01393253852623739 theta1 = -0.6060516996372771 cost = 0.3270386748006225\n",
      "Epoch 75 theta0 = -0.013932538526237381 theta1 = -0.6060516996372771 cost = 0.32703867480062243\n",
      "Epoch 76 theta0 = -0.01393253852623739 theta1 = -0.6060516996372771 cost = 0.3270386748006225\n",
      "Epoch 77 theta0 = -0.013932538526237381 theta1 = -0.6060516996372771 cost = 0.32703867480062243\n",
      "Epoch 78 theta0 = -0.01393253852623739 theta1 = -0.6060516996372771 cost = 0.3270386748006225\n",
      "Epoch 79 theta0 = -0.013932538526237381 theta1 = -0.6060516996372771 cost = 0.32703867480062243\n",
      "Epoch 80 theta0 = -0.01393253852623739 theta1 = -0.6060516996372771 cost = 0.3270386748006225\n",
      "Epoch 81 theta0 = -0.013932538526237381 theta1 = -0.6060516996372771 cost = 0.32703867480062243\n",
      "Epoch 82 theta0 = -0.01393253852623739 theta1 = -0.6060516996372771 cost = 0.3270386748006225\n",
      "Epoch 83 theta0 = -0.013932538526237381 theta1 = -0.6060516996372771 cost = 0.32703867480062243\n",
      "Epoch 84 theta0 = -0.01393253852623739 theta1 = -0.6060516996372771 cost = 0.3270386748006225\n",
      "Epoch 85 theta0 = -0.013932538526237381 theta1 = -0.6060516996372771 cost = 0.32703867480062243\n",
      "Epoch 86 theta0 = -0.01393253852623739 theta1 = -0.6060516996372771 cost = 0.3270386748006225\n",
      "Epoch 87 theta0 = -0.013932538526237381 theta1 = -0.6060516996372771 cost = 0.32703867480062243\n",
      "Epoch 88 theta0 = -0.01393253852623739 theta1 = -0.6060516996372771 cost = 0.3270386748006225\n",
      "Epoch 89 theta0 = -0.013932538526237381 theta1 = -0.6060516996372771 cost = 0.32703867480062243\n",
      "Epoch 90 theta0 = -0.01393253852623739 theta1 = -0.6060516996372771 cost = 0.3270386748006225\n",
      "Epoch 91 theta0 = -0.013932538526237381 theta1 = -0.6060516996372771 cost = 0.32703867480062243\n",
      "Epoch 92 theta0 = -0.01393253852623739 theta1 = -0.6060516996372771 cost = 0.3270386748006225\n",
      "Epoch 93 theta0 = -0.013932538526237381 theta1 = -0.6060516996372771 cost = 0.32703867480062243\n",
      "Epoch 94 theta0 = -0.01393253852623739 theta1 = -0.6060516996372771 cost = 0.3270386748006225\n",
      "Epoch 95 theta0 = -0.013932538526237381 theta1 = -0.6060516996372771 cost = 0.32703867480062243\n",
      "Epoch 96 theta0 = -0.01393253852623739 theta1 = -0.6060516996372771 cost = 0.3270386748006225\n",
      "Epoch 97 theta0 = -0.013932538526237381 theta1 = -0.6060516996372771 cost = 0.32703867480062243\n",
      "Epoch 98 theta0 = -0.01393253852623739 theta1 = -0.6060516996372771 cost = 0.3270386748006225\n",
      "Epoch 99 theta0 = -0.013932538526237381 theta1 = -0.6060516996372771 cost = 0.32703867480062243\n",
      "Epoch 100 theta0 = -0.01393253852623739 theta1 = -0.6060516996372771 cost = 0.3270386748006225\n",
      "Epoch 101 theta0 = -0.013932538526237381 theta1 = -0.6060516996372771 cost = 0.32703867480062243\n",
      "Epoch 102 theta0 = -0.01393253852623739 theta1 = -0.6060516996372771 cost = 0.3270386748006225\n",
      "Epoch 103 theta0 = -0.013932538526237381 theta1 = -0.6060516996372771 cost = 0.32703867480062243\n",
      "Epoch 104 theta0 = -0.01393253852623739 theta1 = -0.6060516996372771 cost = 0.3270386748006225\n",
      "Epoch 105 theta0 = -0.013932538526237381 theta1 = -0.6060516996372771 cost = 0.32703867480062243\n",
      "Epoch 106 theta0 = -0.01393253852623739 theta1 = -0.6060516996372771 cost = 0.3270386748006225\n",
      "Epoch 107 theta0 = -0.013932538526237381 theta1 = -0.6060516996372771 cost = 0.32703867480062243\n",
      "Epoch 108 theta0 = -0.01393253852623739 theta1 = -0.6060516996372771 cost = 0.3270386748006225\n",
      "Epoch 109 theta0 = -0.013932538526237381 theta1 = -0.6060516996372771 cost = 0.32703867480062243\n",
      "Epoch 110 theta0 = -0.01393253852623739 theta1 = -0.6060516996372771 cost = 0.3270386748006225\n",
      "Epoch 111 theta0 = -0.013932538526237381 theta1 = -0.6060516996372771 cost = 0.32703867480062243\n",
      "Epoch 112 theta0 = -0.01393253852623739 theta1 = -0.6060516996372771 cost = 0.3270386748006225\n",
      "Epoch 113 theta0 = -0.013932538526237381 theta1 = -0.6060516996372771 cost = 0.32703867480062243\n",
      "Epoch 114 theta0 = -0.01393253852623739 theta1 = -0.6060516996372771 cost = 0.3270386748006225\n",
      "Epoch 115 theta0 = -0.013932538526237381 theta1 = -0.6060516996372771 cost = 0.32703867480062243\n",
      "Epoch 116 theta0 = -0.01393253852623739 theta1 = -0.6060516996372771 cost = 0.3270386748006225\n",
      "Epoch 117 theta0 = -0.013932538526237381 theta1 = -0.6060516996372771 cost = 0.32703867480062243\n",
      "Epoch 118 theta0 = -0.01393253852623739 theta1 = -0.6060516996372771 cost = 0.3270386748006225\n",
      "Epoch 119 theta0 = -0.013932538526237381 theta1 = -0.6060516996372771 cost = 0.32703867480062243\n",
      "Epoch 120 theta0 = -0.01393253852623739 theta1 = -0.6060516996372771 cost = 0.3270386748006225\n",
      "Epoch 121 theta0 = -0.013932538526237381 theta1 = -0.6060516996372771 cost = 0.32703867480062243\n",
      "Epoch 122 theta0 = -0.01393253852623739 theta1 = -0.6060516996372771 cost = 0.3270386748006225\n",
      "Epoch 123 theta0 = -0.013932538526237381 theta1 = -0.6060516996372771 cost = 0.32703867480062243\n",
      "Epoch 124 theta0 = -0.01393253852623739 theta1 = -0.6060516996372771 cost = 0.3270386748006225\n",
      "Epoch 125 theta0 = -0.013932538526237381 theta1 = -0.6060516996372771 cost = 0.32703867480062243\n",
      "Epoch 126 theta0 = -0.01393253852623739 theta1 = -0.6060516996372771 cost = 0.3270386748006225\n",
      "Epoch 127 theta0 = -0.013932538526237381 theta1 = -0.6060516996372771 cost = 0.32703867480062243\n",
      "Epoch 128 theta0 = -0.01393253852623739 theta1 = -0.6060516996372771 cost = 0.3270386748006225\n",
      "Epoch 129 theta0 = -0.013932538526237381 theta1 = -0.6060516996372771 cost = 0.32703867480062243\n",
      "Epoch 130 theta0 = -0.01393253852623739 theta1 = -0.6060516996372771 cost = 0.3270386748006225\n",
      "Epoch 131 theta0 = -0.013932538526237381 theta1 = -0.6060516996372771 cost = 0.32703867480062243\n",
      "Epoch 132 theta0 = -0.01393253852623739 theta1 = -0.6060516996372771 cost = 0.3270386748006225\n",
      "Epoch 133 theta0 = -0.013932538526237381 theta1 = -0.6060516996372771 cost = 0.32703867480062243\n"
     ]
    },
    {
     "name": "stdout",
     "output_type": "stream",
     "text": [
      "Epoch 134 theta0 = -0.01393253852623739 theta1 = -0.6060516996372771 cost = 0.3270386748006225\n",
      "Epoch 135 theta0 = -0.013932538526237381 theta1 = -0.6060516996372771 cost = 0.32703867480062243\n",
      "Epoch 136 theta0 = -0.01393253852623739 theta1 = -0.6060516996372771 cost = 0.3270386748006225\n",
      "Epoch 137 theta0 = -0.013932538526237381 theta1 = -0.6060516996372771 cost = 0.32703867480062243\n",
      "Epoch 138 theta0 = -0.01393253852623739 theta1 = -0.6060516996372771 cost = 0.3270386748006225\n",
      "Epoch 139 theta0 = -0.013932538526237381 theta1 = -0.6060516996372771 cost = 0.32703867480062243\n",
      "Epoch 140 theta0 = -0.01393253852623739 theta1 = -0.6060516996372771 cost = 0.3270386748006225\n",
      "Epoch 141 theta0 = -0.013932538526237381 theta1 = -0.6060516996372771 cost = 0.32703867480062243\n",
      "Epoch 142 theta0 = -0.01393253852623739 theta1 = -0.6060516996372771 cost = 0.3270386748006225\n",
      "Epoch 143 theta0 = -0.013932538526237381 theta1 = -0.6060516996372771 cost = 0.32703867480062243\n",
      "Epoch 144 theta0 = -0.01393253852623739 theta1 = -0.6060516996372771 cost = 0.3270386748006225\n",
      "Epoch 145 theta0 = -0.013932538526237381 theta1 = -0.6060516996372771 cost = 0.32703867480062243\n",
      "Epoch 146 theta0 = -0.01393253852623739 theta1 = -0.6060516996372771 cost = 0.3270386748006225\n",
      "Epoch 147 theta0 = -0.013932538526237381 theta1 = -0.6060516996372771 cost = 0.32703867480062243\n",
      "Epoch 148 theta0 = -0.01393253852623739 theta1 = -0.6060516996372771 cost = 0.3270386748006225\n",
      "Epoch 149 theta0 = -0.013932538526237381 theta1 = -0.6060516996372771 cost = 0.32703867480062243\n",
      "Epoch 150 theta0 = -0.01393253852623739 theta1 = -0.6060516996372771 cost = 0.3270386748006225\n",
      "Epoch 151 theta0 = -0.013932538526237381 theta1 = -0.6060516996372771 cost = 0.32703867480062243\n",
      "Epoch 152 theta0 = -0.01393253852623739 theta1 = -0.6060516996372771 cost = 0.3270386748006225\n",
      "Epoch 153 theta0 = -0.013932538526237381 theta1 = -0.6060516996372771 cost = 0.32703867480062243\n",
      "Epoch 154 theta0 = -0.01393253852623739 theta1 = -0.6060516996372771 cost = 0.3270386748006225\n",
      "Epoch 155 theta0 = -0.013932538526237381 theta1 = -0.6060516996372771 cost = 0.32703867480062243\n",
      "Epoch 156 theta0 = -0.01393253852623739 theta1 = -0.6060516996372771 cost = 0.3270386748006225\n",
      "Epoch 157 theta0 = -0.013932538526237381 theta1 = -0.6060516996372771 cost = 0.32703867480062243\n",
      "Epoch 158 theta0 = -0.01393253852623739 theta1 = -0.6060516996372771 cost = 0.3270386748006225\n",
      "Epoch 159 theta0 = -0.013932538526237381 theta1 = -0.6060516996372771 cost = 0.32703867480062243\n",
      "Epoch 160 theta0 = -0.01393253852623739 theta1 = -0.6060516996372771 cost = 0.3270386748006225\n",
      "Epoch 161 theta0 = -0.013932538526237381 theta1 = -0.6060516996372771 cost = 0.32703867480062243\n",
      "Epoch 162 theta0 = -0.01393253852623739 theta1 = -0.6060516996372771 cost = 0.3270386748006225\n",
      "Epoch 163 theta0 = -0.013932538526237381 theta1 = -0.6060516996372771 cost = 0.32703867480062243\n",
      "Epoch 164 theta0 = -0.01393253852623739 theta1 = -0.6060516996372771 cost = 0.3270386748006225\n",
      "Epoch 165 theta0 = -0.013932538526237381 theta1 = -0.6060516996372771 cost = 0.32703867480062243\n",
      "Epoch 166 theta0 = -0.01393253852623739 theta1 = -0.6060516996372771 cost = 0.3270386748006225\n",
      "Epoch 167 theta0 = -0.013932538526237381 theta1 = -0.6060516996372771 cost = 0.32703867480062243\n",
      "Epoch 168 theta0 = -0.01393253852623739 theta1 = -0.6060516996372771 cost = 0.3270386748006225\n",
      "Epoch 169 theta0 = -0.013932538526237381 theta1 = -0.6060516996372771 cost = 0.32703867480062243\n",
      "Epoch 170 theta0 = -0.01393253852623739 theta1 = -0.6060516996372771 cost = 0.3270386748006225\n",
      "Epoch 171 theta0 = -0.013932538526237381 theta1 = -0.6060516996372771 cost = 0.32703867480062243\n",
      "Epoch 172 theta0 = -0.01393253852623739 theta1 = -0.6060516996372771 cost = 0.3270386748006225\n",
      "Epoch 173 theta0 = -0.013932538526237381 theta1 = -0.6060516996372771 cost = 0.32703867480062243\n",
      "Epoch 174 theta0 = -0.01393253852623739 theta1 = -0.6060516996372771 cost = 0.3270386748006225\n",
      "Epoch 175 theta0 = -0.013932538526237381 theta1 = -0.6060516996372771 cost = 0.32703867480062243\n",
      "Epoch 176 theta0 = -0.01393253852623739 theta1 = -0.6060516996372771 cost = 0.3270386748006225\n",
      "Epoch 177 theta0 = -0.013932538526237381 theta1 = -0.6060516996372771 cost = 0.32703867480062243\n",
      "Epoch 178 theta0 = -0.01393253852623739 theta1 = -0.6060516996372771 cost = 0.3270386748006225\n",
      "Epoch 179 theta0 = -0.013932538526237381 theta1 = -0.6060516996372771 cost = 0.32703867480062243\n",
      "Epoch 180 theta0 = -0.01393253852623739 theta1 = -0.6060516996372771 cost = 0.3270386748006225\n",
      "Epoch 181 theta0 = -0.013932538526237381 theta1 = -0.6060516996372771 cost = 0.32703867480062243\n",
      "Epoch 182 theta0 = -0.01393253852623739 theta1 = -0.6060516996372771 cost = 0.3270386748006225\n",
      "Epoch 183 theta0 = -0.013932538526237381 theta1 = -0.6060516996372771 cost = 0.32703867480062243\n",
      "Epoch 184 theta0 = -0.01393253852623739 theta1 = -0.6060516996372771 cost = 0.3270386748006225\n",
      "Epoch 185 theta0 = -0.013932538526237381 theta1 = -0.6060516996372771 cost = 0.32703867480062243\n",
      "Epoch 186 theta0 = -0.01393253852623739 theta1 = -0.6060516996372771 cost = 0.3270386748006225\n",
      "Epoch 187 theta0 = -0.013932538526237381 theta1 = -0.6060516996372771 cost = 0.32703867480062243\n",
      "Epoch 188 theta0 = -0.01393253852623739 theta1 = -0.6060516996372771 cost = 0.3270386748006225\n",
      "Epoch 189 theta0 = -0.013932538526237381 theta1 = -0.6060516996372771 cost = 0.32703867480062243\n",
      "Epoch 190 theta0 = -0.01393253852623739 theta1 = -0.6060516996372771 cost = 0.3270386748006225\n",
      "Epoch 191 theta0 = -0.013932538526237381 theta1 = -0.6060516996372771 cost = 0.32703867480062243\n",
      "Epoch 192 theta0 = -0.01393253852623739 theta1 = -0.6060516996372771 cost = 0.3270386748006225\n",
      "Epoch 193 theta0 = -0.013932538526237381 theta1 = -0.6060516996372771 cost = 0.32703867480062243\n",
      "Epoch 194 theta0 = -0.01393253852623739 theta1 = -0.6060516996372771 cost = 0.3270386748006225\n",
      "Epoch 195 theta0 = -0.013932538526237381 theta1 = -0.6060516996372771 cost = 0.32703867480062243\n",
      "Epoch 196 theta0 = -0.01393253852623739 theta1 = -0.6060516996372771 cost = 0.3270386748006225\n",
      "Epoch 197 theta0 = -0.013932538526237381 theta1 = -0.6060516996372771 cost = 0.32703867480062243\n",
      "Epoch 198 theta0 = -0.01393253852623739 theta1 = -0.6060516996372771 cost = 0.3270386748006225\n",
      "Epoch 199 theta0 = -0.013932538526237381 theta1 = -0.6060516996372771 cost = 0.32703867480062243\n",
      "Epoch 200 theta0 = -0.01393253852623739 theta1 = -0.6060516996372771 cost = 0.3270386748006225\n",
      "Epoch 201 theta0 = -0.013932538526237381 theta1 = -0.6060516996372771 cost = 0.32703867480062243\n",
      "Epoch 202 theta0 = -0.01393253852623739 theta1 = -0.6060516996372771 cost = 0.3270386748006225\n",
      "Epoch 203 theta0 = -0.013932538526237381 theta1 = -0.6060516996372771 cost = 0.32703867480062243\n",
      "Epoch 204 theta0 = -0.01393253852623739 theta1 = -0.6060516996372771 cost = 0.3270386748006225\n",
      "Epoch 205 theta0 = -0.013932538526237381 theta1 = -0.6060516996372771 cost = 0.32703867480062243\n",
      "Epoch 206 theta0 = -0.01393253852623739 theta1 = -0.6060516996372771 cost = 0.3270386748006225\n",
      "Epoch 207 theta0 = -0.013932538526237381 theta1 = -0.6060516996372771 cost = 0.32703867480062243\n",
      "Epoch 208 theta0 = -0.01393253852623739 theta1 = -0.6060516996372771 cost = 0.3270386748006225\n",
      "Epoch 209 theta0 = -0.013932538526237381 theta1 = -0.6060516996372771 cost = 0.32703867480062243\n",
      "Epoch 210 theta0 = -0.01393253852623739 theta1 = -0.6060516996372771 cost = 0.3270386748006225\n",
      "Epoch 211 theta0 = -0.013932538526237381 theta1 = -0.6060516996372771 cost = 0.32703867480062243\n",
      "Epoch 212 theta0 = -0.01393253852623739 theta1 = -0.6060516996372771 cost = 0.3270386748006225\n",
      "Epoch 213 theta0 = -0.013932538526237381 theta1 = -0.6060516996372771 cost = 0.32703867480062243\n",
      "Epoch 214 theta0 = -0.01393253852623739 theta1 = -0.6060516996372771 cost = 0.3270386748006225\n",
      "Epoch 215 theta0 = -0.013932538526237381 theta1 = -0.6060516996372771 cost = 0.32703867480062243\n",
      "Epoch 216 theta0 = -0.01393253852623739 theta1 = -0.6060516996372771 cost = 0.3270386748006225\n",
      "Epoch 217 theta0 = -0.013932538526237381 theta1 = -0.6060516996372771 cost = 0.32703867480062243\n",
      "Epoch 218 theta0 = -0.01393253852623739 theta1 = -0.6060516996372771 cost = 0.3270386748006225\n",
      "Epoch 219 theta0 = -0.013932538526237381 theta1 = -0.6060516996372771 cost = 0.32703867480062243\n",
      "Epoch 220 theta0 = -0.01393253852623739 theta1 = -0.6060516996372771 cost = 0.3270386748006225\n",
      "Epoch 221 theta0 = -0.013932538526237381 theta1 = -0.6060516996372771 cost = 0.32703867480062243\n",
      "Epoch 222 theta0 = -0.01393253852623739 theta1 = -0.6060516996372771 cost = 0.3270386748006225\n",
      "Epoch 223 theta0 = -0.013932538526237381 theta1 = -0.6060516996372771 cost = 0.32703867480062243\n",
      "Epoch 224 theta0 = -0.01393253852623739 theta1 = -0.6060516996372771 cost = 0.3270386748006225\n",
      "Epoch 225 theta0 = -0.013932538526237381 theta1 = -0.6060516996372771 cost = 0.32703867480062243\n",
      "Epoch 226 theta0 = -0.01393253852623739 theta1 = -0.6060516996372771 cost = 0.3270386748006225\n",
      "Epoch 227 theta0 = -0.013932538526237381 theta1 = -0.6060516996372771 cost = 0.32703867480062243\n",
      "Epoch 228 theta0 = -0.01393253852623739 theta1 = -0.6060516996372771 cost = 0.3270386748006225\n",
      "Epoch 229 theta0 = -0.013932538526237381 theta1 = -0.6060516996372771 cost = 0.32703867480062243\n",
      "Epoch 230 theta0 = -0.01393253852623739 theta1 = -0.6060516996372771 cost = 0.3270386748006225\n",
      "Epoch 231 theta0 = -0.013932538526237381 theta1 = -0.6060516996372771 cost = 0.32703867480062243\n",
      "Epoch 232 theta0 = -0.01393253852623739 theta1 = -0.6060516996372771 cost = 0.3270386748006225\n",
      "Epoch 233 theta0 = -0.013932538526237381 theta1 = -0.6060516996372771 cost = 0.32703867480062243\n",
      "Epoch 234 theta0 = -0.01393253852623739 theta1 = -0.6060516996372771 cost = 0.3270386748006225\n",
      "Epoch 235 theta0 = -0.013932538526237381 theta1 = -0.6060516996372771 cost = 0.32703867480062243\n",
      "Epoch 236 theta0 = -0.01393253852623739 theta1 = -0.6060516996372771 cost = 0.3270386748006225\n",
      "Epoch 237 theta0 = -0.013932538526237381 theta1 = -0.6060516996372771 cost = 0.32703867480062243\n",
      "Epoch 238 theta0 = -0.01393253852623739 theta1 = -0.6060516996372771 cost = 0.3270386748006225\n",
      "Epoch 239 theta0 = -0.013932538526237381 theta1 = -0.6060516996372771 cost = 0.32703867480062243\n",
      "Epoch 240 theta0 = -0.01393253852623739 theta1 = -0.6060516996372771 cost = 0.3270386748006225\n",
      "Epoch 241 theta0 = -0.013932538526237381 theta1 = -0.6060516996372771 cost = 0.32703867480062243\n",
      "Epoch 242 theta0 = -0.01393253852623739 theta1 = -0.6060516996372771 cost = 0.3270386748006225\n",
      "Epoch 243 theta0 = -0.013932538526237381 theta1 = -0.6060516996372771 cost = 0.32703867480062243\n",
      "Epoch 244 theta0 = -0.01393253852623739 theta1 = -0.6060516996372771 cost = 0.3270386748006225\n",
      "Epoch 245 theta0 = -0.013932538526237381 theta1 = -0.6060516996372771 cost = 0.32703867480062243\n",
      "Epoch 246 theta0 = -0.01393253852623739 theta1 = -0.6060516996372771 cost = 0.3270386748006225\n",
      "Epoch 247 theta0 = -0.013932538526237381 theta1 = -0.6060516996372771 cost = 0.32703867480062243\n",
      "Epoch 248 theta0 = -0.01393253852623739 theta1 = -0.6060516996372771 cost = 0.3270386748006225\n",
      "Epoch 249 theta0 = -0.013932538526237381 theta1 = -0.6060516996372771 cost = 0.32703867480062243\n",
      "Epoch 250 theta0 = -0.01393253852623739 theta1 = -0.6060516996372771 cost = 0.3270386748006225\n",
      "Epoch 251 theta0 = -0.013932538526237381 theta1 = -0.6060516996372771 cost = 0.32703867480062243\n",
      "Epoch 252 theta0 = -0.01393253852623739 theta1 = -0.6060516996372771 cost = 0.3270386748006225\n",
      "Epoch 253 theta0 = -0.013932538526237381 theta1 = -0.6060516996372771 cost = 0.32703867480062243\n",
      "Epoch 254 theta0 = -0.01393253852623739 theta1 = -0.6060516996372771 cost = 0.3270386748006225\n",
      "Epoch 255 theta0 = -0.013932538526237381 theta1 = -0.6060516996372771 cost = 0.32703867480062243\n",
      "Epoch 256 theta0 = -0.01393253852623739 theta1 = -0.6060516996372771 cost = 0.3270386748006225\n",
      "Epoch 257 theta0 = -0.013932538526237381 theta1 = -0.6060516996372771 cost = 0.32703867480062243\n",
      "Epoch 258 theta0 = -0.01393253852623739 theta1 = -0.6060516996372771 cost = 0.3270386748006225\n",
      "Epoch 259 theta0 = -0.013932538526237381 theta1 = -0.6060516996372771 cost = 0.32703867480062243\n",
      "Epoch 260 theta0 = -0.01393253852623739 theta1 = -0.6060516996372771 cost = 0.3270386748006225\n",
      "Epoch 261 theta0 = -0.013932538526237381 theta1 = -0.6060516996372771 cost = 0.32703867480062243\n",
      "Epoch 262 theta0 = -0.01393253852623739 theta1 = -0.6060516996372771 cost = 0.3270386748006225\n",
      "Epoch 263 theta0 = -0.013932538526237381 theta1 = -0.6060516996372771 cost = 0.32703867480062243\n",
      "Epoch 264 theta0 = -0.01393253852623739 theta1 = -0.6060516996372771 cost = 0.3270386748006225\n",
      "Epoch 265 theta0 = -0.013932538526237381 theta1 = -0.6060516996372771 cost = 0.32703867480062243\n",
      "Epoch 266 theta0 = -0.01393253852623739 theta1 = -0.6060516996372771 cost = 0.3270386748006225\n"
     ]
    },
    {
     "name": "stdout",
     "output_type": "stream",
     "text": [
      "Epoch 267 theta0 = -0.013932538526237381 theta1 = -0.6060516996372771 cost = 0.32703867480062243\n",
      "Epoch 268 theta0 = -0.01393253852623739 theta1 = -0.6060516996372771 cost = 0.3270386748006225\n",
      "Epoch 269 theta0 = -0.013932538526237381 theta1 = -0.6060516996372771 cost = 0.32703867480062243\n",
      "Epoch 270 theta0 = -0.01393253852623739 theta1 = -0.6060516996372771 cost = 0.3270386748006225\n",
      "Epoch 271 theta0 = -0.013932538526237381 theta1 = -0.6060516996372771 cost = 0.32703867480062243\n",
      "Epoch 272 theta0 = -0.01393253852623739 theta1 = -0.6060516996372771 cost = 0.3270386748006225\n",
      "Epoch 273 theta0 = -0.013932538526237381 theta1 = -0.6060516996372771 cost = 0.32703867480062243\n",
      "Epoch 274 theta0 = -0.01393253852623739 theta1 = -0.6060516996372771 cost = 0.3270386748006225\n",
      "Epoch 275 theta0 = -0.013932538526237381 theta1 = -0.6060516996372771 cost = 0.32703867480062243\n",
      "Epoch 276 theta0 = -0.01393253852623739 theta1 = -0.6060516996372771 cost = 0.3270386748006225\n",
      "Epoch 277 theta0 = -0.013932538526237381 theta1 = -0.6060516996372771 cost = 0.32703867480062243\n",
      "Epoch 278 theta0 = -0.01393253852623739 theta1 = -0.6060516996372771 cost = 0.3270386748006225\n",
      "Epoch 279 theta0 = -0.013932538526237381 theta1 = -0.6060516996372771 cost = 0.32703867480062243\n",
      "Epoch 280 theta0 = -0.01393253852623739 theta1 = -0.6060516996372771 cost = 0.3270386748006225\n",
      "Epoch 281 theta0 = -0.013932538526237381 theta1 = -0.6060516996372771 cost = 0.32703867480062243\n",
      "Epoch 282 theta0 = -0.01393253852623739 theta1 = -0.6060516996372771 cost = 0.3270386748006225\n",
      "Epoch 283 theta0 = -0.013932538526237381 theta1 = -0.6060516996372771 cost = 0.32703867480062243\n",
      "Epoch 284 theta0 = -0.01393253852623739 theta1 = -0.6060516996372771 cost = 0.3270386748006225\n",
      "Epoch 285 theta0 = -0.013932538526237381 theta1 = -0.6060516996372771 cost = 0.32703867480062243\n",
      "Epoch 286 theta0 = -0.01393253852623739 theta1 = -0.6060516996372771 cost = 0.3270386748006225\n",
      "Epoch 287 theta0 = -0.013932538526237381 theta1 = -0.6060516996372771 cost = 0.32703867480062243\n",
      "Epoch 288 theta0 = -0.01393253852623739 theta1 = -0.6060516996372771 cost = 0.3270386748006225\n",
      "Epoch 289 theta0 = -0.013932538526237381 theta1 = -0.6060516996372771 cost = 0.32703867480062243\n",
      "Epoch 290 theta0 = -0.01393253852623739 theta1 = -0.6060516996372771 cost = 0.3270386748006225\n",
      "Epoch 291 theta0 = -0.013932538526237381 theta1 = -0.6060516996372771 cost = 0.32703867480062243\n",
      "Epoch 292 theta0 = -0.01393253852623739 theta1 = -0.6060516996372771 cost = 0.3270386748006225\n",
      "Epoch 293 theta0 = -0.013932538526237381 theta1 = -0.6060516996372771 cost = 0.32703867480062243\n",
      "Epoch 294 theta0 = -0.01393253852623739 theta1 = -0.6060516996372771 cost = 0.3270386748006225\n",
      "Epoch 295 theta0 = -0.013932538526237381 theta1 = -0.6060516996372771 cost = 0.32703867480062243\n",
      "Epoch 296 theta0 = -0.01393253852623739 theta1 = -0.6060516996372771 cost = 0.3270386748006225\n",
      "Epoch 297 theta0 = -0.013932538526237381 theta1 = -0.6060516996372771 cost = 0.32703867480062243\n",
      "Epoch 298 theta0 = -0.01393253852623739 theta1 = -0.6060516996372771 cost = 0.3270386748006225\n",
      "Epoch 299 theta0 = -0.013932538526237381 theta1 = -0.6060516996372771 cost = 0.32703867480062243\n",
      "Epoch 300 theta0 = -0.01393253852623739 theta1 = -0.6060516996372771 cost = 0.3270386748006225\n",
      "Epoch 301 theta0 = -0.013932538526237381 theta1 = -0.6060516996372771 cost = 0.32703867480062243\n",
      "Epoch 302 theta0 = -0.01393253852623739 theta1 = -0.6060516996372771 cost = 0.3270386748006225\n",
      "Epoch 303 theta0 = -0.013932538526237381 theta1 = -0.6060516996372771 cost = 0.32703867480062243\n",
      "Epoch 304 theta0 = -0.01393253852623739 theta1 = -0.6060516996372771 cost = 0.3270386748006225\n",
      "Epoch 305 theta0 = -0.013932538526237381 theta1 = -0.6060516996372771 cost = 0.32703867480062243\n",
      "Epoch 306 theta0 = -0.01393253852623739 theta1 = -0.6060516996372771 cost = 0.3270386748006225\n",
      "Epoch 307 theta0 = -0.013932538526237381 theta1 = -0.6060516996372771 cost = 0.32703867480062243\n",
      "Epoch 308 theta0 = -0.01393253852623739 theta1 = -0.6060516996372771 cost = 0.3270386748006225\n",
      "Epoch 309 theta0 = -0.013932538526237381 theta1 = -0.6060516996372771 cost = 0.32703867480062243\n",
      "Epoch 310 theta0 = -0.01393253852623739 theta1 = -0.6060516996372771 cost = 0.3270386748006225\n",
      "Epoch 311 theta0 = -0.013932538526237381 theta1 = -0.6060516996372771 cost = 0.32703867480062243\n",
      "Epoch 312 theta0 = -0.01393253852623739 theta1 = -0.6060516996372771 cost = 0.3270386748006225\n",
      "Epoch 313 theta0 = -0.013932538526237381 theta1 = -0.6060516996372771 cost = 0.32703867480062243\n",
      "Epoch 314 theta0 = -0.01393253852623739 theta1 = -0.6060516996372771 cost = 0.3270386748006225\n",
      "Epoch 315 theta0 = -0.013932538526237381 theta1 = -0.6060516996372771 cost = 0.32703867480062243\n",
      "Epoch 316 theta0 = -0.01393253852623739 theta1 = -0.6060516996372771 cost = 0.3270386748006225\n",
      "Epoch 317 theta0 = -0.013932538526237381 theta1 = -0.6060516996372771 cost = 0.32703867480062243\n",
      "Epoch 318 theta0 = -0.01393253852623739 theta1 = -0.6060516996372771 cost = 0.3270386748006225\n",
      "Epoch 319 theta0 = -0.013932538526237381 theta1 = -0.6060516996372771 cost = 0.32703867480062243\n",
      "Epoch 320 theta0 = -0.01393253852623739 theta1 = -0.6060516996372771 cost = 0.3270386748006225\n",
      "Epoch 321 theta0 = -0.013932538526237381 theta1 = -0.6060516996372771 cost = 0.32703867480062243\n",
      "Epoch 322 theta0 = -0.01393253852623739 theta1 = -0.6060516996372771 cost = 0.3270386748006225\n",
      "Epoch 323 theta0 = -0.013932538526237381 theta1 = -0.6060516996372771 cost = 0.32703867480062243\n",
      "Epoch 324 theta0 = -0.01393253852623739 theta1 = -0.6060516996372771 cost = 0.3270386748006225\n",
      "Epoch 325 theta0 = -0.013932538526237381 theta1 = -0.6060516996372771 cost = 0.32703867480062243\n",
      "Epoch 326 theta0 = -0.01393253852623739 theta1 = -0.6060516996372771 cost = 0.3270386748006225\n",
      "Epoch 327 theta0 = -0.013932538526237381 theta1 = -0.6060516996372771 cost = 0.32703867480062243\n",
      "Epoch 328 theta0 = -0.01393253852623739 theta1 = -0.6060516996372771 cost = 0.3270386748006225\n",
      "Epoch 329 theta0 = -0.013932538526237381 theta1 = -0.6060516996372771 cost = 0.32703867480062243\n",
      "Epoch 330 theta0 = -0.01393253852623739 theta1 = -0.6060516996372771 cost = 0.3270386748006225\n",
      "Epoch 331 theta0 = -0.013932538526237381 theta1 = -0.6060516996372771 cost = 0.32703867480062243\n",
      "Epoch 332 theta0 = -0.01393253852623739 theta1 = -0.6060516996372771 cost = 0.3270386748006225\n",
      "Epoch 333 theta0 = -0.013932538526237381 theta1 = -0.6060516996372771 cost = 0.32703867480062243\n",
      "Epoch 334 theta0 = -0.01393253852623739 theta1 = -0.6060516996372771 cost = 0.3270386748006225\n",
      "Epoch 335 theta0 = -0.013932538526237381 theta1 = -0.6060516996372771 cost = 0.32703867480062243\n",
      "Epoch 336 theta0 = -0.01393253852623739 theta1 = -0.6060516996372771 cost = 0.3270386748006225\n",
      "Epoch 337 theta0 = -0.013932538526237381 theta1 = -0.6060516996372771 cost = 0.32703867480062243\n",
      "Epoch 338 theta0 = -0.01393253852623739 theta1 = -0.6060516996372771 cost = 0.3270386748006225\n",
      "Epoch 339 theta0 = -0.013932538526237381 theta1 = -0.6060516996372771 cost = 0.32703867480062243\n",
      "Epoch 340 theta0 = -0.01393253852623739 theta1 = -0.6060516996372771 cost = 0.3270386748006225\n",
      "Epoch 341 theta0 = -0.013932538526237381 theta1 = -0.6060516996372771 cost = 0.32703867480062243\n",
      "Epoch 342 theta0 = -0.01393253852623739 theta1 = -0.6060516996372771 cost = 0.3270386748006225\n",
      "Epoch 343 theta0 = -0.013932538526237381 theta1 = -0.6060516996372771 cost = 0.32703867480062243\n",
      "Epoch 344 theta0 = -0.01393253852623739 theta1 = -0.6060516996372771 cost = 0.3270386748006225\n",
      "Epoch 345 theta0 = -0.013932538526237381 theta1 = -0.6060516996372771 cost = 0.32703867480062243\n",
      "Epoch 346 theta0 = -0.01393253852623739 theta1 = -0.6060516996372771 cost = 0.3270386748006225\n",
      "Epoch 347 theta0 = -0.013932538526237381 theta1 = -0.6060516996372771 cost = 0.32703867480062243\n",
      "Epoch 348 theta0 = -0.01393253852623739 theta1 = -0.6060516996372771 cost = 0.3270386748006225\n",
      "Epoch 349 theta0 = -0.013932538526237381 theta1 = -0.6060516996372771 cost = 0.32703867480062243\n",
      "Epoch 350 theta0 = -0.01393253852623739 theta1 = -0.6060516996372771 cost = 0.3270386748006225\n",
      "Epoch 351 theta0 = -0.013932538526237381 theta1 = -0.6060516996372771 cost = 0.32703867480062243\n",
      "Epoch 352 theta0 = -0.01393253852623739 theta1 = -0.6060516996372771 cost = 0.3270386748006225\n",
      "Epoch 353 theta0 = -0.013932538526237381 theta1 = -0.6060516996372771 cost = 0.32703867480062243\n",
      "Epoch 354 theta0 = -0.01393253852623739 theta1 = -0.6060516996372771 cost = 0.3270386748006225\n",
      "Epoch 355 theta0 = -0.013932538526237381 theta1 = -0.6060516996372771 cost = 0.32703867480062243\n",
      "Epoch 356 theta0 = -0.01393253852623739 theta1 = -0.6060516996372771 cost = 0.3270386748006225\n",
      "Epoch 357 theta0 = -0.013932538526237381 theta1 = -0.6060516996372771 cost = 0.32703867480062243\n",
      "Epoch 358 theta0 = -0.01393253852623739 theta1 = -0.6060516996372771 cost = 0.3270386748006225\n",
      "Epoch 359 theta0 = -0.013932538526237381 theta1 = -0.6060516996372771 cost = 0.32703867480062243\n",
      "Epoch 360 theta0 = -0.01393253852623739 theta1 = -0.6060516996372771 cost = 0.3270386748006225\n",
      "Epoch 361 theta0 = -0.013932538526237381 theta1 = -0.6060516996372771 cost = 0.32703867480062243\n",
      "Epoch 362 theta0 = -0.01393253852623739 theta1 = -0.6060516996372771 cost = 0.3270386748006225\n",
      "Epoch 363 theta0 = -0.013932538526237381 theta1 = -0.6060516996372771 cost = 0.32703867480062243\n",
      "Epoch 364 theta0 = -0.01393253852623739 theta1 = -0.6060516996372771 cost = 0.3270386748006225\n",
      "Epoch 365 theta0 = -0.013932538526237381 theta1 = -0.6060516996372771 cost = 0.32703867480062243\n",
      "Epoch 366 theta0 = -0.01393253852623739 theta1 = -0.6060516996372771 cost = 0.3270386748006225\n",
      "Epoch 367 theta0 = -0.013932538526237381 theta1 = -0.6060516996372771 cost = 0.32703867480062243\n",
      "Epoch 368 theta0 = -0.01393253852623739 theta1 = -0.6060516996372771 cost = 0.3270386748006225\n",
      "Epoch 369 theta0 = -0.013932538526237381 theta1 = -0.6060516996372771 cost = 0.32703867480062243\n",
      "Epoch 370 theta0 = -0.01393253852623739 theta1 = -0.6060516996372771 cost = 0.3270386748006225\n",
      "Epoch 371 theta0 = -0.013932538526237381 theta1 = -0.6060516996372771 cost = 0.32703867480062243\n",
      "Epoch 372 theta0 = -0.01393253852623739 theta1 = -0.6060516996372771 cost = 0.3270386748006225\n",
      "Epoch 373 theta0 = -0.013932538526237381 theta1 = -0.6060516996372771 cost = 0.32703867480062243\n",
      "Epoch 374 theta0 = -0.01393253852623739 theta1 = -0.6060516996372771 cost = 0.3270386748006225\n",
      "Epoch 375 theta0 = -0.013932538526237381 theta1 = -0.6060516996372771 cost = 0.32703867480062243\n",
      "Epoch 376 theta0 = -0.01393253852623739 theta1 = -0.6060516996372771 cost = 0.3270386748006225\n",
      "Epoch 377 theta0 = -0.013932538526237381 theta1 = -0.6060516996372771 cost = 0.32703867480062243\n",
      "Epoch 378 theta0 = -0.01393253852623739 theta1 = -0.6060516996372771 cost = 0.3270386748006225\n",
      "Epoch 379 theta0 = -0.013932538526237381 theta1 = -0.6060516996372771 cost = 0.32703867480062243\n",
      "Epoch 380 theta0 = -0.01393253852623739 theta1 = -0.6060516996372771 cost = 0.3270386748006225\n",
      "Epoch 381 theta0 = -0.013932538526237381 theta1 = -0.6060516996372771 cost = 0.32703867480062243\n",
      "Epoch 382 theta0 = -0.01393253852623739 theta1 = -0.6060516996372771 cost = 0.3270386748006225\n",
      "Epoch 383 theta0 = -0.013932538526237381 theta1 = -0.6060516996372771 cost = 0.32703867480062243\n",
      "Epoch 384 theta0 = -0.01393253852623739 theta1 = -0.6060516996372771 cost = 0.3270386748006225\n",
      "Epoch 385 theta0 = -0.013932538526237381 theta1 = -0.6060516996372771 cost = 0.32703867480062243\n",
      "Epoch 386 theta0 = -0.01393253852623739 theta1 = -0.6060516996372771 cost = 0.3270386748006225\n",
      "Epoch 387 theta0 = -0.013932538526237381 theta1 = -0.6060516996372771 cost = 0.32703867480062243\n",
      "Epoch 388 theta0 = -0.01393253852623739 theta1 = -0.6060516996372771 cost = 0.3270386748006225\n",
      "Epoch 389 theta0 = -0.013932538526237381 theta1 = -0.6060516996372771 cost = 0.32703867480062243\n",
      "Epoch 390 theta0 = -0.01393253852623739 theta1 = -0.6060516996372771 cost = 0.3270386748006225\n",
      "Epoch 391 theta0 = -0.013932538526237381 theta1 = -0.6060516996372771 cost = 0.32703867480062243\n",
      "Epoch 392 theta0 = -0.01393253852623739 theta1 = -0.6060516996372771 cost = 0.3270386748006225\n"
     ]
    },
    {
     "name": "stdout",
     "output_type": "stream",
     "text": [
      "Epoch 393 theta0 = -0.013932538526237381 theta1 = -0.6060516996372771 cost = 0.32703867480062243\n",
      "Epoch 394 theta0 = -0.01393253852623739 theta1 = -0.6060516996372771 cost = 0.3270386748006225\n",
      "Epoch 395 theta0 = -0.013932538526237381 theta1 = -0.6060516996372771 cost = 0.32703867480062243\n",
      "Epoch 396 theta0 = -0.01393253852623739 theta1 = -0.6060516996372771 cost = 0.3270386748006225\n",
      "Epoch 397 theta0 = -0.013932538526237381 theta1 = -0.6060516996372771 cost = 0.32703867480062243\n",
      "Epoch 398 theta0 = -0.01393253852623739 theta1 = -0.6060516996372771 cost = 0.3270386748006225\n",
      "Epoch 399 theta0 = -0.013932538526237381 theta1 = -0.6060516996372771 cost = 0.32703867480062243\n",
      "Epoch 400 theta0 = -0.01393253852623739 theta1 = -0.6060516996372771 cost = 0.3270386748006225\n",
      "Epoch 401 theta0 = -0.013932538526237381 theta1 = -0.6060516996372771 cost = 0.32703867480062243\n",
      "Epoch 402 theta0 = -0.01393253852623739 theta1 = -0.6060516996372771 cost = 0.3270386748006225\n",
      "Epoch 403 theta0 = -0.013932538526237381 theta1 = -0.6060516996372771 cost = 0.32703867480062243\n",
      "Epoch 404 theta0 = -0.01393253852623739 theta1 = -0.6060516996372771 cost = 0.3270386748006225\n",
      "Epoch 405 theta0 = -0.013932538526237381 theta1 = -0.6060516996372771 cost = 0.32703867480062243\n",
      "Epoch 406 theta0 = -0.01393253852623739 theta1 = -0.6060516996372771 cost = 0.3270386748006225\n",
      "Epoch 407 theta0 = -0.013932538526237381 theta1 = -0.6060516996372771 cost = 0.32703867480062243\n",
      "Epoch 408 theta0 = -0.01393253852623739 theta1 = -0.6060516996372771 cost = 0.3270386748006225\n",
      "Epoch 409 theta0 = -0.013932538526237381 theta1 = -0.6060516996372771 cost = 0.32703867480062243\n",
      "Epoch 410 theta0 = -0.01393253852623739 theta1 = -0.6060516996372771 cost = 0.3270386748006225\n",
      "Epoch 411 theta0 = -0.013932538526237381 theta1 = -0.6060516996372771 cost = 0.32703867480062243\n",
      "Epoch 412 theta0 = -0.01393253852623739 theta1 = -0.6060516996372771 cost = 0.3270386748006225\n",
      "Epoch 413 theta0 = -0.013932538526237381 theta1 = -0.6060516996372771 cost = 0.32703867480062243\n",
      "Epoch 414 theta0 = -0.01393253852623739 theta1 = -0.6060516996372771 cost = 0.3270386748006225\n",
      "Epoch 415 theta0 = -0.013932538526237381 theta1 = -0.6060516996372771 cost = 0.32703867480062243\n",
      "Epoch 416 theta0 = -0.01393253852623739 theta1 = -0.6060516996372771 cost = 0.3270386748006225\n",
      "Epoch 417 theta0 = -0.013932538526237381 theta1 = -0.6060516996372771 cost = 0.32703867480062243\n",
      "Epoch 418 theta0 = -0.01393253852623739 theta1 = -0.6060516996372771 cost = 0.3270386748006225\n",
      "Epoch 419 theta0 = -0.013932538526237381 theta1 = -0.6060516996372771 cost = 0.32703867480062243\n",
      "Epoch 420 theta0 = -0.01393253852623739 theta1 = -0.6060516996372771 cost = 0.3270386748006225\n",
      "Epoch 421 theta0 = -0.013932538526237381 theta1 = -0.6060516996372771 cost = 0.32703867480062243\n",
      "Epoch 422 theta0 = -0.01393253852623739 theta1 = -0.6060516996372771 cost = 0.3270386748006225\n",
      "Epoch 423 theta0 = -0.013932538526237381 theta1 = -0.6060516996372771 cost = 0.32703867480062243\n",
      "Epoch 424 theta0 = -0.01393253852623739 theta1 = -0.6060516996372771 cost = 0.3270386748006225\n",
      "Epoch 425 theta0 = -0.013932538526237381 theta1 = -0.6060516996372771 cost = 0.32703867480062243\n",
      "Epoch 426 theta0 = -0.01393253852623739 theta1 = -0.6060516996372771 cost = 0.3270386748006225\n",
      "Epoch 427 theta0 = -0.013932538526237381 theta1 = -0.6060516996372771 cost = 0.32703867480062243\n",
      "Epoch 428 theta0 = -0.01393253852623739 theta1 = -0.6060516996372771 cost = 0.3270386748006225\n",
      "Epoch 429 theta0 = -0.013932538526237381 theta1 = -0.6060516996372771 cost = 0.32703867480062243\n",
      "Epoch 430 theta0 = -0.01393253852623739 theta1 = -0.6060516996372771 cost = 0.3270386748006225\n",
      "Epoch 431 theta0 = -0.013932538526237381 theta1 = -0.6060516996372771 cost = 0.32703867480062243\n",
      "Epoch 432 theta0 = -0.01393253852623739 theta1 = -0.6060516996372771 cost = 0.3270386748006225\n",
      "Epoch 433 theta0 = -0.013932538526237381 theta1 = -0.6060516996372771 cost = 0.32703867480062243\n",
      "Epoch 434 theta0 = -0.01393253852623739 theta1 = -0.6060516996372771 cost = 0.3270386748006225\n",
      "Epoch 435 theta0 = -0.013932538526237381 theta1 = -0.6060516996372771 cost = 0.32703867480062243\n",
      "Epoch 436 theta0 = -0.01393253852623739 theta1 = -0.6060516996372771 cost = 0.3270386748006225\n",
      "Epoch 437 theta0 = -0.013932538526237381 theta1 = -0.6060516996372771 cost = 0.32703867480062243\n",
      "Epoch 438 theta0 = -0.01393253852623739 theta1 = -0.6060516996372771 cost = 0.3270386748006225\n",
      "Epoch 439 theta0 = -0.013932538526237381 theta1 = -0.6060516996372771 cost = 0.32703867480062243\n",
      "Epoch 440 theta0 = -0.01393253852623739 theta1 = -0.6060516996372771 cost = 0.3270386748006225\n",
      "Epoch 441 theta0 = -0.013932538526237381 theta1 = -0.6060516996372771 cost = 0.32703867480062243\n",
      "Epoch 442 theta0 = -0.01393253852623739 theta1 = -0.6060516996372771 cost = 0.3270386748006225\n",
      "Epoch 443 theta0 = -0.013932538526237381 theta1 = -0.6060516996372771 cost = 0.32703867480062243\n",
      "Epoch 444 theta0 = -0.01393253852623739 theta1 = -0.6060516996372771 cost = 0.3270386748006225\n",
      "Epoch 445 theta0 = -0.013932538526237381 theta1 = -0.6060516996372771 cost = 0.32703867480062243\n",
      "Epoch 446 theta0 = -0.01393253852623739 theta1 = -0.6060516996372771 cost = 0.3270386748006225\n",
      "Epoch 447 theta0 = -0.013932538526237381 theta1 = -0.6060516996372771 cost = 0.32703867480062243\n",
      "Epoch 448 theta0 = -0.01393253852623739 theta1 = -0.6060516996372771 cost = 0.3270386748006225\n",
      "Epoch 449 theta0 = -0.013932538526237381 theta1 = -0.6060516996372771 cost = 0.32703867480062243\n",
      "Epoch 450 theta0 = -0.01393253852623739 theta1 = -0.6060516996372771 cost = 0.3270386748006225\n",
      "Epoch 451 theta0 = -0.013932538526237381 theta1 = -0.6060516996372771 cost = 0.32703867480062243\n",
      "Epoch 452 theta0 = -0.01393253852623739 theta1 = -0.6060516996372771 cost = 0.3270386748006225\n",
      "Epoch 453 theta0 = -0.013932538526237381 theta1 = -0.6060516996372771 cost = 0.32703867480062243\n",
      "Epoch 454 theta0 = -0.01393253852623739 theta1 = -0.6060516996372771 cost = 0.3270386748006225\n",
      "Epoch 455 theta0 = -0.013932538526237381 theta1 = -0.6060516996372771 cost = 0.32703867480062243\n",
      "Epoch 456 theta0 = -0.01393253852623739 theta1 = -0.6060516996372771 cost = 0.3270386748006225\n",
      "Epoch 457 theta0 = -0.013932538526237381 theta1 = -0.6060516996372771 cost = 0.32703867480062243\n",
      "Epoch 458 theta0 = -0.01393253852623739 theta1 = -0.6060516996372771 cost = 0.3270386748006225\n",
      "Epoch 459 theta0 = -0.013932538526237381 theta1 = -0.6060516996372771 cost = 0.32703867480062243\n",
      "Epoch 460 theta0 = -0.01393253852623739 theta1 = -0.6060516996372771 cost = 0.3270386748006225\n",
      "Epoch 461 theta0 = -0.013932538526237381 theta1 = -0.6060516996372771 cost = 0.32703867480062243\n",
      "Epoch 462 theta0 = -0.01393253852623739 theta1 = -0.6060516996372771 cost = 0.3270386748006225\n",
      "Epoch 463 theta0 = -0.013932538526237381 theta1 = -0.6060516996372771 cost = 0.32703867480062243\n",
      "Epoch 464 theta0 = -0.01393253852623739 theta1 = -0.6060516996372771 cost = 0.3270386748006225\n",
      "Epoch 465 theta0 = -0.013932538526237381 theta1 = -0.6060516996372771 cost = 0.32703867480062243\n",
      "Epoch 466 theta0 = -0.01393253852623739 theta1 = -0.6060516996372771 cost = 0.3270386748006225\n",
      "Epoch 467 theta0 = -0.013932538526237381 theta1 = -0.6060516996372771 cost = 0.32703867480062243\n",
      "Epoch 468 theta0 = -0.01393253852623739 theta1 = -0.6060516996372771 cost = 0.3270386748006225\n",
      "Epoch 469 theta0 = -0.013932538526237381 theta1 = -0.6060516996372771 cost = 0.32703867480062243\n",
      "Epoch 470 theta0 = -0.01393253852623739 theta1 = -0.6060516996372771 cost = 0.3270386748006225\n",
      "Epoch 471 theta0 = -0.013932538526237381 theta1 = -0.6060516996372771 cost = 0.32703867480062243\n",
      "Epoch 472 theta0 = -0.01393253852623739 theta1 = -0.6060516996372771 cost = 0.3270386748006225\n",
      "Epoch 473 theta0 = -0.013932538526237381 theta1 = -0.6060516996372771 cost = 0.32703867480062243\n",
      "Epoch 474 theta0 = -0.01393253852623739 theta1 = -0.6060516996372771 cost = 0.3270386748006225\n",
      "Epoch 475 theta0 = -0.013932538526237381 theta1 = -0.6060516996372771 cost = 0.32703867480062243\n",
      "Epoch 476 theta0 = -0.01393253852623739 theta1 = -0.6060516996372771 cost = 0.3270386748006225\n",
      "Epoch 477 theta0 = -0.013932538526237381 theta1 = -0.6060516996372771 cost = 0.32703867480062243\n",
      "Epoch 478 theta0 = -0.01393253852623739 theta1 = -0.6060516996372771 cost = 0.3270386748006225\n",
      "Epoch 479 theta0 = -0.013932538526237381 theta1 = -0.6060516996372771 cost = 0.32703867480062243\n",
      "Epoch 480 theta0 = -0.01393253852623739 theta1 = -0.6060516996372771 cost = 0.3270386748006225\n",
      "Epoch 481 theta0 = -0.013932538526237381 theta1 = -0.6060516996372771 cost = 0.32703867480062243\n",
      "Epoch 482 theta0 = -0.01393253852623739 theta1 = -0.6060516996372771 cost = 0.3270386748006225\n",
      "Epoch 483 theta0 = -0.013932538526237381 theta1 = -0.6060516996372771 cost = 0.32703867480062243\n",
      "Epoch 484 theta0 = -0.01393253852623739 theta1 = -0.6060516996372771 cost = 0.3270386748006225\n",
      "Epoch 485 theta0 = -0.013932538526237381 theta1 = -0.6060516996372771 cost = 0.32703867480062243\n",
      "Epoch 486 theta0 = -0.01393253852623739 theta1 = -0.6060516996372771 cost = 0.3270386748006225\n",
      "Epoch 487 theta0 = -0.013932538526237381 theta1 = -0.6060516996372771 cost = 0.32703867480062243\n",
      "Epoch 488 theta0 = -0.01393253852623739 theta1 = -0.6060516996372771 cost = 0.3270386748006225\n",
      "Epoch 489 theta0 = -0.013932538526237381 theta1 = -0.6060516996372771 cost = 0.32703867480062243\n",
      "Epoch 490 theta0 = -0.01393253852623739 theta1 = -0.6060516996372771 cost = 0.3270386748006225\n",
      "Epoch 491 theta0 = -0.013932538526237381 theta1 = -0.6060516996372771 cost = 0.32703867480062243\n",
      "Epoch 492 theta0 = -0.01393253852623739 theta1 = -0.6060516996372771 cost = 0.3270386748006225\n",
      "Epoch 493 theta0 = -0.013932538526237381 theta1 = -0.6060516996372771 cost = 0.32703867480062243\n",
      "Epoch 494 theta0 = -0.01393253852623739 theta1 = -0.6060516996372771 cost = 0.3270386748006225\n",
      "Epoch 495 theta0 = -0.013932538526237381 theta1 = -0.6060516996372771 cost = 0.32703867480062243\n",
      "Epoch 496 theta0 = -0.01393253852623739 theta1 = -0.6060516996372771 cost = 0.3270386748006225\n",
      "Epoch 497 theta0 = -0.013932538526237381 theta1 = -0.6060516996372771 cost = 0.32703867480062243\n",
      "Epoch 498 theta0 = -0.01393253852623739 theta1 = -0.6060516996372771 cost = 0.3270386748006225\n",
      "Epoch 499 theta0 = -0.013932538526237381 theta1 = -0.6060516996372771 cost = 0.32703867480062243\n",
      "Epoch 500 theta0 = -0.01393253852623739 theta1 = -0.6060516996372771 cost = 0.3270386748006225\n",
      "Epoch 501 theta0 = -0.013932538526237381 theta1 = -0.6060516996372771 cost = 0.32703867480062243\n",
      "Epoch 502 theta0 = -0.01393253852623739 theta1 = -0.6060516996372771 cost = 0.3270386748006225\n",
      "Epoch 503 theta0 = -0.013932538526237381 theta1 = -0.6060516996372771 cost = 0.32703867480062243\n",
      "Epoch 504 theta0 = -0.01393253852623739 theta1 = -0.6060516996372771 cost = 0.3270386748006225\n",
      "Epoch 505 theta0 = -0.013932538526237381 theta1 = -0.6060516996372771 cost = 0.32703867480062243\n",
      "Epoch 506 theta0 = -0.01393253852623739 theta1 = -0.6060516996372771 cost = 0.3270386748006225\n",
      "Epoch 507 theta0 = -0.013932538526237381 theta1 = -0.6060516996372771 cost = 0.32703867480062243\n",
      "Epoch 508 theta0 = -0.01393253852623739 theta1 = -0.6060516996372771 cost = 0.3270386748006225\n",
      "Epoch 509 theta0 = -0.013932538526237381 theta1 = -0.6060516996372771 cost = 0.32703867480062243\n",
      "Epoch 510 theta0 = -0.01393253852623739 theta1 = -0.6060516996372771 cost = 0.3270386748006225\n",
      "Epoch 511 theta0 = -0.013932538526237381 theta1 = -0.6060516996372771 cost = 0.32703867480062243\n",
      "Epoch 512 theta0 = -0.01393253852623739 theta1 = -0.6060516996372771 cost = 0.3270386748006225\n",
      "Epoch 513 theta0 = -0.013932538526237381 theta1 = -0.6060516996372771 cost = 0.32703867480062243\n",
      "Epoch 514 theta0 = -0.01393253852623739 theta1 = -0.6060516996372771 cost = 0.3270386748006225\n",
      "Epoch 515 theta0 = -0.013932538526237381 theta1 = -0.6060516996372771 cost = 0.32703867480062243\n",
      "Epoch 516 theta0 = -0.01393253852623739 theta1 = -0.6060516996372771 cost = 0.3270386748006225\n",
      "Epoch 517 theta0 = -0.013932538526237381 theta1 = -0.6060516996372771 cost = 0.32703867480062243\n",
      "Epoch 518 theta0 = -0.01393253852623739 theta1 = -0.6060516996372771 cost = 0.3270386748006225\n",
      "Epoch 519 theta0 = -0.013932538526237381 theta1 = -0.6060516996372771 cost = 0.32703867480062243\n",
      "Epoch 520 theta0 = -0.01393253852623739 theta1 = -0.6060516996372771 cost = 0.3270386748006225\n",
      "Epoch 521 theta0 = -0.013932538526237381 theta1 = -0.6060516996372771 cost = 0.32703867480062243\n",
      "Epoch 522 theta0 = -0.01393253852623739 theta1 = -0.6060516996372771 cost = 0.3270386748006225\n",
      "Epoch 523 theta0 = -0.013932538526237381 theta1 = -0.6060516996372771 cost = 0.32703867480062243\n",
      "Epoch 524 theta0 = -0.01393253852623739 theta1 = -0.6060516996372771 cost = 0.3270386748006225\n",
      "Epoch 525 theta0 = -0.013932538526237381 theta1 = -0.6060516996372771 cost = 0.32703867480062243\n",
      "Epoch 526 theta0 = -0.01393253852623739 theta1 = -0.6060516996372771 cost = 0.3270386748006225\n",
      "Epoch 527 theta0 = -0.013932538526237381 theta1 = -0.6060516996372771 cost = 0.32703867480062243\n",
      "Epoch 528 theta0 = -0.01393253852623739 theta1 = -0.6060516996372771 cost = 0.3270386748006225\n"
     ]
    },
    {
     "name": "stdout",
     "output_type": "stream",
     "text": [
      "Epoch 529 theta0 = -0.013932538526237381 theta1 = -0.6060516996372771 cost = 0.32703867480062243\n",
      "Epoch 530 theta0 = -0.01393253852623739 theta1 = -0.6060516996372771 cost = 0.3270386748006225\n",
      "Epoch 531 theta0 = -0.013932538526237381 theta1 = -0.6060516996372771 cost = 0.32703867480062243\n",
      "Epoch 532 theta0 = -0.01393253852623739 theta1 = -0.6060516996372771 cost = 0.3270386748006225\n",
      "Epoch 533 theta0 = -0.013932538526237381 theta1 = -0.6060516996372771 cost = 0.32703867480062243\n",
      "Epoch 534 theta0 = -0.01393253852623739 theta1 = -0.6060516996372771 cost = 0.3270386748006225\n",
      "Epoch 535 theta0 = -0.013932538526237381 theta1 = -0.6060516996372771 cost = 0.32703867480062243\n",
      "Epoch 536 theta0 = -0.01393253852623739 theta1 = -0.6060516996372771 cost = 0.3270386748006225\n",
      "Epoch 537 theta0 = -0.013932538526237381 theta1 = -0.6060516996372771 cost = 0.32703867480062243\n",
      "Epoch 538 theta0 = -0.01393253852623739 theta1 = -0.6060516996372771 cost = 0.3270386748006225\n",
      "Epoch 539 theta0 = -0.013932538526237381 theta1 = -0.6060516996372771 cost = 0.32703867480062243\n",
      "Epoch 540 theta0 = -0.01393253852623739 theta1 = -0.6060516996372771 cost = 0.3270386748006225\n",
      "Epoch 541 theta0 = -0.013932538526237381 theta1 = -0.6060516996372771 cost = 0.32703867480062243\n",
      "Epoch 542 theta0 = -0.01393253852623739 theta1 = -0.6060516996372771 cost = 0.3270386748006225\n",
      "Epoch 543 theta0 = -0.013932538526237381 theta1 = -0.6060516996372771 cost = 0.32703867480062243\n",
      "Epoch 544 theta0 = -0.01393253852623739 theta1 = -0.6060516996372771 cost = 0.3270386748006225\n",
      "Epoch 545 theta0 = -0.013932538526237381 theta1 = -0.6060516996372771 cost = 0.32703867480062243\n",
      "Epoch 546 theta0 = -0.01393253852623739 theta1 = -0.6060516996372771 cost = 0.3270386748006225\n",
      "Epoch 547 theta0 = -0.013932538526237381 theta1 = -0.6060516996372771 cost = 0.32703867480062243\n",
      "Epoch 548 theta0 = -0.01393253852623739 theta1 = -0.6060516996372771 cost = 0.3270386748006225\n",
      "Epoch 549 theta0 = -0.013932538526237381 theta1 = -0.6060516996372771 cost = 0.32703867480062243\n",
      "Epoch 550 theta0 = -0.01393253852623739 theta1 = -0.6060516996372771 cost = 0.3270386748006225\n",
      "Epoch 551 theta0 = -0.013932538526237381 theta1 = -0.6060516996372771 cost = 0.32703867480062243\n",
      "Epoch 552 theta0 = -0.01393253852623739 theta1 = -0.6060516996372771 cost = 0.3270386748006225\n",
      "Epoch 553 theta0 = -0.013932538526237381 theta1 = -0.6060516996372771 cost = 0.32703867480062243\n",
      "Epoch 554 theta0 = -0.01393253852623739 theta1 = -0.6060516996372771 cost = 0.3270386748006225\n",
      "Epoch 555 theta0 = -0.013932538526237381 theta1 = -0.6060516996372771 cost = 0.32703867480062243\n",
      "Epoch 556 theta0 = -0.01393253852623739 theta1 = -0.6060516996372771 cost = 0.3270386748006225\n",
      "Epoch 557 theta0 = -0.013932538526237381 theta1 = -0.6060516996372771 cost = 0.32703867480062243\n",
      "Epoch 558 theta0 = -0.01393253852623739 theta1 = -0.6060516996372771 cost = 0.3270386748006225\n",
      "Epoch 559 theta0 = -0.013932538526237381 theta1 = -0.6060516996372771 cost = 0.32703867480062243\n",
      "Epoch 560 theta0 = -0.01393253852623739 theta1 = -0.6060516996372771 cost = 0.3270386748006225\n",
      "Epoch 561 theta0 = -0.013932538526237381 theta1 = -0.6060516996372771 cost = 0.32703867480062243\n",
      "Epoch 562 theta0 = -0.01393253852623739 theta1 = -0.6060516996372771 cost = 0.3270386748006225\n",
      "Epoch 563 theta0 = -0.013932538526237381 theta1 = -0.6060516996372771 cost = 0.32703867480062243\n",
      "Epoch 564 theta0 = -0.01393253852623739 theta1 = -0.6060516996372771 cost = 0.3270386748006225\n",
      "Epoch 565 theta0 = -0.013932538526237381 theta1 = -0.6060516996372771 cost = 0.32703867480062243\n",
      "Epoch 566 theta0 = -0.01393253852623739 theta1 = -0.6060516996372771 cost = 0.3270386748006225\n",
      "Epoch 567 theta0 = -0.013932538526237381 theta1 = -0.6060516996372771 cost = 0.32703867480062243\n",
      "Epoch 568 theta0 = -0.01393253852623739 theta1 = -0.6060516996372771 cost = 0.3270386748006225\n",
      "Epoch 569 theta0 = -0.013932538526237381 theta1 = -0.6060516996372771 cost = 0.32703867480062243\n",
      "Epoch 570 theta0 = -0.01393253852623739 theta1 = -0.6060516996372771 cost = 0.3270386748006225\n",
      "Epoch 571 theta0 = -0.013932538526237381 theta1 = -0.6060516996372771 cost = 0.32703867480062243\n",
      "Epoch 572 theta0 = -0.01393253852623739 theta1 = -0.6060516996372771 cost = 0.3270386748006225\n",
      "Epoch 573 theta0 = -0.013932538526237381 theta1 = -0.6060516996372771 cost = 0.32703867480062243\n",
      "Epoch 574 theta0 = -0.01393253852623739 theta1 = -0.6060516996372771 cost = 0.3270386748006225\n",
      "Epoch 575 theta0 = -0.013932538526237381 theta1 = -0.6060516996372771 cost = 0.32703867480062243\n",
      "Epoch 576 theta0 = -0.01393253852623739 theta1 = -0.6060516996372771 cost = 0.3270386748006225\n",
      "Epoch 577 theta0 = -0.013932538526237381 theta1 = -0.6060516996372771 cost = 0.32703867480062243\n",
      "Epoch 578 theta0 = -0.01393253852623739 theta1 = -0.6060516996372771 cost = 0.3270386748006225\n",
      "Epoch 579 theta0 = -0.013932538526237381 theta1 = -0.6060516996372771 cost = 0.32703867480062243\n",
      "Epoch 580 theta0 = -0.01393253852623739 theta1 = -0.6060516996372771 cost = 0.3270386748006225\n",
      "Epoch 581 theta0 = -0.013932538526237381 theta1 = -0.6060516996372771 cost = 0.32703867480062243\n",
      "Epoch 582 theta0 = -0.01393253852623739 theta1 = -0.6060516996372771 cost = 0.3270386748006225\n",
      "Epoch 583 theta0 = -0.013932538526237381 theta1 = -0.6060516996372771 cost = 0.32703867480062243\n",
      "Epoch 584 theta0 = -0.01393253852623739 theta1 = -0.6060516996372771 cost = 0.3270386748006225\n",
      "Epoch 585 theta0 = -0.013932538526237381 theta1 = -0.6060516996372771 cost = 0.32703867480062243\n",
      "Epoch 586 theta0 = -0.01393253852623739 theta1 = -0.6060516996372771 cost = 0.3270386748006225\n",
      "Epoch 587 theta0 = -0.013932538526237381 theta1 = -0.6060516996372771 cost = 0.32703867480062243\n",
      "Epoch 588 theta0 = -0.01393253852623739 theta1 = -0.6060516996372771 cost = 0.3270386748006225\n",
      "Epoch 589 theta0 = -0.013932538526237381 theta1 = -0.6060516996372771 cost = 0.32703867480062243\n",
      "Epoch 590 theta0 = -0.01393253852623739 theta1 = -0.6060516996372771 cost = 0.3270386748006225\n",
      "Epoch 591 theta0 = -0.013932538526237381 theta1 = -0.6060516996372771 cost = 0.32703867480062243\n",
      "Epoch 592 theta0 = -0.01393253852623739 theta1 = -0.6060516996372771 cost = 0.3270386748006225\n",
      "Epoch 593 theta0 = -0.013932538526237381 theta1 = -0.6060516996372771 cost = 0.32703867480062243\n",
      "Epoch 594 theta0 = -0.01393253852623739 theta1 = -0.6060516996372771 cost = 0.3270386748006225\n",
      "Epoch 595 theta0 = -0.013932538526237381 theta1 = -0.6060516996372771 cost = 0.32703867480062243\n",
      "Epoch 596 theta0 = -0.01393253852623739 theta1 = -0.6060516996372771 cost = 0.3270386748006225\n",
      "Epoch 597 theta0 = -0.013932538526237381 theta1 = -0.6060516996372771 cost = 0.32703867480062243\n",
      "Epoch 598 theta0 = -0.01393253852623739 theta1 = -0.6060516996372771 cost = 0.3270386748006225\n",
      "Epoch 599 theta0 = -0.013932538526237381 theta1 = -0.6060516996372771 cost = 0.32703867480062243\n",
      "Epoch 600 theta0 = -0.01393253852623739 theta1 = -0.6060516996372771 cost = 0.3270386748006225\n",
      "Epoch 601 theta0 = -0.013932538526237381 theta1 = -0.6060516996372771 cost = 0.32703867480062243\n",
      "Epoch 602 theta0 = -0.01393253852623739 theta1 = -0.6060516996372771 cost = 0.3270386748006225\n",
      "Epoch 603 theta0 = -0.013932538526237381 theta1 = -0.6060516996372771 cost = 0.32703867480062243\n",
      "Epoch 604 theta0 = -0.01393253852623739 theta1 = -0.6060516996372771 cost = 0.3270386748006225\n",
      "Epoch 605 theta0 = -0.013932538526237381 theta1 = -0.6060516996372771 cost = 0.32703867480062243\n",
      "Epoch 606 theta0 = -0.01393253852623739 theta1 = -0.6060516996372771 cost = 0.3270386748006225\n",
      "Epoch 607 theta0 = -0.013932538526237381 theta1 = -0.6060516996372771 cost = 0.32703867480062243\n",
      "Epoch 608 theta0 = -0.01393253852623739 theta1 = -0.6060516996372771 cost = 0.3270386748006225\n",
      "Epoch 609 theta0 = -0.013932538526237381 theta1 = -0.6060516996372771 cost = 0.32703867480062243\n",
      "Epoch 610 theta0 = -0.01393253852623739 theta1 = -0.6060516996372771 cost = 0.3270386748006225\n",
      "Epoch 611 theta0 = -0.013932538526237381 theta1 = -0.6060516996372771 cost = 0.32703867480062243\n",
      "Epoch 612 theta0 = -0.01393253852623739 theta1 = -0.6060516996372771 cost = 0.3270386748006225\n",
      "Epoch 613 theta0 = -0.013932538526237381 theta1 = -0.6060516996372771 cost = 0.32703867480062243\n",
      "Epoch 614 theta0 = -0.01393253852623739 theta1 = -0.6060516996372771 cost = 0.3270386748006225\n",
      "Epoch 615 theta0 = -0.013932538526237381 theta1 = -0.6060516996372771 cost = 0.32703867480062243\n",
      "Epoch 616 theta0 = -0.01393253852623739 theta1 = -0.6060516996372771 cost = 0.3270386748006225\n",
      "Epoch 617 theta0 = -0.013932538526237381 theta1 = -0.6060516996372771 cost = 0.32703867480062243\n",
      "Epoch 618 theta0 = -0.01393253852623739 theta1 = -0.6060516996372771 cost = 0.3270386748006225\n",
      "Epoch 619 theta0 = -0.013932538526237381 theta1 = -0.6060516996372771 cost = 0.32703867480062243\n",
      "Epoch 620 theta0 = -0.01393253852623739 theta1 = -0.6060516996372771 cost = 0.3270386748006225\n",
      "Epoch 621 theta0 = -0.013932538526237381 theta1 = -0.6060516996372771 cost = 0.32703867480062243\n",
      "Epoch 622 theta0 = -0.01393253852623739 theta1 = -0.6060516996372771 cost = 0.3270386748006225\n",
      "Epoch 623 theta0 = -0.013932538526237381 theta1 = -0.6060516996372771 cost = 0.32703867480062243\n",
      "Epoch 624 theta0 = -0.01393253852623739 theta1 = -0.6060516996372771 cost = 0.3270386748006225\n",
      "Epoch 625 theta0 = -0.013932538526237381 theta1 = -0.6060516996372771 cost = 0.32703867480062243\n",
      "Epoch 626 theta0 = -0.01393253852623739 theta1 = -0.6060516996372771 cost = 0.3270386748006225\n",
      "Epoch 627 theta0 = -0.013932538526237381 theta1 = -0.6060516996372771 cost = 0.32703867480062243\n",
      "Epoch 628 theta0 = -0.01393253852623739 theta1 = -0.6060516996372771 cost = 0.3270386748006225\n",
      "Epoch 629 theta0 = -0.013932538526237381 theta1 = -0.6060516996372771 cost = 0.32703867480062243\n",
      "Epoch 630 theta0 = -0.01393253852623739 theta1 = -0.6060516996372771 cost = 0.3270386748006225\n",
      "Epoch 631 theta0 = -0.013932538526237381 theta1 = -0.6060516996372771 cost = 0.32703867480062243\n",
      "Epoch 632 theta0 = -0.01393253852623739 theta1 = -0.6060516996372771 cost = 0.3270386748006225\n",
      "Epoch 633 theta0 = -0.013932538526237381 theta1 = -0.6060516996372771 cost = 0.32703867480062243\n",
      "Epoch 634 theta0 = -0.01393253852623739 theta1 = -0.6060516996372771 cost = 0.3270386748006225\n",
      "Epoch 635 theta0 = -0.013932538526237381 theta1 = -0.6060516996372771 cost = 0.32703867480062243\n",
      "Epoch 636 theta0 = -0.01393253852623739 theta1 = -0.6060516996372771 cost = 0.3270386748006225\n",
      "Epoch 637 theta0 = -0.013932538526237381 theta1 = -0.6060516996372771 cost = 0.32703867480062243\n",
      "Epoch 638 theta0 = -0.01393253852623739 theta1 = -0.6060516996372771 cost = 0.3270386748006225\n",
      "Epoch 639 theta0 = -0.013932538526237381 theta1 = -0.6060516996372771 cost = 0.32703867480062243\n",
      "Epoch 640 theta0 = -0.01393253852623739 theta1 = -0.6060516996372771 cost = 0.3270386748006225\n",
      "Epoch 641 theta0 = -0.013932538526237381 theta1 = -0.6060516996372771 cost = 0.32703867480062243\n",
      "Epoch 642 theta0 = -0.01393253852623739 theta1 = -0.6060516996372771 cost = 0.3270386748006225\n",
      "Epoch 643 theta0 = -0.013932538526237381 theta1 = -0.6060516996372771 cost = 0.32703867480062243\n",
      "Epoch 644 theta0 = -0.01393253852623739 theta1 = -0.6060516996372771 cost = 0.3270386748006225\n",
      "Epoch 645 theta0 = -0.013932538526237381 theta1 = -0.6060516996372771 cost = 0.32703867480062243\n",
      "Epoch 646 theta0 = -0.01393253852623739 theta1 = -0.6060516996372771 cost = 0.3270386748006225\n",
      "Epoch 647 theta0 = -0.013932538526237381 theta1 = -0.6060516996372771 cost = 0.32703867480062243\n",
      "Epoch 648 theta0 = -0.01393253852623739 theta1 = -0.6060516996372771 cost = 0.3270386748006225\n",
      "Epoch 649 theta0 = -0.013932538526237381 theta1 = -0.6060516996372771 cost = 0.32703867480062243\n",
      "Epoch 650 theta0 = -0.01393253852623739 theta1 = -0.6060516996372771 cost = 0.3270386748006225\n",
      "Epoch 651 theta0 = -0.013932538526237381 theta1 = -0.6060516996372771 cost = 0.32703867480062243\n",
      "Epoch 652 theta0 = -0.01393253852623739 theta1 = -0.6060516996372771 cost = 0.3270386748006225\n",
      "Epoch 653 theta0 = -0.013932538526237381 theta1 = -0.6060516996372771 cost = 0.32703867480062243\n",
      "Epoch 654 theta0 = -0.01393253852623739 theta1 = -0.6060516996372771 cost = 0.3270386748006225\n",
      "Epoch 655 theta0 = -0.013932538526237381 theta1 = -0.6060516996372771 cost = 0.32703867480062243\n",
      "Epoch 656 theta0 = -0.01393253852623739 theta1 = -0.6060516996372771 cost = 0.3270386748006225\n",
      "Epoch 657 theta0 = -0.013932538526237381 theta1 = -0.6060516996372771 cost = 0.32703867480062243\n",
      "Epoch 658 theta0 = -0.01393253852623739 theta1 = -0.6060516996372771 cost = 0.3270386748006225\n",
      "Epoch 659 theta0 = -0.013932538526237381 theta1 = -0.6060516996372771 cost = 0.32703867480062243\n",
      "Epoch 660 theta0 = -0.01393253852623739 theta1 = -0.6060516996372771 cost = 0.3270386748006225\n",
      "Epoch 661 theta0 = -0.013932538526237381 theta1 = -0.6060516996372771 cost = 0.32703867480062243\n",
      "Epoch 662 theta0 = -0.01393253852623739 theta1 = -0.6060516996372771 cost = 0.3270386748006225\n"
     ]
    },
    {
     "name": "stdout",
     "output_type": "stream",
     "text": [
      "Epoch 663 theta0 = -0.013932538526237381 theta1 = -0.6060516996372771 cost = 0.32703867480062243\n",
      "Epoch 664 theta0 = -0.01393253852623739 theta1 = -0.6060516996372771 cost = 0.3270386748006225\n",
      "Epoch 665 theta0 = -0.013932538526237381 theta1 = -0.6060516996372771 cost = 0.32703867480062243\n",
      "Epoch 666 theta0 = -0.01393253852623739 theta1 = -0.6060516996372771 cost = 0.3270386748006225\n",
      "Epoch 667 theta0 = -0.013932538526237381 theta1 = -0.6060516996372771 cost = 0.32703867480062243\n",
      "Epoch 668 theta0 = -0.01393253852623739 theta1 = -0.6060516996372771 cost = 0.3270386748006225\n",
      "Epoch 669 theta0 = -0.013932538526237381 theta1 = -0.6060516996372771 cost = 0.32703867480062243\n",
      "Epoch 670 theta0 = -0.01393253852623739 theta1 = -0.6060516996372771 cost = 0.3270386748006225\n",
      "Epoch 671 theta0 = -0.013932538526237381 theta1 = -0.6060516996372771 cost = 0.32703867480062243\n",
      "Epoch 672 theta0 = -0.01393253852623739 theta1 = -0.6060516996372771 cost = 0.3270386748006225\n",
      "Epoch 673 theta0 = -0.013932538526237381 theta1 = -0.6060516996372771 cost = 0.32703867480062243\n",
      "Epoch 674 theta0 = -0.01393253852623739 theta1 = -0.6060516996372771 cost = 0.3270386748006225\n",
      "Epoch 675 theta0 = -0.013932538526237381 theta1 = -0.6060516996372771 cost = 0.32703867480062243\n",
      "Epoch 676 theta0 = -0.01393253852623739 theta1 = -0.6060516996372771 cost = 0.3270386748006225\n",
      "Epoch 677 theta0 = -0.013932538526237381 theta1 = -0.6060516996372771 cost = 0.32703867480062243\n",
      "Epoch 678 theta0 = -0.01393253852623739 theta1 = -0.6060516996372771 cost = 0.3270386748006225\n",
      "Epoch 679 theta0 = -0.013932538526237381 theta1 = -0.6060516996372771 cost = 0.32703867480062243\n",
      "Epoch 680 theta0 = -0.01393253852623739 theta1 = -0.6060516996372771 cost = 0.3270386748006225\n",
      "Epoch 681 theta0 = -0.013932538526237381 theta1 = -0.6060516996372771 cost = 0.32703867480062243\n",
      "Epoch 682 theta0 = -0.01393253852623739 theta1 = -0.6060516996372771 cost = 0.3270386748006225\n",
      "Epoch 683 theta0 = -0.013932538526237381 theta1 = -0.6060516996372771 cost = 0.32703867480062243\n",
      "Epoch 684 theta0 = -0.01393253852623739 theta1 = -0.6060516996372771 cost = 0.3270386748006225\n",
      "Epoch 685 theta0 = -0.013932538526237381 theta1 = -0.6060516996372771 cost = 0.32703867480062243\n",
      "Epoch 686 theta0 = -0.01393253852623739 theta1 = -0.6060516996372771 cost = 0.3270386748006225\n",
      "Epoch 687 theta0 = -0.013932538526237381 theta1 = -0.6060516996372771 cost = 0.32703867480062243\n",
      "Epoch 688 theta0 = -0.01393253852623739 theta1 = -0.6060516996372771 cost = 0.3270386748006225\n",
      "Epoch 689 theta0 = -0.013932538526237381 theta1 = -0.6060516996372771 cost = 0.32703867480062243\n",
      "Epoch 690 theta0 = -0.01393253852623739 theta1 = -0.6060516996372771 cost = 0.3270386748006225\n",
      "Epoch 691 theta0 = -0.013932538526237381 theta1 = -0.6060516996372771 cost = 0.32703867480062243\n",
      "Epoch 692 theta0 = -0.01393253852623739 theta1 = -0.6060516996372771 cost = 0.3270386748006225\n",
      "Epoch 693 theta0 = -0.013932538526237381 theta1 = -0.6060516996372771 cost = 0.32703867480062243\n",
      "Epoch 694 theta0 = -0.01393253852623739 theta1 = -0.6060516996372771 cost = 0.3270386748006225\n",
      "Epoch 695 theta0 = -0.013932538526237381 theta1 = -0.6060516996372771 cost = 0.32703867480062243\n",
      "Epoch 696 theta0 = -0.01393253852623739 theta1 = -0.6060516996372771 cost = 0.3270386748006225\n",
      "Epoch 697 theta0 = -0.013932538526237381 theta1 = -0.6060516996372771 cost = 0.32703867480062243\n",
      "Epoch 698 theta0 = -0.01393253852623739 theta1 = -0.6060516996372771 cost = 0.3270386748006225\n",
      "Epoch 699 theta0 = -0.013932538526237381 theta1 = -0.6060516996372771 cost = 0.32703867480062243\n",
      "Epoch 700 theta0 = -0.01393253852623739 theta1 = -0.6060516996372771 cost = 0.3270386748006225\n",
      "Epoch 701 theta0 = -0.013932538526237381 theta1 = -0.6060516996372771 cost = 0.32703867480062243\n",
      "Epoch 702 theta0 = -0.01393253852623739 theta1 = -0.6060516996372771 cost = 0.3270386748006225\n",
      "Epoch 703 theta0 = -0.013932538526237381 theta1 = -0.6060516996372771 cost = 0.32703867480062243\n",
      "Epoch 704 theta0 = -0.01393253852623739 theta1 = -0.6060516996372771 cost = 0.3270386748006225\n",
      "Epoch 705 theta0 = -0.013932538526237381 theta1 = -0.6060516996372771 cost = 0.32703867480062243\n",
      "Epoch 706 theta0 = -0.01393253852623739 theta1 = -0.6060516996372771 cost = 0.3270386748006225\n",
      "Epoch 707 theta0 = -0.013932538526237381 theta1 = -0.6060516996372771 cost = 0.32703867480062243\n",
      "Epoch 708 theta0 = -0.01393253852623739 theta1 = -0.6060516996372771 cost = 0.3270386748006225\n",
      "Epoch 709 theta0 = -0.013932538526237381 theta1 = -0.6060516996372771 cost = 0.32703867480062243\n",
      "Epoch 710 theta0 = -0.01393253852623739 theta1 = -0.6060516996372771 cost = 0.3270386748006225\n",
      "Epoch 711 theta0 = -0.013932538526237381 theta1 = -0.6060516996372771 cost = 0.32703867480062243\n",
      "Epoch 712 theta0 = -0.01393253852623739 theta1 = -0.6060516996372771 cost = 0.3270386748006225\n",
      "Epoch 713 theta0 = -0.013932538526237381 theta1 = -0.6060516996372771 cost = 0.32703867480062243\n",
      "Epoch 714 theta0 = -0.01393253852623739 theta1 = -0.6060516996372771 cost = 0.3270386748006225\n",
      "Epoch 715 theta0 = -0.013932538526237381 theta1 = -0.6060516996372771 cost = 0.32703867480062243\n",
      "Epoch 716 theta0 = -0.01393253852623739 theta1 = -0.6060516996372771 cost = 0.3270386748006225\n",
      "Epoch 717 theta0 = -0.013932538526237381 theta1 = -0.6060516996372771 cost = 0.32703867480062243\n",
      "Epoch 718 theta0 = -0.01393253852623739 theta1 = -0.6060516996372771 cost = 0.3270386748006225\n",
      "Epoch 719 theta0 = -0.013932538526237381 theta1 = -0.6060516996372771 cost = 0.32703867480062243\n",
      "Epoch 720 theta0 = -0.01393253852623739 theta1 = -0.6060516996372771 cost = 0.3270386748006225\n",
      "Epoch 721 theta0 = -0.013932538526237381 theta1 = -0.6060516996372771 cost = 0.32703867480062243\n",
      "Epoch 722 theta0 = -0.01393253852623739 theta1 = -0.6060516996372771 cost = 0.3270386748006225\n",
      "Epoch 723 theta0 = -0.013932538526237381 theta1 = -0.6060516996372771 cost = 0.32703867480062243\n",
      "Epoch 724 theta0 = -0.01393253852623739 theta1 = -0.6060516996372771 cost = 0.3270386748006225\n",
      "Epoch 725 theta0 = -0.013932538526237381 theta1 = -0.6060516996372771 cost = 0.32703867480062243\n",
      "Epoch 726 theta0 = -0.01393253852623739 theta1 = -0.6060516996372771 cost = 0.3270386748006225\n",
      "Epoch 727 theta0 = -0.013932538526237381 theta1 = -0.6060516996372771 cost = 0.32703867480062243\n",
      "Epoch 728 theta0 = -0.01393253852623739 theta1 = -0.6060516996372771 cost = 0.3270386748006225\n",
      "Epoch 729 theta0 = -0.013932538526237381 theta1 = -0.6060516996372771 cost = 0.32703867480062243\n",
      "Epoch 730 theta0 = -0.01393253852623739 theta1 = -0.6060516996372771 cost = 0.3270386748006225\n",
      "Epoch 731 theta0 = -0.013932538526237381 theta1 = -0.6060516996372771 cost = 0.32703867480062243\n",
      "Epoch 732 theta0 = -0.01393253852623739 theta1 = -0.6060516996372771 cost = 0.3270386748006225\n",
      "Epoch 733 theta0 = -0.013932538526237381 theta1 = -0.6060516996372771 cost = 0.32703867480062243\n",
      "Epoch 734 theta0 = -0.01393253852623739 theta1 = -0.6060516996372771 cost = 0.3270386748006225\n",
      "Epoch 735 theta0 = -0.013932538526237381 theta1 = -0.6060516996372771 cost = 0.32703867480062243\n",
      "Epoch 736 theta0 = -0.01393253852623739 theta1 = -0.6060516996372771 cost = 0.3270386748006225\n",
      "Epoch 737 theta0 = -0.013932538526237381 theta1 = -0.6060516996372771 cost = 0.32703867480062243\n",
      "Epoch 738 theta0 = -0.01393253852623739 theta1 = -0.6060516996372771 cost = 0.3270386748006225\n",
      "Epoch 739 theta0 = -0.013932538526237381 theta1 = -0.6060516996372771 cost = 0.32703867480062243\n",
      "Epoch 740 theta0 = -0.01393253852623739 theta1 = -0.6060516996372771 cost = 0.3270386748006225\n",
      "Epoch 741 theta0 = -0.013932538526237381 theta1 = -0.6060516996372771 cost = 0.32703867480062243\n",
      "Epoch 742 theta0 = -0.01393253852623739 theta1 = -0.6060516996372771 cost = 0.3270386748006225\n",
      "Epoch 743 theta0 = -0.013932538526237381 theta1 = -0.6060516996372771 cost = 0.32703867480062243\n",
      "Epoch 744 theta0 = -0.01393253852623739 theta1 = -0.6060516996372771 cost = 0.3270386748006225\n",
      "Epoch 745 theta0 = -0.013932538526237381 theta1 = -0.6060516996372771 cost = 0.32703867480062243\n",
      "Epoch 746 theta0 = -0.01393253852623739 theta1 = -0.6060516996372771 cost = 0.3270386748006225\n",
      "Epoch 747 theta0 = -0.013932538526237381 theta1 = -0.6060516996372771 cost = 0.32703867480062243\n",
      "Epoch 748 theta0 = -0.01393253852623739 theta1 = -0.6060516996372771 cost = 0.3270386748006225\n",
      "Epoch 749 theta0 = -0.013932538526237381 theta1 = -0.6060516996372771 cost = 0.32703867480062243\n",
      "Epoch 750 theta0 = -0.01393253852623739 theta1 = -0.6060516996372771 cost = 0.3270386748006225\n",
      "Epoch 751 theta0 = -0.013932538526237381 theta1 = -0.6060516996372771 cost = 0.32703867480062243\n",
      "Epoch 752 theta0 = -0.01393253852623739 theta1 = -0.6060516996372771 cost = 0.3270386748006225\n",
      "Epoch 753 theta0 = -0.013932538526237381 theta1 = -0.6060516996372771 cost = 0.32703867480062243\n",
      "Epoch 754 theta0 = -0.01393253852623739 theta1 = -0.6060516996372771 cost = 0.3270386748006225\n",
      "Epoch 755 theta0 = -0.013932538526237381 theta1 = -0.6060516996372771 cost = 0.32703867480062243\n",
      "Epoch 756 theta0 = -0.01393253852623739 theta1 = -0.6060516996372771 cost = 0.3270386748006225\n",
      "Epoch 757 theta0 = -0.013932538526237381 theta1 = -0.6060516996372771 cost = 0.32703867480062243\n",
      "Epoch 758 theta0 = -0.01393253852623739 theta1 = -0.6060516996372771 cost = 0.3270386748006225\n",
      "Epoch 759 theta0 = -0.013932538526237381 theta1 = -0.6060516996372771 cost = 0.32703867480062243\n",
      "Epoch 760 theta0 = -0.01393253852623739 theta1 = -0.6060516996372771 cost = 0.3270386748006225\n",
      "Epoch 761 theta0 = -0.013932538526237381 theta1 = -0.6060516996372771 cost = 0.32703867480062243\n",
      "Epoch 762 theta0 = -0.01393253852623739 theta1 = -0.6060516996372771 cost = 0.3270386748006225\n",
      "Epoch 763 theta0 = -0.013932538526237381 theta1 = -0.6060516996372771 cost = 0.32703867480062243\n",
      "Epoch 764 theta0 = -0.01393253852623739 theta1 = -0.6060516996372771 cost = 0.3270386748006225\n",
      "Epoch 765 theta0 = -0.013932538526237381 theta1 = -0.6060516996372771 cost = 0.32703867480062243\n",
      "Epoch 766 theta0 = -0.01393253852623739 theta1 = -0.6060516996372771 cost = 0.3270386748006225\n",
      "Epoch 767 theta0 = -0.013932538526237381 theta1 = -0.6060516996372771 cost = 0.32703867480062243\n",
      "Epoch 768 theta0 = -0.01393253852623739 theta1 = -0.6060516996372771 cost = 0.3270386748006225\n",
      "Epoch 769 theta0 = -0.013932538526237381 theta1 = -0.6060516996372771 cost = 0.32703867480062243\n",
      "Epoch 770 theta0 = -0.01393253852623739 theta1 = -0.6060516996372771 cost = 0.3270386748006225\n",
      "Epoch 771 theta0 = -0.013932538526237381 theta1 = -0.6060516996372771 cost = 0.32703867480062243\n",
      "Epoch 772 theta0 = -0.01393253852623739 theta1 = -0.6060516996372771 cost = 0.3270386748006225\n",
      "Epoch 773 theta0 = -0.013932538526237381 theta1 = -0.6060516996372771 cost = 0.32703867480062243\n",
      "Epoch 774 theta0 = -0.01393253852623739 theta1 = -0.6060516996372771 cost = 0.3270386748006225\n",
      "Epoch 775 theta0 = -0.013932538526237381 theta1 = -0.6060516996372771 cost = 0.32703867480062243\n",
      "Epoch 776 theta0 = -0.01393253852623739 theta1 = -0.6060516996372771 cost = 0.3270386748006225\n",
      "Epoch 777 theta0 = -0.013932538526237381 theta1 = -0.6060516996372771 cost = 0.32703867480062243\n",
      "Epoch 778 theta0 = -0.01393253852623739 theta1 = -0.6060516996372771 cost = 0.3270386748006225\n",
      "Epoch 779 theta0 = -0.013932538526237381 theta1 = -0.6060516996372771 cost = 0.32703867480062243\n",
      "Epoch 780 theta0 = -0.01393253852623739 theta1 = -0.6060516996372771 cost = 0.3270386748006225\n",
      "Epoch 781 theta0 = -0.013932538526237381 theta1 = -0.6060516996372771 cost = 0.32703867480062243\n",
      "Epoch 782 theta0 = -0.01393253852623739 theta1 = -0.6060516996372771 cost = 0.3270386748006225\n",
      "Epoch 783 theta0 = -0.013932538526237381 theta1 = -0.6060516996372771 cost = 0.32703867480062243\n",
      "Epoch 784 theta0 = -0.01393253852623739 theta1 = -0.6060516996372771 cost = 0.3270386748006225\n",
      "Epoch 785 theta0 = -0.013932538526237381 theta1 = -0.6060516996372771 cost = 0.32703867480062243\n",
      "Epoch 786 theta0 = -0.01393253852623739 theta1 = -0.6060516996372771 cost = 0.3270386748006225\n",
      "Epoch 787 theta0 = -0.013932538526237381 theta1 = -0.6060516996372771 cost = 0.32703867480062243\n",
      "Epoch 788 theta0 = -0.01393253852623739 theta1 = -0.6060516996372771 cost = 0.3270386748006225\n",
      "Epoch 789 theta0 = -0.013932538526237381 theta1 = -0.6060516996372771 cost = 0.32703867480062243\n",
      "Epoch 790 theta0 = -0.01393253852623739 theta1 = -0.6060516996372771 cost = 0.3270386748006225\n",
      "Epoch 791 theta0 = -0.013932538526237381 theta1 = -0.6060516996372771 cost = 0.32703867480062243\n",
      "Epoch 792 theta0 = -0.01393253852623739 theta1 = -0.6060516996372771 cost = 0.3270386748006225\n",
      "Epoch 793 theta0 = -0.013932538526237381 theta1 = -0.6060516996372771 cost = 0.32703867480062243\n",
      "Epoch 794 theta0 = -0.01393253852623739 theta1 = -0.6060516996372771 cost = 0.3270386748006225\n"
     ]
    },
    {
     "name": "stdout",
     "output_type": "stream",
     "text": [
      "Epoch 795 theta0 = -0.013932538526237381 theta1 = -0.6060516996372771 cost = 0.32703867480062243\n",
      "Epoch 796 theta0 = -0.01393253852623739 theta1 = -0.6060516996372771 cost = 0.3270386748006225\n",
      "Epoch 797 theta0 = -0.013932538526237381 theta1 = -0.6060516996372771 cost = 0.32703867480062243\n",
      "Epoch 798 theta0 = -0.01393253852623739 theta1 = -0.6060516996372771 cost = 0.3270386748006225\n",
      "Epoch 799 theta0 = -0.013932538526237381 theta1 = -0.6060516996372771 cost = 0.32703867480062243\n",
      "Epoch 800 theta0 = -0.01393253852623739 theta1 = -0.6060516996372771 cost = 0.3270386748006225\n",
      "Epoch 801 theta0 = -0.013932538526237381 theta1 = -0.6060516996372771 cost = 0.32703867480062243\n",
      "Epoch 802 theta0 = -0.01393253852623739 theta1 = -0.6060516996372771 cost = 0.3270386748006225\n",
      "Epoch 803 theta0 = -0.013932538526237381 theta1 = -0.6060516996372771 cost = 0.32703867480062243\n",
      "Epoch 804 theta0 = -0.01393253852623739 theta1 = -0.6060516996372771 cost = 0.3270386748006225\n",
      "Epoch 805 theta0 = -0.013932538526237381 theta1 = -0.6060516996372771 cost = 0.32703867480062243\n",
      "Epoch 806 theta0 = -0.01393253852623739 theta1 = -0.6060516996372771 cost = 0.3270386748006225\n",
      "Epoch 807 theta0 = -0.013932538526237381 theta1 = -0.6060516996372771 cost = 0.32703867480062243\n",
      "Epoch 808 theta0 = -0.01393253852623739 theta1 = -0.6060516996372771 cost = 0.3270386748006225\n",
      "Epoch 809 theta0 = -0.013932538526237381 theta1 = -0.6060516996372771 cost = 0.32703867480062243\n",
      "Epoch 810 theta0 = -0.01393253852623739 theta1 = -0.6060516996372771 cost = 0.3270386748006225\n",
      "Epoch 811 theta0 = -0.013932538526237381 theta1 = -0.6060516996372771 cost = 0.32703867480062243\n",
      "Epoch 812 theta0 = -0.01393253852623739 theta1 = -0.6060516996372771 cost = 0.3270386748006225\n",
      "Epoch 813 theta0 = -0.013932538526237381 theta1 = -0.6060516996372771 cost = 0.32703867480062243\n",
      "Epoch 814 theta0 = -0.01393253852623739 theta1 = -0.6060516996372771 cost = 0.3270386748006225\n",
      "Epoch 815 theta0 = -0.013932538526237381 theta1 = -0.6060516996372771 cost = 0.32703867480062243\n",
      "Epoch 816 theta0 = -0.01393253852623739 theta1 = -0.6060516996372771 cost = 0.3270386748006225\n",
      "Epoch 817 theta0 = -0.013932538526237381 theta1 = -0.6060516996372771 cost = 0.32703867480062243\n",
      "Epoch 818 theta0 = -0.01393253852623739 theta1 = -0.6060516996372771 cost = 0.3270386748006225\n",
      "Epoch 819 theta0 = -0.013932538526237381 theta1 = -0.6060516996372771 cost = 0.32703867480062243\n",
      "Epoch 820 theta0 = -0.01393253852623739 theta1 = -0.6060516996372771 cost = 0.3270386748006225\n",
      "Epoch 821 theta0 = -0.013932538526237381 theta1 = -0.6060516996372771 cost = 0.32703867480062243\n",
      "Epoch 822 theta0 = -0.01393253852623739 theta1 = -0.6060516996372771 cost = 0.3270386748006225\n",
      "Epoch 823 theta0 = -0.013932538526237381 theta1 = -0.6060516996372771 cost = 0.32703867480062243\n",
      "Epoch 824 theta0 = -0.01393253852623739 theta1 = -0.6060516996372771 cost = 0.3270386748006225\n",
      "Epoch 825 theta0 = -0.013932538526237381 theta1 = -0.6060516996372771 cost = 0.32703867480062243\n",
      "Epoch 826 theta0 = -0.01393253852623739 theta1 = -0.6060516996372771 cost = 0.3270386748006225\n",
      "Epoch 827 theta0 = -0.013932538526237381 theta1 = -0.6060516996372771 cost = 0.32703867480062243\n",
      "Epoch 828 theta0 = -0.01393253852623739 theta1 = -0.6060516996372771 cost = 0.3270386748006225\n",
      "Epoch 829 theta0 = -0.013932538526237381 theta1 = -0.6060516996372771 cost = 0.32703867480062243\n",
      "Epoch 830 theta0 = -0.01393253852623739 theta1 = -0.6060516996372771 cost = 0.3270386748006225\n",
      "Epoch 831 theta0 = -0.013932538526237381 theta1 = -0.6060516996372771 cost = 0.32703867480062243\n",
      "Epoch 832 theta0 = -0.01393253852623739 theta1 = -0.6060516996372771 cost = 0.3270386748006225\n",
      "Epoch 833 theta0 = -0.013932538526237381 theta1 = -0.6060516996372771 cost = 0.32703867480062243\n",
      "Epoch 834 theta0 = -0.01393253852623739 theta1 = -0.6060516996372771 cost = 0.3270386748006225\n",
      "Epoch 835 theta0 = -0.013932538526237381 theta1 = -0.6060516996372771 cost = 0.32703867480062243\n",
      "Epoch 836 theta0 = -0.01393253852623739 theta1 = -0.6060516996372771 cost = 0.3270386748006225\n",
      "Epoch 837 theta0 = -0.013932538526237381 theta1 = -0.6060516996372771 cost = 0.32703867480062243\n",
      "Epoch 838 theta0 = -0.01393253852623739 theta1 = -0.6060516996372771 cost = 0.3270386748006225\n",
      "Epoch 839 theta0 = -0.013932538526237381 theta1 = -0.6060516996372771 cost = 0.32703867480062243\n",
      "Epoch 840 theta0 = -0.01393253852623739 theta1 = -0.6060516996372771 cost = 0.3270386748006225\n",
      "Epoch 841 theta0 = -0.013932538526237381 theta1 = -0.6060516996372771 cost = 0.32703867480062243\n",
      "Epoch 842 theta0 = -0.01393253852623739 theta1 = -0.6060516996372771 cost = 0.3270386748006225\n",
      "Epoch 843 theta0 = -0.013932538526237381 theta1 = -0.6060516996372771 cost = 0.32703867480062243\n",
      "Epoch 844 theta0 = -0.01393253852623739 theta1 = -0.6060516996372771 cost = 0.3270386748006225\n",
      "Epoch 845 theta0 = -0.013932538526237381 theta1 = -0.6060516996372771 cost = 0.32703867480062243\n",
      "Epoch 846 theta0 = -0.01393253852623739 theta1 = -0.6060516996372771 cost = 0.3270386748006225\n",
      "Epoch 847 theta0 = -0.013932538526237381 theta1 = -0.6060516996372771 cost = 0.32703867480062243\n",
      "Epoch 848 theta0 = -0.01393253852623739 theta1 = -0.6060516996372771 cost = 0.3270386748006225\n",
      "Epoch 849 theta0 = -0.013932538526237381 theta1 = -0.6060516996372771 cost = 0.32703867480062243\n",
      "Epoch 850 theta0 = -0.01393253852623739 theta1 = -0.6060516996372771 cost = 0.3270386748006225\n",
      "Epoch 851 theta0 = -0.013932538526237381 theta1 = -0.6060516996372771 cost = 0.32703867480062243\n",
      "Epoch 852 theta0 = -0.01393253852623739 theta1 = -0.6060516996372771 cost = 0.3270386748006225\n",
      "Epoch 853 theta0 = -0.013932538526237381 theta1 = -0.6060516996372771 cost = 0.32703867480062243\n",
      "Epoch 854 theta0 = -0.01393253852623739 theta1 = -0.6060516996372771 cost = 0.3270386748006225\n",
      "Epoch 855 theta0 = -0.013932538526237381 theta1 = -0.6060516996372771 cost = 0.32703867480062243\n",
      "Epoch 856 theta0 = -0.01393253852623739 theta1 = -0.6060516996372771 cost = 0.3270386748006225\n",
      "Epoch 857 theta0 = -0.013932538526237381 theta1 = -0.6060516996372771 cost = 0.32703867480062243\n",
      "Epoch 858 theta0 = -0.01393253852623739 theta1 = -0.6060516996372771 cost = 0.3270386748006225\n",
      "Epoch 859 theta0 = -0.013932538526237381 theta1 = -0.6060516996372771 cost = 0.32703867480062243\n",
      "Epoch 860 theta0 = -0.01393253852623739 theta1 = -0.6060516996372771 cost = 0.3270386748006225\n",
      "Epoch 861 theta0 = -0.013932538526237381 theta1 = -0.6060516996372771 cost = 0.32703867480062243\n",
      "Epoch 862 theta0 = -0.01393253852623739 theta1 = -0.6060516996372771 cost = 0.3270386748006225\n",
      "Epoch 863 theta0 = -0.013932538526237381 theta1 = -0.6060516996372771 cost = 0.32703867480062243\n",
      "Epoch 864 theta0 = -0.01393253852623739 theta1 = -0.6060516996372771 cost = 0.3270386748006225\n",
      "Epoch 865 theta0 = -0.013932538526237381 theta1 = -0.6060516996372771 cost = 0.32703867480062243\n",
      "Epoch 866 theta0 = -0.01393253852623739 theta1 = -0.6060516996372771 cost = 0.3270386748006225\n",
      "Epoch 867 theta0 = -0.013932538526237381 theta1 = -0.6060516996372771 cost = 0.32703867480062243\n",
      "Epoch 868 theta0 = -0.01393253852623739 theta1 = -0.6060516996372771 cost = 0.3270386748006225\n",
      "Epoch 869 theta0 = -0.013932538526237381 theta1 = -0.6060516996372771 cost = 0.32703867480062243\n",
      "Epoch 870 theta0 = -0.01393253852623739 theta1 = -0.6060516996372771 cost = 0.3270386748006225\n",
      "Epoch 871 theta0 = -0.013932538526237381 theta1 = -0.6060516996372771 cost = 0.32703867480062243\n",
      "Epoch 872 theta0 = -0.01393253852623739 theta1 = -0.6060516996372771 cost = 0.3270386748006225\n",
      "Epoch 873 theta0 = -0.013932538526237381 theta1 = -0.6060516996372771 cost = 0.32703867480062243\n",
      "Epoch 874 theta0 = -0.01393253852623739 theta1 = -0.6060516996372771 cost = 0.3270386748006225\n",
      "Epoch 875 theta0 = -0.013932538526237381 theta1 = -0.6060516996372771 cost = 0.32703867480062243\n",
      "Epoch 876 theta0 = -0.01393253852623739 theta1 = -0.6060516996372771 cost = 0.3270386748006225\n",
      "Epoch 877 theta0 = -0.013932538526237381 theta1 = -0.6060516996372771 cost = 0.32703867480062243\n",
      "Epoch 878 theta0 = -0.01393253852623739 theta1 = -0.6060516996372771 cost = 0.3270386748006225\n",
      "Epoch 879 theta0 = -0.013932538526237381 theta1 = -0.6060516996372771 cost = 0.32703867480062243\n",
      "Epoch 880 theta0 = -0.01393253852623739 theta1 = -0.6060516996372771 cost = 0.3270386748006225\n",
      "Epoch 881 theta0 = -0.013932538526237381 theta1 = -0.6060516996372771 cost = 0.32703867480062243\n",
      "Epoch 882 theta0 = -0.01393253852623739 theta1 = -0.6060516996372771 cost = 0.3270386748006225\n",
      "Epoch 883 theta0 = -0.013932538526237381 theta1 = -0.6060516996372771 cost = 0.32703867480062243\n",
      "Epoch 884 theta0 = -0.01393253852623739 theta1 = -0.6060516996372771 cost = 0.3270386748006225\n",
      "Epoch 885 theta0 = -0.013932538526237381 theta1 = -0.6060516996372771 cost = 0.32703867480062243\n",
      "Epoch 886 theta0 = -0.01393253852623739 theta1 = -0.6060516996372771 cost = 0.3270386748006225\n",
      "Epoch 887 theta0 = -0.013932538526237381 theta1 = -0.6060516996372771 cost = 0.32703867480062243\n",
      "Epoch 888 theta0 = -0.01393253852623739 theta1 = -0.6060516996372771 cost = 0.3270386748006225\n",
      "Epoch 889 theta0 = -0.013932538526237381 theta1 = -0.6060516996372771 cost = 0.32703867480062243\n",
      "Epoch 890 theta0 = -0.01393253852623739 theta1 = -0.6060516996372771 cost = 0.3270386748006225\n",
      "Epoch 891 theta0 = -0.013932538526237381 theta1 = -0.6060516996372771 cost = 0.32703867480062243\n",
      "Epoch 892 theta0 = -0.01393253852623739 theta1 = -0.6060516996372771 cost = 0.3270386748006225\n",
      "Epoch 893 theta0 = -0.013932538526237381 theta1 = -0.6060516996372771 cost = 0.32703867480062243\n",
      "Epoch 894 theta0 = -0.01393253852623739 theta1 = -0.6060516996372771 cost = 0.3270386748006225\n",
      "Epoch 895 theta0 = -0.013932538526237381 theta1 = -0.6060516996372771 cost = 0.32703867480062243\n",
      "Epoch 896 theta0 = -0.01393253852623739 theta1 = -0.6060516996372771 cost = 0.3270386748006225\n",
      "Epoch 897 theta0 = -0.013932538526237381 theta1 = -0.6060516996372771 cost = 0.32703867480062243\n",
      "Epoch 898 theta0 = -0.01393253852623739 theta1 = -0.6060516996372771 cost = 0.3270386748006225\n",
      "Epoch 899 theta0 = -0.013932538526237381 theta1 = -0.6060516996372771 cost = 0.32703867480062243\n",
      "Epoch 900 theta0 = -0.01393253852623739 theta1 = -0.6060516996372771 cost = 0.3270386748006225\n",
      "Epoch 901 theta0 = -0.013932538526237381 theta1 = -0.6060516996372771 cost = 0.32703867480062243\n",
      "Epoch 902 theta0 = -0.01393253852623739 theta1 = -0.6060516996372771 cost = 0.3270386748006225\n",
      "Epoch 903 theta0 = -0.013932538526237381 theta1 = -0.6060516996372771 cost = 0.32703867480062243\n",
      "Epoch 904 theta0 = -0.01393253852623739 theta1 = -0.6060516996372771 cost = 0.3270386748006225\n",
      "Epoch 905 theta0 = -0.013932538526237381 theta1 = -0.6060516996372771 cost = 0.32703867480062243\n",
      "Epoch 906 theta0 = -0.01393253852623739 theta1 = -0.6060516996372771 cost = 0.3270386748006225\n",
      "Epoch 907 theta0 = -0.013932538526237381 theta1 = -0.6060516996372771 cost = 0.32703867480062243\n",
      "Epoch 908 theta0 = -0.01393253852623739 theta1 = -0.6060516996372771 cost = 0.3270386748006225\n",
      "Epoch 909 theta0 = -0.013932538526237381 theta1 = -0.6060516996372771 cost = 0.32703867480062243\n",
      "Epoch 910 theta0 = -0.01393253852623739 theta1 = -0.6060516996372771 cost = 0.3270386748006225\n",
      "Epoch 911 theta0 = -0.013932538526237381 theta1 = -0.6060516996372771 cost = 0.32703867480062243\n",
      "Epoch 912 theta0 = -0.01393253852623739 theta1 = -0.6060516996372771 cost = 0.3270386748006225\n",
      "Epoch 913 theta0 = -0.013932538526237381 theta1 = -0.6060516996372771 cost = 0.32703867480062243\n",
      "Epoch 914 theta0 = -0.01393253852623739 theta1 = -0.6060516996372771 cost = 0.3270386748006225\n",
      "Epoch 915 theta0 = -0.013932538526237381 theta1 = -0.6060516996372771 cost = 0.32703867480062243\n",
      "Epoch 916 theta0 = -0.01393253852623739 theta1 = -0.6060516996372771 cost = 0.3270386748006225\n",
      "Epoch 917 theta0 = -0.013932538526237381 theta1 = -0.6060516996372771 cost = 0.32703867480062243\n",
      "Epoch 918 theta0 = -0.01393253852623739 theta1 = -0.6060516996372771 cost = 0.3270386748006225\n",
      "Epoch 919 theta0 = -0.013932538526237381 theta1 = -0.6060516996372771 cost = 0.32703867480062243\n",
      "Epoch 920 theta0 = -0.01393253852623739 theta1 = -0.6060516996372771 cost = 0.3270386748006225\n",
      "Epoch 921 theta0 = -0.013932538526237381 theta1 = -0.6060516996372771 cost = 0.32703867480062243\n"
     ]
    },
    {
     "name": "stdout",
     "output_type": "stream",
     "text": [
      "Epoch 922 theta0 = -0.01393253852623739 theta1 = -0.6060516996372771 cost = 0.3270386748006225\n",
      "Epoch 923 theta0 = -0.013932538526237381 theta1 = -0.6060516996372771 cost = 0.32703867480062243\n",
      "Epoch 924 theta0 = -0.01393253852623739 theta1 = -0.6060516996372771 cost = 0.3270386748006225\n",
      "Epoch 925 theta0 = -0.013932538526237381 theta1 = -0.6060516996372771 cost = 0.32703867480062243\n",
      "Epoch 926 theta0 = -0.01393253852623739 theta1 = -0.6060516996372771 cost = 0.3270386748006225\n",
      "Epoch 927 theta0 = -0.013932538526237381 theta1 = -0.6060516996372771 cost = 0.32703867480062243\n",
      "Epoch 928 theta0 = -0.01393253852623739 theta1 = -0.6060516996372771 cost = 0.3270386748006225\n",
      "Epoch 929 theta0 = -0.013932538526237381 theta1 = -0.6060516996372771 cost = 0.32703867480062243\n",
      "Epoch 930 theta0 = -0.01393253852623739 theta1 = -0.6060516996372771 cost = 0.3270386748006225\n",
      "Epoch 931 theta0 = -0.013932538526237381 theta1 = -0.6060516996372771 cost = 0.32703867480062243\n",
      "Epoch 932 theta0 = -0.01393253852623739 theta1 = -0.6060516996372771 cost = 0.3270386748006225\n",
      "Epoch 933 theta0 = -0.013932538526237381 theta1 = -0.6060516996372771 cost = 0.32703867480062243\n",
      "Epoch 934 theta0 = -0.01393253852623739 theta1 = -0.6060516996372771 cost = 0.3270386748006225\n",
      "Epoch 935 theta0 = -0.013932538526237381 theta1 = -0.6060516996372771 cost = 0.32703867480062243\n",
      "Epoch 936 theta0 = -0.01393253852623739 theta1 = -0.6060516996372771 cost = 0.3270386748006225\n",
      "Epoch 937 theta0 = -0.013932538526237381 theta1 = -0.6060516996372771 cost = 0.32703867480062243\n",
      "Epoch 938 theta0 = -0.01393253852623739 theta1 = -0.6060516996372771 cost = 0.3270386748006225\n",
      "Epoch 939 theta0 = -0.013932538526237381 theta1 = -0.6060516996372771 cost = 0.32703867480062243\n",
      "Epoch 940 theta0 = -0.01393253852623739 theta1 = -0.6060516996372771 cost = 0.3270386748006225\n",
      "Epoch 941 theta0 = -0.013932538526237381 theta1 = -0.6060516996372771 cost = 0.32703867480062243\n",
      "Epoch 942 theta0 = -0.01393253852623739 theta1 = -0.6060516996372771 cost = 0.3270386748006225\n",
      "Epoch 943 theta0 = -0.013932538526237381 theta1 = -0.6060516996372771 cost = 0.32703867480062243\n",
      "Epoch 944 theta0 = -0.01393253852623739 theta1 = -0.6060516996372771 cost = 0.3270386748006225\n",
      "Epoch 945 theta0 = -0.013932538526237381 theta1 = -0.6060516996372771 cost = 0.32703867480062243\n",
      "Epoch 946 theta0 = -0.01393253852623739 theta1 = -0.6060516996372771 cost = 0.3270386748006225\n",
      "Epoch 947 theta0 = -0.013932538526237381 theta1 = -0.6060516996372771 cost = 0.32703867480062243\n",
      "Epoch 948 theta0 = -0.01393253852623739 theta1 = -0.6060516996372771 cost = 0.3270386748006225\n",
      "Epoch 949 theta0 = -0.013932538526237381 theta1 = -0.6060516996372771 cost = 0.32703867480062243\n",
      "Epoch 950 theta0 = -0.01393253852623739 theta1 = -0.6060516996372771 cost = 0.3270386748006225\n",
      "Epoch 951 theta0 = -0.013932538526237381 theta1 = -0.6060516996372771 cost = 0.32703867480062243\n",
      "Epoch 952 theta0 = -0.01393253852623739 theta1 = -0.6060516996372771 cost = 0.3270386748006225\n",
      "Epoch 953 theta0 = -0.013932538526237381 theta1 = -0.6060516996372771 cost = 0.32703867480062243\n",
      "Epoch 954 theta0 = -0.01393253852623739 theta1 = -0.6060516996372771 cost = 0.3270386748006225\n",
      "Epoch 955 theta0 = -0.013932538526237381 theta1 = -0.6060516996372771 cost = 0.32703867480062243\n",
      "Epoch 956 theta0 = -0.01393253852623739 theta1 = -0.6060516996372771 cost = 0.3270386748006225\n",
      "Epoch 957 theta0 = -0.013932538526237381 theta1 = -0.6060516996372771 cost = 0.32703867480062243\n",
      "Epoch 958 theta0 = -0.01393253852623739 theta1 = -0.6060516996372771 cost = 0.3270386748006225\n",
      "Epoch 959 theta0 = -0.013932538526237381 theta1 = -0.6060516996372771 cost = 0.32703867480062243\n",
      "Epoch 960 theta0 = -0.01393253852623739 theta1 = -0.6060516996372771 cost = 0.3270386748006225\n",
      "Epoch 961 theta0 = -0.013932538526237381 theta1 = -0.6060516996372771 cost = 0.32703867480062243\n",
      "Epoch 962 theta0 = -0.01393253852623739 theta1 = -0.6060516996372771 cost = 0.3270386748006225\n",
      "Epoch 963 theta0 = -0.013932538526237381 theta1 = -0.6060516996372771 cost = 0.32703867480062243\n",
      "Epoch 964 theta0 = -0.01393253852623739 theta1 = -0.6060516996372771 cost = 0.3270386748006225\n",
      "Epoch 965 theta0 = -0.013932538526237381 theta1 = -0.6060516996372771 cost = 0.32703867480062243\n",
      "Epoch 966 theta0 = -0.01393253852623739 theta1 = -0.6060516996372771 cost = 0.3270386748006225\n",
      "Epoch 967 theta0 = -0.013932538526237381 theta1 = -0.6060516996372771 cost = 0.32703867480062243\n",
      "Epoch 968 theta0 = -0.01393253852623739 theta1 = -0.6060516996372771 cost = 0.3270386748006225\n",
      "Epoch 969 theta0 = -0.013932538526237381 theta1 = -0.6060516996372771 cost = 0.32703867480062243\n",
      "Epoch 970 theta0 = -0.01393253852623739 theta1 = -0.6060516996372771 cost = 0.3270386748006225\n",
      "Epoch 971 theta0 = -0.013932538526237381 theta1 = -0.6060516996372771 cost = 0.32703867480062243\n",
      "Epoch 972 theta0 = -0.01393253852623739 theta1 = -0.6060516996372771 cost = 0.3270386748006225\n",
      "Epoch 973 theta0 = -0.013932538526237381 theta1 = -0.6060516996372771 cost = 0.32703867480062243\n",
      "Epoch 974 theta0 = -0.01393253852623739 theta1 = -0.6060516996372771 cost = 0.3270386748006225\n",
      "Epoch 975 theta0 = -0.013932538526237381 theta1 = -0.6060516996372771 cost = 0.32703867480062243\n",
      "Epoch 976 theta0 = -0.01393253852623739 theta1 = -0.6060516996372771 cost = 0.3270386748006225\n",
      "Epoch 977 theta0 = -0.013932538526237381 theta1 = -0.6060516996372771 cost = 0.32703867480062243\n",
      "Epoch 978 theta0 = -0.01393253852623739 theta1 = -0.6060516996372771 cost = 0.3270386748006225\n",
      "Epoch 979 theta0 = -0.013932538526237381 theta1 = -0.6060516996372771 cost = 0.32703867480062243\n",
      "Epoch 980 theta0 = -0.01393253852623739 theta1 = -0.6060516996372771 cost = 0.3270386748006225\n",
      "Epoch 981 theta0 = -0.013932538526237381 theta1 = -0.6060516996372771 cost = 0.32703867480062243\n",
      "Epoch 982 theta0 = -0.01393253852623739 theta1 = -0.6060516996372771 cost = 0.3270386748006225\n",
      "Epoch 983 theta0 = -0.013932538526237381 theta1 = -0.6060516996372771 cost = 0.32703867480062243\n",
      "Epoch 984 theta0 = -0.01393253852623739 theta1 = -0.6060516996372771 cost = 0.3270386748006225\n",
      "Epoch 985 theta0 = -0.013932538526237381 theta1 = -0.6060516996372771 cost = 0.32703867480062243\n",
      "Epoch 986 theta0 = -0.01393253852623739 theta1 = -0.6060516996372771 cost = 0.3270386748006225\n",
      "Epoch 987 theta0 = -0.013932538526237381 theta1 = -0.6060516996372771 cost = 0.32703867480062243\n",
      "Epoch 988 theta0 = -0.01393253852623739 theta1 = -0.6060516996372771 cost = 0.3270386748006225\n",
      "Epoch 989 theta0 = -0.013932538526237381 theta1 = -0.6060516996372771 cost = 0.32703867480062243\n",
      "Epoch 990 theta0 = -0.01393253852623739 theta1 = -0.6060516996372771 cost = 0.3270386748006225\n",
      "Epoch 991 theta0 = -0.013932538526237381 theta1 = -0.6060516996372771 cost = 0.32703867480062243\n",
      "Epoch 992 theta0 = -0.01393253852623739 theta1 = -0.6060516996372771 cost = 0.3270386748006225\n",
      "Epoch 993 theta0 = -0.013932538526237381 theta1 = -0.6060516996372771 cost = 0.32703867480062243\n",
      "Epoch 994 theta0 = -0.01393253852623739 theta1 = -0.6060516996372771 cost = 0.3270386748006225\n",
      "Epoch 995 theta0 = -0.013932538526237381 theta1 = -0.6060516996372771 cost = 0.32703867480062243\n",
      "Epoch 996 theta0 = -0.01393253852623739 theta1 = -0.6060516996372771 cost = 0.3270386748006225\n",
      "Epoch 997 theta0 = -0.013932538526237381 theta1 = -0.6060516996372771 cost = 0.32703867480062243\n",
      "Epoch 998 theta0 = -0.01393253852623739 theta1 = -0.6060516996372771 cost = 0.3270386748006225\n",
      "Epoch 999 theta0 = -0.013932538526237381 theta1 = -0.6060516996372771 cost = 0.32703867480062243\n",
      "Epoch 1000 theta0 = -0.01393253852623739 theta1 = -0.6060516996372771 cost = 0.3270386748006225\n",
      "Epoch 1001 theta0 = -0.013932538526237381 theta1 = -0.6060516996372771 cost = 0.32703867480062243\n",
      "Epoch 1002 theta0 = -0.01393253852623739 theta1 = -0.6060516996372771 cost = 0.3270386748006225\n",
      "Epoch 1003 theta0 = -0.013932538526237381 theta1 = -0.6060516996372771 cost = 0.32703867480062243\n",
      "Epoch 1004 theta0 = -0.01393253852623739 theta1 = -0.6060516996372771 cost = 0.3270386748006225\n",
      "Epoch 1005 theta0 = -0.013932538526237381 theta1 = -0.6060516996372771 cost = 0.32703867480062243\n",
      "Epoch 1006 theta0 = -0.01393253852623739 theta1 = -0.6060516996372771 cost = 0.3270386748006225\n",
      "Epoch 1007 theta0 = -0.013932538526237381 theta1 = -0.6060516996372771 cost = 0.32703867480062243\n",
      "Epoch 1008 theta0 = -0.01393253852623739 theta1 = -0.6060516996372771 cost = 0.3270386748006225\n",
      "Epoch 1009 theta0 = -0.013932538526237381 theta1 = -0.6060516996372771 cost = 0.32703867480062243\n",
      "Epoch 1010 theta0 = -0.01393253852623739 theta1 = -0.6060516996372771 cost = 0.3270386748006225\n",
      "Epoch 1011 theta0 = -0.013932538526237381 theta1 = -0.6060516996372771 cost = 0.32703867480062243\n",
      "Epoch 1012 theta0 = -0.01393253852623739 theta1 = -0.6060516996372771 cost = 0.3270386748006225\n",
      "Epoch 1013 theta0 = -0.013932538526237381 theta1 = -0.6060516996372771 cost = 0.32703867480062243\n",
      "Epoch 1014 theta0 = -0.01393253852623739 theta1 = -0.6060516996372771 cost = 0.3270386748006225\n",
      "Epoch 1015 theta0 = -0.013932538526237381 theta1 = -0.6060516996372771 cost = 0.32703867480062243\n",
      "Epoch 1016 theta0 = -0.01393253852623739 theta1 = -0.6060516996372771 cost = 0.3270386748006225\n",
      "Epoch 1017 theta0 = -0.013932538526237381 theta1 = -0.6060516996372771 cost = 0.32703867480062243\n",
      "Epoch 1018 theta0 = -0.01393253852623739 theta1 = -0.6060516996372771 cost = 0.3270386748006225\n",
      "Epoch 1019 theta0 = -0.013932538526237381 theta1 = -0.6060516996372771 cost = 0.32703867480062243\n",
      "Epoch 1020 theta0 = -0.01393253852623739 theta1 = -0.6060516996372771 cost = 0.3270386748006225\n",
      "Epoch 1021 theta0 = -0.013932538526237381 theta1 = -0.6060516996372771 cost = 0.32703867480062243\n",
      "Epoch 1022 theta0 = -0.01393253852623739 theta1 = -0.6060516996372771 cost = 0.3270386748006225\n",
      "Epoch 1023 theta0 = -0.013932538526237381 theta1 = -0.6060516996372771 cost = 0.32703867480062243\n",
      "Epoch 1024 theta0 = -0.01393253852623739 theta1 = -0.6060516996372771 cost = 0.3270386748006225\n",
      "Epoch 1025 theta0 = -0.013932538526237381 theta1 = -0.6060516996372771 cost = 0.32703867480062243\n",
      "Epoch 1026 theta0 = -0.01393253852623739 theta1 = -0.6060516996372771 cost = 0.3270386748006225\n",
      "Epoch 1027 theta0 = -0.013932538526237381 theta1 = -0.6060516996372771 cost = 0.32703867480062243\n",
      "Epoch 1028 theta0 = -0.01393253852623739 theta1 = -0.6060516996372771 cost = 0.3270386748006225\n",
      "Epoch 1029 theta0 = -0.013932538526237381 theta1 = -0.6060516996372771 cost = 0.32703867480062243\n",
      "Epoch 1030 theta0 = -0.01393253852623739 theta1 = -0.6060516996372771 cost = 0.3270386748006225\n",
      "Epoch 1031 theta0 = -0.013932538526237381 theta1 = -0.6060516996372771 cost = 0.32703867480062243\n",
      "Epoch 1032 theta0 = -0.01393253852623739 theta1 = -0.6060516996372771 cost = 0.3270386748006225\n",
      "Epoch 1033 theta0 = -0.013932538526237381 theta1 = -0.6060516996372771 cost = 0.32703867480062243\n",
      "Epoch 1034 theta0 = -0.01393253852623739 theta1 = -0.6060516996372771 cost = 0.3270386748006225\n",
      "Epoch 1035 theta0 = -0.013932538526237381 theta1 = -0.6060516996372771 cost = 0.32703867480062243\n",
      "Epoch 1036 theta0 = -0.01393253852623739 theta1 = -0.6060516996372771 cost = 0.3270386748006225\n",
      "Epoch 1037 theta0 = -0.013932538526237381 theta1 = -0.6060516996372771 cost = 0.32703867480062243\n",
      "Epoch 1038 theta0 = -0.01393253852623739 theta1 = -0.6060516996372771 cost = 0.3270386748006225\n",
      "Epoch 1039 theta0 = -0.013932538526237381 theta1 = -0.6060516996372771 cost = 0.32703867480062243\n",
      "Epoch 1040 theta0 = -0.01393253852623739 theta1 = -0.6060516996372771 cost = 0.3270386748006225\n",
      "Epoch 1041 theta0 = -0.013932538526237381 theta1 = -0.6060516996372771 cost = 0.32703867480062243\n",
      "Epoch 1042 theta0 = -0.01393253852623739 theta1 = -0.6060516996372771 cost = 0.3270386748006225\n",
      "Epoch 1043 theta0 = -0.013932538526237381 theta1 = -0.6060516996372771 cost = 0.32703867480062243\n",
      "Epoch 1044 theta0 = -0.01393253852623739 theta1 = -0.6060516996372771 cost = 0.3270386748006225\n",
      "Epoch 1045 theta0 = -0.013932538526237381 theta1 = -0.6060516996372771 cost = 0.32703867480062243\n"
     ]
    },
    {
     "name": "stdout",
     "output_type": "stream",
     "text": [
      "Epoch 1046 theta0 = -0.01393253852623739 theta1 = -0.6060516996372771 cost = 0.3270386748006225\n",
      "Epoch 1047 theta0 = -0.013932538526237381 theta1 = -0.6060516996372771 cost = 0.32703867480062243\n",
      "Epoch 1048 theta0 = -0.01393253852623739 theta1 = -0.6060516996372771 cost = 0.3270386748006225\n",
      "Epoch 1049 theta0 = -0.013932538526237381 theta1 = -0.6060516996372771 cost = 0.32703867480062243\n",
      "Epoch 1050 theta0 = -0.01393253852623739 theta1 = -0.6060516996372771 cost = 0.3270386748006225\n",
      "Epoch 1051 theta0 = -0.013932538526237381 theta1 = -0.6060516996372771 cost = 0.32703867480062243\n",
      "Epoch 1052 theta0 = -0.01393253852623739 theta1 = -0.6060516996372771 cost = 0.3270386748006225\n",
      "Epoch 1053 theta0 = -0.013932538526237381 theta1 = -0.6060516996372771 cost = 0.32703867480062243\n",
      "Epoch 1054 theta0 = -0.01393253852623739 theta1 = -0.6060516996372771 cost = 0.3270386748006225\n",
      "Epoch 1055 theta0 = -0.013932538526237381 theta1 = -0.6060516996372771 cost = 0.32703867480062243\n",
      "Epoch 1056 theta0 = -0.01393253852623739 theta1 = -0.6060516996372771 cost = 0.3270386748006225\n",
      "Epoch 1057 theta0 = -0.013932538526237381 theta1 = -0.6060516996372771 cost = 0.32703867480062243\n",
      "Epoch 1058 theta0 = -0.01393253852623739 theta1 = -0.6060516996372771 cost = 0.3270386748006225\n",
      "Epoch 1059 theta0 = -0.013932538526237381 theta1 = -0.6060516996372771 cost = 0.32703867480062243\n",
      "Epoch 1060 theta0 = -0.01393253852623739 theta1 = -0.6060516996372771 cost = 0.3270386748006225\n",
      "Epoch 1061 theta0 = -0.013932538526237381 theta1 = -0.6060516996372771 cost = 0.32703867480062243\n",
      "Epoch 1062 theta0 = -0.01393253852623739 theta1 = -0.6060516996372771 cost = 0.3270386748006225\n",
      "Epoch 1063 theta0 = -0.013932538526237381 theta1 = -0.6060516996372771 cost = 0.32703867480062243\n",
      "Epoch 1064 theta0 = -0.01393253852623739 theta1 = -0.6060516996372771 cost = 0.3270386748006225\n",
      "Epoch 1065 theta0 = -0.013932538526237381 theta1 = -0.6060516996372771 cost = 0.32703867480062243\n",
      "Epoch 1066 theta0 = -0.01393253852623739 theta1 = -0.6060516996372771 cost = 0.3270386748006225\n",
      "Epoch 1067 theta0 = -0.013932538526237381 theta1 = -0.6060516996372771 cost = 0.32703867480062243\n",
      "Epoch 1068 theta0 = -0.01393253852623739 theta1 = -0.6060516996372771 cost = 0.3270386748006225\n",
      "Epoch 1069 theta0 = -0.013932538526237381 theta1 = -0.6060516996372771 cost = 0.32703867480062243\n",
      "Epoch 1070 theta0 = -0.01393253852623739 theta1 = -0.6060516996372771 cost = 0.3270386748006225\n",
      "Epoch 1071 theta0 = -0.013932538526237381 theta1 = -0.6060516996372771 cost = 0.32703867480062243\n",
      "Epoch 1072 theta0 = -0.01393253852623739 theta1 = -0.6060516996372771 cost = 0.3270386748006225\n",
      "Epoch 1073 theta0 = -0.013932538526237381 theta1 = -0.6060516996372771 cost = 0.32703867480062243\n",
      "Epoch 1074 theta0 = -0.01393253852623739 theta1 = -0.6060516996372771 cost = 0.3270386748006225\n",
      "Epoch 1075 theta0 = -0.013932538526237381 theta1 = -0.6060516996372771 cost = 0.32703867480062243\n",
      "Epoch 1076 theta0 = -0.01393253852623739 theta1 = -0.6060516996372771 cost = 0.3270386748006225\n",
      "Epoch 1077 theta0 = -0.013932538526237381 theta1 = -0.6060516996372771 cost = 0.32703867480062243\n",
      "Epoch 1078 theta0 = -0.01393253852623739 theta1 = -0.6060516996372771 cost = 0.3270386748006225\n",
      "Epoch 1079 theta0 = -0.013932538526237381 theta1 = -0.6060516996372771 cost = 0.32703867480062243\n",
      "Epoch 1080 theta0 = -0.01393253852623739 theta1 = -0.6060516996372771 cost = 0.3270386748006225\n",
      "Epoch 1081 theta0 = -0.013932538526237381 theta1 = -0.6060516996372771 cost = 0.32703867480062243\n",
      "Epoch 1082 theta0 = -0.01393253852623739 theta1 = -0.6060516996372771 cost = 0.3270386748006225\n",
      "Epoch 1083 theta0 = -0.013932538526237381 theta1 = -0.6060516996372771 cost = 0.32703867480062243\n",
      "Epoch 1084 theta0 = -0.01393253852623739 theta1 = -0.6060516996372771 cost = 0.3270386748006225\n",
      "Epoch 1085 theta0 = -0.013932538526237381 theta1 = -0.6060516996372771 cost = 0.32703867480062243\n",
      "Epoch 1086 theta0 = -0.01393253852623739 theta1 = -0.6060516996372771 cost = 0.3270386748006225\n",
      "Epoch 1087 theta0 = -0.013932538526237381 theta1 = -0.6060516996372771 cost = 0.32703867480062243\n",
      "Epoch 1088 theta0 = -0.01393253852623739 theta1 = -0.6060516996372771 cost = 0.3270386748006225\n",
      "Epoch 1089 theta0 = -0.013932538526237381 theta1 = -0.6060516996372771 cost = 0.32703867480062243\n",
      "Epoch 1090 theta0 = -0.01393253852623739 theta1 = -0.6060516996372771 cost = 0.3270386748006225\n",
      "Epoch 1091 theta0 = -0.013932538526237381 theta1 = -0.6060516996372771 cost = 0.32703867480062243\n",
      "Epoch 1092 theta0 = -0.01393253852623739 theta1 = -0.6060516996372771 cost = 0.3270386748006225\n",
      "Epoch 1093 theta0 = -0.013932538526237381 theta1 = -0.6060516996372771 cost = 0.32703867480062243\n",
      "Epoch 1094 theta0 = -0.01393253852623739 theta1 = -0.6060516996372771 cost = 0.3270386748006225\n",
      "Epoch 1095 theta0 = -0.013932538526237381 theta1 = -0.6060516996372771 cost = 0.32703867480062243\n",
      "Epoch 1096 theta0 = -0.01393253852623739 theta1 = -0.6060516996372771 cost = 0.3270386748006225\n",
      "Epoch 1097 theta0 = -0.013932538526237381 theta1 = -0.6060516996372771 cost = 0.32703867480062243\n",
      "Epoch 1098 theta0 = -0.01393253852623739 theta1 = -0.6060516996372771 cost = 0.3270386748006225\n",
      "Epoch 1099 theta0 = -0.013932538526237381 theta1 = -0.6060516996372771 cost = 0.32703867480062243\n",
      "Epoch 1100 theta0 = -0.01393253852623739 theta1 = -0.6060516996372771 cost = 0.3270386748006225\n",
      "[[-0.01393254 -0.6060517 ]] 0.3270386748006225\n"
     ]
    }
   ],
   "source": [
    "epoch=1100\n",
    "alpha=0.7\n",
    "result_theta,cost=gradient_descent(x_train,y_train,theta,alpha,epoch)\n",
    "print(result_theta,cost)"
   ]
  },
  {
   "cell_type": "code",
   "execution_count": 39,
   "id": "f31c40f9",
   "metadata": {},
   "outputs": [
    {
     "data": {
      "text/plain": [
       "array([[-0.01393254, -0.6060517 ]])"
      ]
     },
     "execution_count": 39,
     "metadata": {},
     "output_type": "execute_result"
    }
   ],
   "source": [
    "result_theta"
   ]
  },
  {
   "cell_type": "code",
   "execution_count": 40,
   "id": "f76baee9",
   "metadata": {},
   "outputs": [
    {
     "data": {
      "text/plain": [
       "(18930, 2)"
      ]
     },
     "execution_count": 40,
     "metadata": {},
     "output_type": "execute_result"
    }
   ],
   "source": [
    "x_test.shape"
   ]
  },
  {
   "cell_type": "code",
   "execution_count": 41,
   "id": "72d98333",
   "metadata": {},
   "outputs": [],
   "source": [
    "y_pred=np.dot(x_test,result_theta.T)"
   ]
  },
  {
   "cell_type": "markdown",
   "id": "970b2ebd",
   "metadata": {},
   "source": [
    "### Performance matrix "
   ]
  },
  {
   "cell_type": "code",
   "execution_count": 42,
   "id": "0b1e70af",
   "metadata": {},
   "outputs": [],
   "source": [
    "from sklearn.metrics import r2_score,mean_squared_error,mean_absolute_error"
   ]
  },
  {
   "cell_type": "code",
   "execution_count": 43,
   "id": "3524b162",
   "metadata": {},
   "outputs": [
    {
     "data": {
      "text/plain": [
       "0.37"
      ]
     },
     "execution_count": 43,
     "metadata": {},
     "output_type": "execute_result"
    }
   ],
   "source": [
    "R2_score=round(r2_score(y_test,y_pred),2)\n",
    "R2_score"
   ]
  },
  {
   "cell_type": "code",
   "execution_count": 44,
   "id": "70ac5d63",
   "metadata": {},
   "outputs": [
    {
     "data": {
      "text/plain": [
       "0.57"
      ]
     },
     "execution_count": 44,
     "metadata": {},
     "output_type": "execute_result"
    }
   ],
   "source": [
    "mean_square_error1=round(mean_squared_error(y_test,y_pred),2)\n",
    "mean_square_error1"
   ]
  },
  {
   "cell_type": "code",
   "execution_count": 45,
   "id": "e3bafd6f",
   "metadata": {},
   "outputs": [
    {
     "data": {
      "text/plain": [
       "1"
      ]
     },
     "execution_count": 45,
     "metadata": {},
     "output_type": "execute_result"
    }
   ],
   "source": [
    "mean_absolute_error1=round(mean_absolute_error(y_test,y_pred))\n",
    "mean_absolute_error1"
   ]
  },
  {
   "cell_type": "code",
   "execution_count": 46,
   "id": "0c6f296f",
   "metadata": {},
   "outputs": [
    {
     "data": {
      "text/plain": [
       "1"
      ]
     },
     "execution_count": 46,
     "metadata": {},
     "output_type": "execute_result"
    }
   ],
   "source": [
    "root_mean_square_error=round(math.sqrt(mean_square_error1))\n",
    "root_mean_square_error"
   ]
  },
  {
   "cell_type": "code",
   "execution_count": null,
   "id": "f128a16f",
   "metadata": {},
   "outputs": [],
   "source": []
  }
 ],
 "metadata": {
  "kernelspec": {
   "display_name": "Python 3 (ipykernel)",
   "language": "python",
   "name": "python3"
  },
  "language_info": {
   "codemirror_mode": {
    "name": "ipython",
    "version": 3
   },
   "file_extension": ".py",
   "mimetype": "text/x-python",
   "name": "python",
   "nbconvert_exporter": "python",
   "pygments_lexer": "ipython3",
   "version": "3.9.12"
  }
 },
 "nbformat": 4,
 "nbformat_minor": 5
}

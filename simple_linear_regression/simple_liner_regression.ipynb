{
 "cells": [
  {
   "cell_type": "markdown",
   "id": "5daa8682",
   "metadata": {},
   "source": [
    "1. Build a predictive linear regression model for given dataset, train the model for\n",
    "training set and test it against test dataset, plot the model using any plotting\n",
    "library.\n"
   ]
  },
  {
   "cell_type": "markdown",
   "id": "067484dd",
   "metadata": {},
   "source": [
    "### import library"
   ]
  },
  {
   "cell_type": "code",
   "execution_count": 1,
   "id": "e7b80b5e",
   "metadata": {},
   "outputs": [],
   "source": [
    "import numpy as np\n",
    "import pandas as pd\n",
    "import matplotlib.pyplot as plt\n",
    "import seaborn as sns\n",
    "import math"
   ]
  },
  {
   "cell_type": "markdown",
   "id": "dd5fff56",
   "metadata": {},
   "source": [
    "### import dataset"
   ]
  },
  {
   "cell_type": "code",
   "execution_count": 2,
   "id": "11706622",
   "metadata": {},
   "outputs": [],
   "source": [
    "train_ds=pd.read_csv(\"train.csv\")\n",
    "test_ds=pd.read_csv(\"test.csv\")"
   ]
  },
  {
   "cell_type": "code",
   "execution_count": 3,
   "id": "0a300558",
   "metadata": {},
   "outputs": [
    {
     "data": {
      "text/html": [
       "<div>\n",
       "<style scoped>\n",
       "    .dataframe tbody tr th:only-of-type {\n",
       "        vertical-align: middle;\n",
       "    }\n",
       "\n",
       "    .dataframe tbody tr th {\n",
       "        vertical-align: top;\n",
       "    }\n",
       "\n",
       "    .dataframe thead th {\n",
       "        text-align: right;\n",
       "    }\n",
       "</style>\n",
       "<table border=\"1\" class=\"dataframe\">\n",
       "  <thead>\n",
       "    <tr style=\"text-align: right;\">\n",
       "      <th></th>\n",
       "      <th>x</th>\n",
       "      <th>y</th>\n",
       "    </tr>\n",
       "  </thead>\n",
       "  <tbody>\n",
       "    <tr>\n",
       "      <th>0</th>\n",
       "      <td>24.0</td>\n",
       "      <td>21.549452</td>\n",
       "    </tr>\n",
       "    <tr>\n",
       "      <th>1</th>\n",
       "      <td>50.0</td>\n",
       "      <td>47.464463</td>\n",
       "    </tr>\n",
       "    <tr>\n",
       "      <th>2</th>\n",
       "      <td>15.0</td>\n",
       "      <td>17.218656</td>\n",
       "    </tr>\n",
       "    <tr>\n",
       "      <th>3</th>\n",
       "      <td>38.0</td>\n",
       "      <td>36.586398</td>\n",
       "    </tr>\n",
       "    <tr>\n",
       "      <th>4</th>\n",
       "      <td>87.0</td>\n",
       "      <td>87.288984</td>\n",
       "    </tr>\n",
       "  </tbody>\n",
       "</table>\n",
       "</div>"
      ],
      "text/plain": [
       "      x          y\n",
       "0  24.0  21.549452\n",
       "1  50.0  47.464463\n",
       "2  15.0  17.218656\n",
       "3  38.0  36.586398\n",
       "4  87.0  87.288984"
      ]
     },
     "execution_count": 3,
     "metadata": {},
     "output_type": "execute_result"
    }
   ],
   "source": [
    "train_ds.head()"
   ]
  },
  {
   "cell_type": "code",
   "execution_count": 4,
   "id": "3f53eec2",
   "metadata": {},
   "outputs": [
    {
     "data": {
      "text/html": [
       "<div>\n",
       "<style scoped>\n",
       "    .dataframe tbody tr th:only-of-type {\n",
       "        vertical-align: middle;\n",
       "    }\n",
       "\n",
       "    .dataframe tbody tr th {\n",
       "        vertical-align: top;\n",
       "    }\n",
       "\n",
       "    .dataframe thead th {\n",
       "        text-align: right;\n",
       "    }\n",
       "</style>\n",
       "<table border=\"1\" class=\"dataframe\">\n",
       "  <thead>\n",
       "    <tr style=\"text-align: right;\">\n",
       "      <th></th>\n",
       "      <th>x</th>\n",
       "      <th>y</th>\n",
       "    </tr>\n",
       "  </thead>\n",
       "  <tbody>\n",
       "    <tr>\n",
       "      <th>count</th>\n",
       "      <td>700.000000</td>\n",
       "      <td>699.000000</td>\n",
       "    </tr>\n",
       "    <tr>\n",
       "      <th>mean</th>\n",
       "      <td>54.985939</td>\n",
       "      <td>49.939869</td>\n",
       "    </tr>\n",
       "    <tr>\n",
       "      <th>std</th>\n",
       "      <td>134.681703</td>\n",
       "      <td>29.109217</td>\n",
       "    </tr>\n",
       "    <tr>\n",
       "      <th>min</th>\n",
       "      <td>0.000000</td>\n",
       "      <td>-3.839981</td>\n",
       "    </tr>\n",
       "    <tr>\n",
       "      <th>25%</th>\n",
       "      <td>25.000000</td>\n",
       "      <td>24.929968</td>\n",
       "    </tr>\n",
       "    <tr>\n",
       "      <th>50%</th>\n",
       "      <td>49.000000</td>\n",
       "      <td>48.973020</td>\n",
       "    </tr>\n",
       "    <tr>\n",
       "      <th>75%</th>\n",
       "      <td>75.000000</td>\n",
       "      <td>74.929911</td>\n",
       "    </tr>\n",
       "    <tr>\n",
       "      <th>max</th>\n",
       "      <td>3530.157369</td>\n",
       "      <td>108.871618</td>\n",
       "    </tr>\n",
       "  </tbody>\n",
       "</table>\n",
       "</div>"
      ],
      "text/plain": [
       "                 x           y\n",
       "count   700.000000  699.000000\n",
       "mean     54.985939   49.939869\n",
       "std     134.681703   29.109217\n",
       "min       0.000000   -3.839981\n",
       "25%      25.000000   24.929968\n",
       "50%      49.000000   48.973020\n",
       "75%      75.000000   74.929911\n",
       "max    3530.157369  108.871618"
      ]
     },
     "execution_count": 4,
     "metadata": {},
     "output_type": "execute_result"
    }
   ],
   "source": [
    "train_ds.describe()"
   ]
  },
  {
   "cell_type": "code",
   "execution_count": 5,
   "id": "171e4bd6",
   "metadata": {},
   "outputs": [
    {
     "name": "stdout",
     "output_type": "stream",
     "text": [
      "<class 'pandas.core.frame.DataFrame'>\n",
      "RangeIndex: 700 entries, 0 to 699\n",
      "Data columns (total 2 columns):\n",
      " #   Column  Non-Null Count  Dtype  \n",
      "---  ------  --------------  -----  \n",
      " 0   x       700 non-null    float64\n",
      " 1   y       699 non-null    float64\n",
      "dtypes: float64(2)\n",
      "memory usage: 11.1 KB\n"
     ]
    }
   ],
   "source": [
    "train_ds.info()"
   ]
  },
  {
   "cell_type": "code",
   "execution_count": 6,
   "id": "58a0f0ba",
   "metadata": {},
   "outputs": [
    {
     "data": {
      "text/plain": [
       "(300, 2)"
      ]
     },
     "execution_count": 6,
     "metadata": {},
     "output_type": "execute_result"
    }
   ],
   "source": [
    "test_ds.shape"
   ]
  },
  {
   "cell_type": "code",
   "execution_count": 7,
   "id": "e40cf56a",
   "metadata": {},
   "outputs": [
    {
     "data": {
      "text/plain": [
       "(700, 2)"
      ]
     },
     "execution_count": 7,
     "metadata": {},
     "output_type": "execute_result"
    }
   ],
   "source": [
    "train_ds.shape"
   ]
  },
  {
   "cell_type": "markdown",
   "id": "52a8ac85",
   "metadata": {},
   "source": [
    "### A. Handling missing data"
   ]
  },
  {
   "cell_type": "code",
   "execution_count": 8,
   "id": "fc9b3298",
   "metadata": {},
   "outputs": [
    {
     "name": "stderr",
     "output_type": "stream",
     "text": [
      "D:\\ProgramData\\Anaconda3\\lib\\site-packages\\seaborn\\distributions.py:2619: FutureWarning: `distplot` is a deprecated function and will be removed in a future version. Please adapt your code to use either `displot` (a figure-level function with similar flexibility) or `histplot` (an axes-level function for histograms).\n",
      "  warnings.warn(msg, FutureWarning)\n"
     ]
    },
    {
     "data": {
      "text/plain": [
       "<AxesSubplot:xlabel='y', ylabel='Density'>"
      ]
     },
     "execution_count": 8,
     "metadata": {},
     "output_type": "execute_result"
    },
    {
     "data": {
      "image/png": "[encoded data removed]",
      "text/plain": [
       "<Figure size 432x288 with 1 Axes>"
      ]
     },
     "metadata": {
      "needs_background": "light"
     },
     "output_type": "display_data"
    }
   ],
   "source": [
    "sns.distplot(train_ds['y'],color='green')"
   ]
  },
  {
   "cell_type": "code",
   "execution_count": 9,
   "id": "1ccfde05",
   "metadata": {},
   "outputs": [
    {
     "data": {
      "text/plain": [
       "x    0\n",
       "y    1\n",
       "dtype: int64"
      ]
     },
     "execution_count": 9,
     "metadata": {},
     "output_type": "execute_result"
    }
   ],
   "source": [
    "train_ds.isna().sum()"
   ]
  },
  {
   "cell_type": "code",
   "execution_count": 10,
   "id": "c65b59a7",
   "metadata": {},
   "outputs": [],
   "source": [
    "train_ds['y'].fillna(train_ds['y'].mean(),inplace=True)"
   ]
  },
  {
   "cell_type": "code",
   "execution_count": 11,
   "id": "1bb2e1c7",
   "metadata": {},
   "outputs": [
    {
     "data": {
      "text/plain": [
       "x    0\n",
       "y    0\n",
       "dtype: int64"
      ]
     },
     "execution_count": 11,
     "metadata": {},
     "output_type": "execute_result"
    }
   ],
   "source": [
    "train_ds.isna().sum()"
   ]
  },
  {
   "cell_type": "code",
   "execution_count": 12,
   "id": "6eab87a4",
   "metadata": {},
   "outputs": [
    {
     "data": {
      "text/plain": [
       "{'whiskers': [<matplotlib.lines.Line2D at 0x29ccc42c820>,\n",
       "  <matplotlib.lines.Line2D at 0x29ccc42c9d0>,\n",
       "  <matplotlib.lines.Line2D at 0x29ccc43cb50>,\n",
       "  <matplotlib.lines.Line2D at 0x29ccc43ce20>],\n",
       " 'caps': [<matplotlib.lines.Line2D at 0x29ccc42cca0>,\n",
       "  <matplotlib.lines.Line2D at 0x29ccc42cf70>,\n",
       "  <matplotlib.lines.Line2D at 0x29ccc44b130>,\n",
       "  <matplotlib.lines.Line2D at 0x29ccc44b400>],\n",
       " 'boxes': [<matplotlib.lines.Line2D at 0x29ccc42c550>,\n",
       "  <matplotlib.lines.Line2D at 0x29ccc43c880>],\n",
       " 'medians': [<matplotlib.lines.Line2D at 0x29ccc43c280>,\n",
       "  <matplotlib.lines.Line2D at 0x29ccc44b6d0>],\n",
       " 'fliers': [<matplotlib.lines.Line2D at 0x29ccc43c580>,\n",
       "  <matplotlib.lines.Line2D at 0x29ccc44b9a0>],\n",
       " 'means': []}"
      ]
     },
     "execution_count": 12,
     "metadata": {},
     "output_type": "execute_result"
    },
    {
     "data": {
      "image/png": "[encoded data removed]",
      "text/plain": [
       "<Figure size 432x288 with 1 Axes>"
      ]
     },
     "metadata": {
      "needs_background": "light"
     },
     "output_type": "display_data"
    }
   ],
   "source": [
    "plt.boxplot(train_ds)"
   ]
  },
  {
   "cell_type": "code",
   "execution_count": 13,
   "id": "d6cf8f7e",
   "metadata": {},
   "outputs": [
    {
     "data": {
      "text/plain": [
       "(25.0, 75.0)"
      ]
     },
     "execution_count": 13,
     "metadata": {},
     "output_type": "execute_result"
    }
   ],
   "source": [
    "quantile1,quantile3=np.percentile(train_ds,[25,75])\n",
    "quantile1,quantile3"
   ]
  },
  {
   "cell_type": "code",
   "execution_count": 14,
   "id": "53136f31",
   "metadata": {},
   "outputs": [
    {
     "name": "stdout",
     "output_type": "stream",
     "text": [
      "50.0\n"
     ]
    }
   ],
   "source": [
    "iqr=quantile3-quantile1\n",
    "print(iqr)"
   ]
  },
  {
   "cell_type": "code",
   "execution_count": 15,
   "id": "82cfa63f",
   "metadata": {},
   "outputs": [],
   "source": [
    "lower_bound=quantile1-(1.5*iqr)\n",
    "upper_bound=quantile3+(1.5*iqr)"
   ]
  },
  {
   "cell_type": "code",
   "execution_count": 16,
   "id": "cff9ebe4",
   "metadata": {},
   "outputs": [
    {
     "data": {
      "text/plain": [
       "-50.0"
      ]
     },
     "execution_count": 16,
     "metadata": {},
     "output_type": "execute_result"
    }
   ],
   "source": [
    "lower_bound"
   ]
  },
  {
   "cell_type": "code",
   "execution_count": 17,
   "id": "e3f6431e",
   "metadata": {},
   "outputs": [
    {
     "data": {
      "text/plain": [
       "150.0"
      ]
     },
     "execution_count": 17,
     "metadata": {},
     "output_type": "execute_result"
    }
   ],
   "source": [
    "upper_bound"
   ]
  },
  {
   "cell_type": "code",
   "execution_count": 18,
   "id": "3f25f595",
   "metadata": {},
   "outputs": [
    {
     "data": {
      "text/html": [
       "<div>\n",
       "<style scoped>\n",
       "    .dataframe tbody tr th:only-of-type {\n",
       "        vertical-align: middle;\n",
       "    }\n",
       "\n",
       "    .dataframe tbody tr th {\n",
       "        vertical-align: top;\n",
       "    }\n",
       "\n",
       "    .dataframe thead th {\n",
       "        text-align: right;\n",
       "    }\n",
       "</style>\n",
       "<table border=\"1\" class=\"dataframe\">\n",
       "  <thead>\n",
       "    <tr style=\"text-align: right;\">\n",
       "      <th></th>\n",
       "      <th>x</th>\n",
       "      <th>y</th>\n",
       "    </tr>\n",
       "  </thead>\n",
       "  <tbody>\n",
       "    <tr>\n",
       "      <th>213</th>\n",
       "      <td>3530.157369</td>\n",
       "      <td>49.939869</td>\n",
       "    </tr>\n",
       "  </tbody>\n",
       "</table>\n",
       "</div>"
      ],
      "text/plain": [
       "               x          y\n",
       "213  3530.157369  49.939869"
      ]
     },
     "execution_count": 18,
     "metadata": {},
     "output_type": "execute_result"
    }
   ],
   "source": [
    "train_ds[train_ds['x']>upper_bound]"
   ]
  },
  {
   "cell_type": "code",
   "execution_count": 19,
   "id": "b06ba0b6",
   "metadata": {},
   "outputs": [],
   "source": [
    "train_ds=train_ds[(train_ds.x<upper_bound) & (train_ds.x>lower_bound)]"
   ]
  },
  {
   "cell_type": "code",
   "execution_count": 20,
   "id": "cb3a3932",
   "metadata": {},
   "outputs": [
    {
     "data": {
      "text/html": [
       "<div>\n",
       "<style scoped>\n",
       "    .dataframe tbody tr th:only-of-type {\n",
       "        vertical-align: middle;\n",
       "    }\n",
       "\n",
       "    .dataframe tbody tr th {\n",
       "        vertical-align: top;\n",
       "    }\n",
       "\n",
       "    .dataframe thead th {\n",
       "        text-align: right;\n",
       "    }\n",
       "</style>\n",
       "<table border=\"1\" class=\"dataframe\">\n",
       "  <thead>\n",
       "    <tr style=\"text-align: right;\">\n",
       "      <th></th>\n",
       "      <th>x</th>\n",
       "      <th>y</th>\n",
       "    </tr>\n",
       "  </thead>\n",
       "  <tbody>\n",
       "    <tr>\n",
       "      <th>count</th>\n",
       "      <td>699.000000</td>\n",
       "      <td>699.000000</td>\n",
       "    </tr>\n",
       "    <tr>\n",
       "      <th>mean</th>\n",
       "      <td>50.014306</td>\n",
       "      <td>49.939869</td>\n",
       "    </tr>\n",
       "    <tr>\n",
       "      <th>std</th>\n",
       "      <td>28.954560</td>\n",
       "      <td>29.109217</td>\n",
       "    </tr>\n",
       "    <tr>\n",
       "      <th>min</th>\n",
       "      <td>0.000000</td>\n",
       "      <td>-3.839981</td>\n",
       "    </tr>\n",
       "    <tr>\n",
       "      <th>25%</th>\n",
       "      <td>25.000000</td>\n",
       "      <td>24.929968</td>\n",
       "    </tr>\n",
       "    <tr>\n",
       "      <th>50%</th>\n",
       "      <td>49.000000</td>\n",
       "      <td>48.973020</td>\n",
       "    </tr>\n",
       "    <tr>\n",
       "      <th>75%</th>\n",
       "      <td>75.000000</td>\n",
       "      <td>74.929911</td>\n",
       "    </tr>\n",
       "    <tr>\n",
       "      <th>max</th>\n",
       "      <td>100.000000</td>\n",
       "      <td>108.871618</td>\n",
       "    </tr>\n",
       "  </tbody>\n",
       "</table>\n",
       "</div>"
      ],
      "text/plain": [
       "                x           y\n",
       "count  699.000000  699.000000\n",
       "mean    50.014306   49.939869\n",
       "std     28.954560   29.109217\n",
       "min      0.000000   -3.839981\n",
       "25%     25.000000   24.929968\n",
       "50%     49.000000   48.973020\n",
       "75%     75.000000   74.929911\n",
       "max    100.000000  108.871618"
      ]
     },
     "execution_count": 20,
     "metadata": {},
     "output_type": "execute_result"
    }
   ],
   "source": [
    "train_ds.describe()"
   ]
  },
  {
   "cell_type": "code",
   "execution_count": 21,
   "id": "cec63d6c",
   "metadata": {},
   "outputs": [
    {
     "name": "stderr",
     "output_type": "stream",
     "text": [
      "D:\\ProgramData\\Anaconda3\\lib\\site-packages\\seaborn\\distributions.py:2619: FutureWarning: `distplot` is a deprecated function and will be removed in a future version. Please adapt your code to use either `displot` (a figure-level function with similar flexibility) or `histplot` (an axes-level function for histograms).\n",
      "  warnings.warn(msg, FutureWarning)\n"
     ]
    },
    {
     "data": {
      "text/plain": [
       "<AxesSubplot:xlabel='y', ylabel='Density'>"
      ]
     },
     "execution_count": 21,
     "metadata": {},
     "output_type": "execute_result"
    },
    {
     "data": {
      "image/png": "[encoded data removed]",
      "text/plain": [
       "<Figure size 432x288 with 1 Axes>"
      ]
     },
     "metadata": {
      "needs_background": "light"
     },
     "output_type": "display_data"
    }
   ],
   "source": [
    "sns.distplot(test_ds['y'],color='green')"
   ]
  },
  {
   "cell_type": "code",
   "execution_count": 22,
   "id": "7ff317ed",
   "metadata": {},
   "outputs": [
    {
     "data": {
      "text/plain": [
       "x    0\n",
       "y    0\n",
       "dtype: int64"
      ]
     },
     "execution_count": 22,
     "metadata": {},
     "output_type": "execute_result"
    }
   ],
   "source": [
    "test_ds.isna().sum()"
   ]
  },
  {
   "cell_type": "code",
   "execution_count": 23,
   "id": "fdcc2b1b",
   "metadata": {},
   "outputs": [
    {
     "data": {
      "text/plain": [
       "{'whiskers': [<matplotlib.lines.Line2D at 0x29ccc538ac0>,\n",
       "  <matplotlib.lines.Line2D at 0x29ccc538d90>,\n",
       "  <matplotlib.lines.Line2D at 0x29ccc549ee0>,\n",
       "  <matplotlib.lines.Line2D at 0x29ccc5551f0>],\n",
       " 'caps': [<matplotlib.lines.Line2D at 0x29ccc5490a0>,\n",
       "  <matplotlib.lines.Line2D at 0x29ccc5493a0>,\n",
       "  <matplotlib.lines.Line2D at 0x29ccc5554c0>,\n",
       "  <matplotlib.lines.Line2D at 0x29ccc555790>],\n",
       " 'boxes': [<matplotlib.lines.Line2D at 0x29ccc5387f0>,\n",
       "  <matplotlib.lines.Line2D at 0x29ccc549c10>],\n",
       " 'medians': [<matplotlib.lines.Line2D at 0x29ccc549670>,\n",
       "  <matplotlib.lines.Line2D at 0x29ccc555a60>],\n",
       " 'fliers': [<matplotlib.lines.Line2D at 0x29ccc549940>,\n",
       "  <matplotlib.lines.Line2D at 0x29ccc555d30>],\n",
       " 'means': []}"
      ]
     },
     "execution_count": 23,
     "metadata": {},
     "output_type": "execute_result"
    },
    {
     "data": {
      "image/png": "[encoded data removed]",
      "text/plain": [
       "<Figure size 432x288 with 1 Axes>"
      ]
     },
     "metadata": {
      "needs_background": "light"
     },
     "output_type": "display_data"
    }
   ],
   "source": [
    "plt.boxplot(test_ds)"
   ]
  },
  {
   "cell_type": "markdown",
   "id": "3285e987",
   "metadata": {},
   "source": [
    "## feature scalling"
   ]
  },
  {
   "cell_type": "code",
   "execution_count": 24,
   "id": "5511de2e",
   "metadata": {},
   "outputs": [],
   "source": [
    "def standardScalling(x):\n",
    "    x_mean=np.mean(x,axis=0)\n",
    "    x_std=np.std(x,axis=0)\n",
    "    x_scale=(x-x_mean)/x_std\n",
    "    return x_scale.astype('float')"
   ]
  },
  {
   "cell_type": "code",
   "execution_count": 25,
   "id": "326f5c1f",
   "metadata": {},
   "outputs": [],
   "source": [
    "for i in range(len(train_ds.columns)):\n",
    "    train_ds.iloc[:,i]=standardScalling(train_ds.iloc[:,i].values)"
   ]
  },
  {
   "cell_type": "code",
   "execution_count": 26,
   "id": "3aac0253",
   "metadata": {},
   "outputs": [],
   "source": [
    "for i in range(len(test_ds.columns)):\n",
    "    test_ds.iloc[:,i]=standardScalling(test_ds.iloc[:,i].values)"
   ]
  },
  {
   "cell_type": "code",
   "execution_count": 27,
   "id": "ad20fa40",
   "metadata": {},
   "outputs": [
    {
     "data": {
      "text/html": [
       "<div>\n",
       "<style scoped>\n",
       "    .dataframe tbody tr th:only-of-type {\n",
       "        vertical-align: middle;\n",
       "    }\n",
       "\n",
       "    .dataframe tbody tr th {\n",
       "        vertical-align: top;\n",
       "    }\n",
       "\n",
       "    .dataframe thead th {\n",
       "        text-align: right;\n",
       "    }\n",
       "</style>\n",
       "<table border=\"1\" class=\"dataframe\">\n",
       "  <thead>\n",
       "    <tr style=\"text-align: right;\">\n",
       "      <th></th>\n",
       "      <th>x</th>\n",
       "      <th>y</th>\n",
       "    </tr>\n",
       "  </thead>\n",
       "  <tbody>\n",
       "    <tr>\n",
       "      <th>0</th>\n",
       "      <td>0.915893</td>\n",
       "      <td>0.984396</td>\n",
       "    </tr>\n",
       "    <tr>\n",
       "      <th>1</th>\n",
       "      <td>-1.052006</td>\n",
       "      <td>-0.965709</td>\n",
       "    </tr>\n",
       "    <tr>\n",
       "      <th>2</th>\n",
       "      <td>-1.016865</td>\n",
       "      <td>-0.881914</td>\n",
       "    </tr>\n",
       "    <tr>\n",
       "      <th>3</th>\n",
       "      <td>-1.087147</td>\n",
       "      <td>-1.149009</td>\n",
       "    </tr>\n",
       "    <tr>\n",
       "      <th>4</th>\n",
       "      <td>-0.524890</td>\n",
       "      <td>-0.322337</td>\n",
       "    </tr>\n",
       "    <tr>\n",
       "      <th>...</th>\n",
       "      <td>...</td>\n",
       "      <td>...</td>\n",
       "    </tr>\n",
       "    <tr>\n",
       "      <th>295</th>\n",
       "      <td>0.705047</td>\n",
       "      <td>0.597486</td>\n",
       "    </tr>\n",
       "    <tr>\n",
       "      <th>296</th>\n",
       "      <td>-0.173480</td>\n",
       "      <td>-0.133349</td>\n",
       "    </tr>\n",
       "    <tr>\n",
       "      <th>297</th>\n",
       "      <td>0.142790</td>\n",
       "      <td>0.099424</td>\n",
       "    </tr>\n",
       "    <tr>\n",
       "      <th>298</th>\n",
       "      <td>0.388777</td>\n",
       "      <td>0.416639</td>\n",
       "    </tr>\n",
       "    <tr>\n",
       "      <th>299</th>\n",
       "      <td>-0.138339</td>\n",
       "      <td>0.043221</td>\n",
       "    </tr>\n",
       "  </tbody>\n",
       "</table>\n",
       "<p>300 rows × 2 columns</p>\n",
       "</div>"
      ],
      "text/plain": [
       "            x         y\n",
       "0    0.915893  0.984396\n",
       "1   -1.052006 -0.965709\n",
       "2   -1.016865 -0.881914\n",
       "3   -1.087147 -1.149009\n",
       "4   -0.524890 -0.322337\n",
       "..        ...       ...\n",
       "295  0.705047  0.597486\n",
       "296 -0.173480 -0.133349\n",
       "297  0.142790  0.099424\n",
       "298  0.388777  0.416639\n",
       "299 -0.138339  0.043221\n",
       "\n",
       "[300 rows x 2 columns]"
      ]
     },
     "execution_count": 27,
     "metadata": {},
     "output_type": "execute_result"
    }
   ],
   "source": [
    "test_ds"
   ]
  },
  {
   "cell_type": "code",
   "execution_count": 28,
   "id": "de558ceb",
   "metadata": {},
   "outputs": [],
   "source": [
    "x_test=test_ds.iloc[:,0].values"
   ]
  },
  {
   "cell_type": "code",
   "execution_count": 29,
   "id": "2496102e",
   "metadata": {},
   "outputs": [],
   "source": [
    "y_test=test_ds.iloc[:,1].values"
   ]
  },
  {
   "cell_type": "code",
   "execution_count": 30,
   "id": "e043c081",
   "metadata": {},
   "outputs": [
    {
     "data": {
      "text/html": [
       "<div>\n",
       "<style scoped>\n",
       "    .dataframe tbody tr th:only-of-type {\n",
       "        vertical-align: middle;\n",
       "    }\n",
       "\n",
       "    .dataframe tbody tr th {\n",
       "        vertical-align: top;\n",
       "    }\n",
       "\n",
       "    .dataframe thead th {\n",
       "        text-align: right;\n",
       "    }\n",
       "</style>\n",
       "<table border=\"1\" class=\"dataframe\">\n",
       "  <thead>\n",
       "    <tr style=\"text-align: right;\">\n",
       "      <th></th>\n",
       "      <th>x</th>\n",
       "      <th>y</th>\n",
       "    </tr>\n",
       "  </thead>\n",
       "  <tbody>\n",
       "    <tr>\n",
       "      <th>0</th>\n",
       "      <td>-0.899096</td>\n",
       "      <td>-0.976005</td>\n",
       "    </tr>\n",
       "    <tr>\n",
       "      <th>1</th>\n",
       "      <td>-0.000494</td>\n",
       "      <td>-0.085099</td>\n",
       "    </tr>\n",
       "    <tr>\n",
       "      <th>2</th>\n",
       "      <td>-1.210151</td>\n",
       "      <td>-1.124889</td>\n",
       "    </tr>\n",
       "    <tr>\n",
       "      <th>3</th>\n",
       "      <td>-0.415234</td>\n",
       "      <td>-0.459065</td>\n",
       "    </tr>\n",
       "    <tr>\n",
       "      <th>4</th>\n",
       "      <td>1.278285</td>\n",
       "      <td>1.283987</td>\n",
       "    </tr>\n",
       "    <tr>\n",
       "      <th>...</th>\n",
       "      <td>...</td>\n",
       "      <td>...</td>\n",
       "    </tr>\n",
       "    <tr>\n",
       "      <th>695</th>\n",
       "      <td>0.275998</td>\n",
       "      <td>0.297546</td>\n",
       "    </tr>\n",
       "    <tr>\n",
       "      <th>696</th>\n",
       "      <td>1.485655</td>\n",
       "      <td>1.536188</td>\n",
       "    </tr>\n",
       "    <tr>\n",
       "      <th>697</th>\n",
       "      <td>1.105477</td>\n",
       "      <td>1.329187</td>\n",
       "    </tr>\n",
       "    <tr>\n",
       "      <th>698</th>\n",
       "      <td>0.552491</td>\n",
       "      <td>0.471281</td>\n",
       "    </tr>\n",
       "    <tr>\n",
       "      <th>699</th>\n",
       "      <td>1.623901</td>\n",
       "      <td>1.548226</td>\n",
       "    </tr>\n",
       "  </tbody>\n",
       "</table>\n",
       "<p>699 rows × 2 columns</p>\n",
       "</div>"
      ],
      "text/plain": [
       "            x         y\n",
       "0   -0.899096 -0.976005\n",
       "1   -0.000494 -0.085099\n",
       "2   -1.210151 -1.124889\n",
       "3   -0.415234 -0.459065\n",
       "4    1.278285  1.283987\n",
       "..        ...       ...\n",
       "695  0.275998  0.297546\n",
       "696  1.485655  1.536188\n",
       "697  1.105477  1.329187\n",
       "698  0.552491  0.471281\n",
       "699  1.623901  1.548226\n",
       "\n",
       "[699 rows x 2 columns]"
      ]
     },
     "execution_count": 30,
     "metadata": {},
     "output_type": "execute_result"
    }
   ],
   "source": [
    "train_ds"
   ]
  },
  {
   "cell_type": "code",
   "execution_count": 31,
   "id": "ff0927f6",
   "metadata": {},
   "outputs": [
    {
     "data": {
      "text/plain": [
       "(699,)"
      ]
     },
     "execution_count": 31,
     "metadata": {},
     "output_type": "execute_result"
    }
   ],
   "source": [
    "x_train=train_ds.iloc[:,0].values\n",
    "x_train.shape"
   ]
  },
  {
   "cell_type": "code",
   "execution_count": 32,
   "id": "ed124fcf",
   "metadata": {},
   "outputs": [
    {
     "data": {
      "text/plain": [
       "(699,)"
      ]
     },
     "execution_count": 32,
     "metadata": {},
     "output_type": "execute_result"
    }
   ],
   "source": [
    "y_train=train_ds.iloc[:,1].values\n",
    "y_train.shape"
   ]
  },
  {
   "cell_type": "code",
   "execution_count": 33,
   "id": "65c643e7",
   "metadata": {},
   "outputs": [
    {
     "data": {
      "text/plain": [
       "(699, 1)"
      ]
     },
     "execution_count": 33,
     "metadata": {},
     "output_type": "execute_result"
    }
   ],
   "source": [
    "x_train=x_train.reshape(-1,1)\n",
    "x_train.shape"
   ]
  },
  {
   "cell_type": "code",
   "execution_count": 34,
   "id": "9407c236",
   "metadata": {},
   "outputs": [
    {
     "data": {
      "text/plain": [
       "(699, 1)"
      ]
     },
     "execution_count": 34,
     "metadata": {},
     "output_type": "execute_result"
    }
   ],
   "source": [
    "y_train=y_train.reshape(-1,1)\n",
    "y_train.shape"
   ]
  },
  {
   "cell_type": "markdown",
   "id": "08c075f9",
   "metadata": {},
   "source": [
    "# linear regression"
   ]
  },
  {
   "cell_type": "code",
   "execution_count": 35,
   "id": "0b8bca8a",
   "metadata": {},
   "outputs": [
    {
     "data": {
      "text/plain": [
       "(1, 2)"
      ]
     },
     "execution_count": 35,
     "metadata": {},
     "output_type": "execute_result"
    }
   ],
   "source": [
    "theta=np.zeros((1,2))\n",
    "theta.shape"
   ]
  },
  {
   "cell_type": "code",
   "execution_count": 36,
   "id": "9cc68e70",
   "metadata": {},
   "outputs": [
    {
     "data": {
      "text/plain": [
       "(699, 2)"
      ]
     },
     "execution_count": 36,
     "metadata": {},
     "output_type": "execute_result"
    }
   ],
   "source": [
    "x1=np.ones((x_train.shape[0],1))\n",
    "x_train=np.concatenate((x1,x_train),axis=1)\n",
    "x_train.shape"
   ]
  },
  {
   "cell_type": "code",
   "execution_count": 37,
   "id": "1eb88c28",
   "metadata": {},
   "outputs": [],
   "source": [
    "def compute_cost(x_train,y_train,theta):\n",
    "    \"\"\"\n",
    "    Description :\n",
    "        This function is used to calculate cost\n",
    "    Parameters :\n",
    "        x_train: actual data traing\n",
    "        y_train:prdicted data traing\n",
    "        theta:parameters\n",
    "    Return :\n",
    "        It returns the cost\n",
    "    \"\"\" \n",
    "    hx=np.dot(x_train,theta.T) \n",
    "    cost=np.sum((hx-y_train)**2)/(2*len(x_train))\n",
    "    return cost     \n",
    "      "
   ]
  },
  {
   "cell_type": "code",
   "execution_count": 38,
   "id": "51acf363",
   "metadata": {},
   "outputs": [],
   "source": [
    "def gradient_descent(x_train,y_train,theta,alpha,epoch):\n",
    "    \"\"\"\n",
    "    Description :\n",
    "        This function is used to update paramenter(theata)\n",
    "    Parameters :\n",
    "        x_train: actual data traing\n",
    "        y_train:prdicted data traing\n",
    "        theta:parameters\n",
    "        alpha : learning rate\n",
    "        epoch :number of iterations\n",
    "    Return :\n",
    "        It returns the updated theta\n",
    "    \"\"\" \n",
    "    for i in range(epoch):\n",
    "        hx=np.dot(x_train,theta.T)       \n",
    "        \n",
    "        theta=theta-alpha/(len(x_train))*np.sum((hx-y_train)*x_train,axis=0)\n",
    "        cost=compute_cost(x_train,y_train,theta)\n",
    "        print(f\"Epoch {i+1} theta0 = {theta[0][0]} theta1 = {theta[0][1]} cost = {cost}\")\n",
    "    return theta,cost"
   ]
  },
  {
   "cell_type": "code",
   "execution_count": 39,
   "id": "f03673eb",
   "metadata": {},
   "outputs": [
    {
     "name": "stdout",
     "output_type": "stream",
     "text": [
      "Epoch 1 theta0 = -2.280801521261409e-18 theta1 = 0.009953399077212518 cost = 0.4901425197575696\n",
      "Epoch 2 theta0 = -5.219160027064756e-18 theta1 = 0.019807264163652916 cost = 0.4804812033719636\n",
      "Epoch 3 theta0 = -7.982805324414931e-18 theta1 = 0.02956259059922891 cost = 0.47101214718243106\n",
      "Epoch 4 theta0 = -1.1089523831091336e-17 theta1 = 0.03922036377044915 cost = 0.4617315252110703\n",
      "Epoch 5 theta0 = -1.3421151012993667e-17 theta1 = 0.048781559209957186 cost = 0.4526355876169396\n",
      "Epoch 6 theta0 = -1.6127617442122804e-17 theta1 = 0.05824714269507014 cost = 0.4437206591809321\n",
      "Epoch 7 theta0 = -1.812570122606908e-17 theta1 = 0.06761807034533196 cost = 0.4349831378208012\n",
      "Epoch 8 theta0 = -2.080040161729764e-17 theta1 = 0.07689528871909117 cost = 0.4264194931357368\n",
      "Epoch 9 theta0 = -2.314791181815026e-17 theta1 = 0.08607973490911279 cost = 0.41802626497990536\n",
      "Epoch 10 theta0 = -2.5158702017256764e-17 theta1 = 0.09517233663723418 cost = 0.4098000620643748\n",
      "Epoch 11 theta0 = -2.7325145802076098e-17 theta1 = 0.10417401234807436 cost = 0.4017375605868634\n",
      "Epoch 12 theta0 = -2.982195638106143e-17 theta1 = 0.11308567130180613 cost = 0.3938355028887544\n",
      "Epoch 13 theta0 = -3.1912161674919375e-17 theta1 = 0.12190821366600059 cost = 0.3860906961388378\n",
      "Epoch 14 theta0 = -3.380541753379375e-17 theta1 = 0.13064253060655312 cost = 0.3785000110432445\n",
      "Epoch 15 theta0 = -3.5679613769927776e-17 theta1 = 0.1392895043777001 cost = 0.3710603805810536\n",
      "Epoch 16 theta0 = -3.8004887744249994e-17 theta1 = 0.14785000841113563 cost = 0.3637687987650602\n",
      "Epoch 17 theta0 = -3.96853111491905e-17 theta1 = 0.1563249074042368 cost = 0.3566223194272052\n",
      "Epoch 18 theta0 = -4.164209908386603e-17 theta1 = 0.16471505740740694 cost = 0.3496180550281734\n",
      "Epoch 19 theta0 = -4.394513683165784e-17 theta1 = 0.1730213059105454 cost = 0.34275317549068235\n",
      "Epoch 20 theta0 = -4.545084702814518e-17 theta1 = 0.18124449192865247 cost = 0.3360249070559874\n",
      "Epoch 21 theta0 = -4.795083421092057e-17 theta1 = 0.18938544608657848 cost = 0.3294305311631428\n",
      "Epoch 22 theta0 = -5.0002920259297825e-17 theta1 = 0.19744499070292523 cost = 0.3229673833505659\n",
      "Epoch 23 theta0 = -5.180723121205058e-17 theta1 = 0.2054239398731085 cost = 0.31663285217945925\n",
      "Epoch 24 theta0 = -5.377990216567639e-17 theta1 = 0.21332309955158996 cost = 0.3104243781786576\n",
      "Epoch 25 theta0 = -5.538408707965552e-17 theta1 = 0.22114326763328657 cost = 0.3043394528104719\n",
      "Epoch 26 theta0 = -5.743934973182284e-17 theta1 = 0.22888523403416622 cost = 0.29837561745711316\n",
      "Epoch 27 theta0 = -5.931036936416681e-17 theta1 = 0.23654978077103708 cost = 0.29253046242728625\n",
      "Epoch 28 theta0 = -6.07970199379138e-17 theta1 = 0.24413768204053923 cost = 0.2868016259825529\n",
      "Epoch 29 theta0 = -6.190565466064393e-17 theta1 = 0.25164970429734634 cost = 0.2811867933830697\n",
      "Epoch 30 theta0 = -6.404033240756269e-17 theta1 = 0.2590866063315854 cost = 0.2756836959523162\n",
      "Epoch 31 theta0 = -6.621948260754225e-17 theta1 = 0.2664491393454821 cost = 0.2702901101604347\n",
      "Epoch 32 theta0 = -6.79570848807038e-17 theta1 = 0.2737380470292398 cost = 0.2650038567258116\n",
      "Epoch 33 theta0 = -6.950091432267183e-17 theta1 = 0.28095406563615993 cost = 0.2598227997345376\n",
      "Epoch 34 theta0 = -7.178806905151336e-17 theta1 = 0.28809792405701085 cost = 0.2547448457773899\n",
      "Epoch 35 theta0 = -7.372897396723859e-17 theta1 = 0.29517034389365326 cost = 0.24976794310398945\n",
      "Epoch 36 theta0 = -7.553010831620129e-17 theta1 = 0.3021720395319292 cost = 0.24489008079378977\n",
      "Epoch 37 theta0 = -7.689287134213604e-17 theta1 = 0.3091037182138225 cost = 0.24010928794356284\n",
      "Epoch 38 theta0 = -7.82397513491205e-17 theta1 = 0.31596608010889676 cost = 0.23542363287105567\n",
      "Epoch 39 theta0 = -7.996147060333176e-17 theta1 = 0.3227598183850203 cost = 0.23083122233449122\n",
      "Epoch 40 theta0 = -8.19468479721178e-17 theta1 = 0.32948561927838266 cost = 0.22633020076760446\n",
      "Epoch 41 theta0 = -8.389410609542316e-17 theta1 = 0.33614416216281134 cost = 0.22191874952989873\n",
      "Epoch 42 theta0 = -8.496462157267259e-17 theta1 = 0.34273611961839573 cost = 0.21759508617182335\n",
      "Epoch 43 theta0 = -8.660851403402743e-17 theta1 = 0.3492621574994243 cost = 0.2133574637145737\n",
      "Epoch 44 theta0 = -8.819681592905627e-17 theta1 = 0.3557229350016426 cost = 0.20920416994422328\n",
      "Epoch 45 theta0 = -8.924350687788027e-17 theta1 = 0.3621191047288387 cost = 0.20513352671990287\n",
      "Epoch 46 theta0 = -9.073492235731235e-17 theta1 = 0.3684513127587628 cost = 0.20114388929574645\n",
      "Epoch 47 theta0 = -9.260911859344638e-17 theta1 = 0.3747201987083877 cost = 0.19723364565633067\n",
      "Epoch 48 theta0 = -9.380828652419315e-17 theta1 = 0.38092639579851634 cost = 0.1934012158653393\n",
      "Epoch 49 theta0 = -9.569836577927747e-17 theta1 = 0.3870705309177437 cost = 0.18964505142718868\n",
      "Epoch 50 theta0 = -9.698965521993591e-17 theta1 = 0.3931532246857788 cost = 0.18596363466135724\n",
      "Epoch 51 theta0 = -9.854460277516915e-17 theta1 = 0.3991750915161335 cost = 0.18235547808916586\n",
      "Epoch 52 theta0 = -1.0037114995445231e-16 theta1 = 0.4051367396781847 cost = 0.17881912383276105\n",
      "Epoch 53 theta0 = -1.0187844845283468e-16 theta1 = 0.4110387713586154 cost = 0.1753531430260587\n",
      "Epoch 54 theta0 = -1.0338098204553196e-16 theta1 = 0.41688178272224174 cost = 0.17195613523740977\n",
      "Epoch 55 theta0 = -1.0471515563735618e-16 theta1 = 0.42266636397223184 cost = 0.1686267279037549\n",
      "Epoch 56 theta0 = -1.0604297602160029e-16 theta1 = 0.42839309940972203 cost = 0.1653635757760398\n",
      "Epoch 57 theta0 = -1.0753756810482243e-16 theta1 = 0.43406256749283734 cost = 0.16216536037566623\n",
      "Epoch 58 theta0 = -1.0918940207565242e-16 theta1 = 0.4396753408951215 cost = 0.15903078946176008\n",
      "Epoch 59 theta0 = -1.1053628208263688e-16 theta1 = 0.4452319865633828 cost = 0.15595859650904065\n",
      "Epoch 60 theta0 = -1.1199751982606342e-16 theta1 = 0.4507330657749615 cost = 0.15294754019608034\n",
      "Epoch 61 theta0 = -1.1313792058669413e-16 theta1 = 0.45617913419442446 cost = 0.14999640390374794\n",
      "Epoch 62 theta0 = -1.1452609644294933e-16 theta1 = 0.4615707419296928 cost = 0.14710399522363296\n",
      "Epoch 63 theta0 = -1.1603657154512175e-16 theta1 = 0.46690843358760836 cost = 0.1442691454762523\n",
      "Epoch 64 theta0 = -1.1720873834365303e-16 theta1 = 0.4721927483289448 cost = 0.14149070923884446\n",
      "Epoch 65 theta0 = -1.1847779155778107e-16 theta1 = 0.4774242199228679 cost = 0.13876756388256106\n",
      "Epoch 66 theta0 = -1.1988820364056667e-16 theta1 = 0.48260337680085175 cost = 0.1360986091188677\n",
      "Epoch 67 theta0 = -1.20952365910236e-16 theta1 = 0.48773074211005574 cost = 0.13348276655497188\n",
      "Epoch 68 theta0 = -1.2185293308471735e-16 theta1 = 0.4928068337661677 cost = 0.13091897925809753\n",
      "Epoch 69 theta0 = -1.2315692894053601e-16 theta1 = 0.49783216450571854 cost = 0.128406211328431\n",
      "Epoch 70 theta0 = -1.2421473800262523e-16 theta1 = 0.5028072419378739 cost = 0.12594344748056485\n",
      "Epoch 71 theta0 = -1.2554573499065939e-16 theta1 = 0.5077325685957076 cost = 0.12352969263327124\n",
      "Epoch 72 theta0 = -1.270832112250473e-16 theta1 = 0.5126086419869631 cost = 0.12116397150743874\n",
      "Epoch 73 theta0 = -1.2861433425185508e-16 theta1 = 0.517435954644306 cost = 0.11884532823201029\n",
      "Epoch 74 theta0 = -1.2987226935271792e-16 theta1 = 0.5222149941750756 cost = 0.11657282595776286\n",
      "Epoch 75 theta0 = -1.3125726860518307e-16 theta1 = 0.5269462433105373 cost = 0.11434554647877301\n",
      "Epoch 76 theta0 = -1.3275344899030023e-16 theta1 = 0.5316301799546445 cost = 0.11216258986141503\n",
      "Epoch 77 theta0 = -1.3399391277031775e-16 theta1 = 0.5362672772323105 cost = 0.11002307408074251\n",
      "Epoch 78 theta0 = -1.3536144070193759e-16 theta1 = 0.5408580035371999 cost = 0.10792613466410535\n",
      "Epoch 79 theta0 = -1.3669720259565685e-16 theta1 = 0.5454028225790405 cost = 0.10587092434185924\n",
      "Epoch 80 theta0 = -1.3797578562115506e-16 theta1 = 0.5499021934304626 cost = 0.10385661270502584\n",
      "Epoch 81 theta0 = -1.3914318751400127e-16 theta1 = 0.5543565705733705 cost = 0.10188238586976543\n",
      "Epoch 82 theta0 = -1.4042494714328954e-16 theta1 = 0.5587664039448493 cost = 0.09994744614852671\n",
      "Epoch 83 theta0 = -1.4112856488278732e-16 theta1 = 0.5631321389826134 cost = 0.09805101172774061\n",
      "Epoch 84 theta0 = -1.420196022458985e-16 theta1 = 0.5674542166699997 cost = 0.09619231635192822\n",
      "Epoch 85 theta0 = -1.4305041017577221e-16 theta1 = 0.5717330735805123 cost = 0.09437060901409444\n",
      "Epoch 86 theta0 = -1.4420828225724824e-16 theta1 = 0.5759691419219197 cost = 0.09258515365228356\n",
      "Epoch 87 theta0 = -1.4517396980942577e-16 theta1 = 0.580162849579913 cost = 0.09083522885217274\n",
      "Epoch 88 theta0 = -1.4650020189177486e-16 theta1 = 0.5843146201613264 cost = 0.08912012755558413\n",
      "Epoch 89 theta0 = -1.4754053963301876e-16 theta1 = 0.5884248730369257 cost = 0.08743915677479759\n",
      "Epoch 90 theta0 = -1.4862376152542842e-16 theta1 = 0.592494023383769 cost = 0.08579163731254873\n",
      "Epoch 91 theta0 = -1.4963392153066676e-16 theta1 = 0.5965224822271439 cost = 0.0841769034875986\n",
      "Epoch 92 theta0 = -1.5073461474392174e-16 theta1 = 0.600510656482085 cost = 0.08259430286576498\n",
      "Epoch 93 theta0 = -1.5151764757817096e-16 theta1 = 0.6044589489944767 cost = 0.08104319599630584\n",
      "Epoch 94 theta0 = -1.5257386833836513e-16 theta1 = 0.6083677585817445 cost = 0.07952295615354896\n",
      "Epoch 95 theta0 = -1.5336801928587955e-16 theta1 = 0.6122374800731396 cost = 0.07803296908366293\n",
      "Epoch 96 theta0 = -1.5434164834753222e-16 theta1 = 0.6160685043496207 cost = 0.07657263275646768\n",
      "Epoch 97 theta0 = -1.5557258231617957e-16 theta1 = 0.619861218383337 cost = 0.07514135712218359\n",
      "Epoch 98 theta0 = -1.5673839590713073e-16 theta1 = 0.6236160052767161 cost = 0.07373856387302175\n",
      "Epoch 99 theta0 = -1.5785179553554595e-16 theta1 = 0.6273332443011614 cost = 0.07236368620951823\n",
      "Epoch 100 theta0 = -1.5898266648480648e-16 theta1 = 0.6310133109353624 cost = 0.07101616861151844\n",
      "Epoch 101 theta0 = -1.599038815839232e-16 theta1 = 0.6346565769032213 cost = 0.06969546661371882\n",
      "Epoch 102 theta0 = -1.6078062422997912e-16 theta1 = 0.6382634102114016 cost = 0.0684010465856754\n",
      "Epoch 103 theta0 = -1.6197820385883086e-16 theta1 = 0.6418341751865002 cost = 0.06713238551619007\n",
      "Epoch 104 theta0 = -1.6277553141013533e-16 theta1 = 0.6453692325118477 cost = 0.06588897080198748\n",
      "Epoch 105 theta0 = -1.6414147103986012e-16 theta1 = 0.6488689392639418 cost = 0.06467030004059753\n",
      "Epoch 106 theta0 = -1.6522866368700736e-16 theta1 = 0.652333648948515 cost = 0.06347588082735924\n",
      "Epoch 107 theta0 = -1.661133478425384e-16 theta1 = 0.6557637115362424 cost = 0.0623052305564644\n",
      "Epoch 108 theta0 = -1.6700359105470207e-16 theta1 = 0.6591594734980925 cost = 0.061157876225960375\n",
      "Epoch 109 theta0 = -1.674792874722632e-16 theta1 = 0.6625212778403241 cost = 0.06003335424663334\n",
      "Epoch 110 theta0 = -1.6790098162539336e-16 theta1 = 0.6658494641391334 cost = 0.05893121025469495\n",
      "Epoch 111 theta0 = -1.683925610619048e-16 theta1 = 0.6691443685749545 cost = 0.05785099892819615\n",
      "Epoch 112 theta0 = -1.6860618766678616e-16 theta1 = 0.6724063239664175 cost = 0.056792283807094654\n",
      "Epoch 113 theta0 = -1.6916685823573134e-16 theta1 = 0.6756356598039659 cost = 0.055754637116903066\n",
      "Epoch 114 theta0 = -1.6963302484192231e-16 theta1 = 0.6788327022831387 cost = 0.05473763959584631\n",
      "Epoch 115 theta0 = -1.6998324540977617e-16 theta1 = 0.6819977743375198 cost = 0.053740880325458595\n",
      "Epoch 116 theta0 = -1.6996021503229825e-16 theta1 = 0.6851311956713572 cost = 0.05276395656455157\n",
      "Epoch 117 theta0 = -1.7014128144833154e-16 theta1 = 0.6882332827918561 cost = 0.05180647358648661\n",
      "Epoch 118 theta0 = -1.7056932880904183e-16 theta1 = 0.6913043490411501 cost = 0.050868044519685116\n",
      "Epoch 119 theta0 = -1.7102358315102007e-16 theta1 = 0.6943447046279512 cost = 0.04994829019131299\n",
      "Epoch 120 theta0 = -1.7159298938038792e-16 theta1 = 0.6973546566588842 cost = 0.049046838974075475\n",
      "Epoch 121 theta0 = -1.7186379485349034e-16 theta1 = 0.7003345091695079 cost = 0.04816332663606097\n",
      "Epoch 122 theta0 = -1.7222275108176685e-16 theta1 = 0.7032845631550253 cost = 0.04729739619357299\n",
      "Epoch 123 theta0 = -1.7281757014145514e-16 theta1 = 0.7062051166006875 cost = 0.04644869776689051\n",
      "Epoch 124 theta0 = -1.7316620240741396e-16 theta1 = 0.7090964645118931 cost = 0.04561688843889901\n",
      "Epoch 125 theta0 = -1.7327976599290853e-16 theta1 = 0.7119588989439867 cost = 0.04480163211653453\n",
      "Epoch 126 theta0 = -1.7372846127825418e-16 theta1 = 0.7147927090317593 cost = 0.044002599394985124\n",
      "Epoch 127 theta0 = -1.7428913184719936e-16 theta1 = 0.7175981810186542 cost = 0.04321946742459452\n",
      "Epoch 128 theta0 = -1.7469097222664166e-16 theta1 = 0.7203755982856802 cost = 0.04245191978041472\n",
      "Epoch 129 theta0 = -1.7508804770039888e-16 theta1 = 0.723125241380036 cost = 0.04169964633435405\n",
      "Epoch 130 theta0 = -1.7559948091059817e-16 theta1 = 0.7258473880434482 cost = 0.04096234312987001\n",
      "Epoch 131 theta0 = -1.7603229317699353e-16 theta1 = 0.7285423132402262 cost = 0.04023971225915521\n",
      "Epoch 132 theta0 = -1.7653022582108507e-16 theta1 = 0.7312102891850365 cost = 0.03953146174276762\n",
      "Epoch 133 theta0 = -1.7680023714324e-16 theta1 = 0.7338515853703986 cost = 0.03883730541165616\n",
      "Epoch 134 theta0 = -1.7714013374877616e-16 theta1 = 0.7364664685939072 cost = 0.038156962791533806\n",
      "Epoch 135 theta0 = -1.7736884922166033e-16 theta1 = 0.7390552029851807 cost = 0.03749015898955189\n",
      "Epoch 136 theta0 = -1.7757929922275164e-16 theta1 = 0.7416180500325414 cost = 0.03683662458322941\n",
      "Epoch 137 theta0 = -1.7798908111166908e-16 theta1 = 0.7441552686094286 cost = 0.03619609551159274\n",
      "Epoch 138 theta0 = -1.7835280224563068e-16 theta1 = 0.7466671150005468 cost = 0.035568312968481654\n",
      "Epoch 139 theta0 = -1.786569620585287e-16 theta1 = 0.7491538429277539 cost = 0.034953023297978475\n",
      "Epoch 140 theta0 = -1.7901830073964775e-16 theta1 = 0.7516157035756889 cost = 0.03434997789191833\n",
      "Epoch 141 theta0 = -1.791858665895733e-16 theta1 = 0.7540529456171445 cost = 0.033758933089438746\n",
      "Epoch 142 theta0 = -1.7947573168541606e-16 theta1 = 0.7564658152381856 cost = 0.033179650078528536\n",
      "Epoch 143 theta0 = -1.7989980829138875e-16 theta1 = 0.7588545561630162 cost = 0.03261189479953543\n",
      "Epoch 144 theta0 = -1.8021032131186688e-16 theta1 = 0.7612194096785986 cost = 0.03205543785059428\n",
      "Epoch 145 theta0 = -1.8075987376754686e-16 theta1 = 0.7635606146590251 cost = 0.031510054394937065\n",
      "Epoch 146 theta0 = -1.8081387603197784e-16 theta1 = 0.7658784075896474 cost = 0.030975524070047424\n",
      "Epoch 147 theta0 = -1.8127845433627377e-16 theta1 = 0.7681730225909634 cost = 0.030451630898623103\n",
      "Epoch 148 theta0 = -1.8157467263969665e-16 theta1 = 0.7704446914422663 cost = 0.029938163201310108\n",
      "Epoch 149 theta0 = -1.8199398433998426e-16 theta1 = 0.7726936436050562 cost = 0.02943491351117364\n",
      "Epoch 150 theta0 = -1.8210834207642633e-16 theta1 = 0.7749201062462182 cost = 0.02894167848987089\n",
      "Epoch 151 theta0 = -1.8239105981374146e-16 theta1 = 0.7771243042609686 cost = 0.028458258845492065\n",
      "Epoch 152 theta0 = -1.8285881472182745e-16 theta1 = 0.7793064602955714 cost = 0.027984459252036395\n",
      "Epoch 153 theta0 = -1.8311850208166467e-16 theta1 = 0.7814667947698282 cost = 0.02752008827049048\n",
      "Epoch 154 theta0 = -1.8345919283814836e-16 theta1 = 0.7836055258993424 cost = 0.027064958271477334\n",
      "Epoch 155 theta0 = -1.8380464850031712e-16 theta1 = 0.7857228697175616 cost = 0.026618885359444528\n",
      "Epoch 156 theta0 = -1.842446081252401e-16 theta1 = 0.7878190400975985 cost = 0.026181689298361184\n",
      "Epoch 157 theta0 = -1.8440661491853304e-16 theta1 = 0.7898942487738351 cost = 0.0257531934388934\n",
      "Epoch 158 theta0 = -1.8471553963711616e-16 theta1 = 0.7919487053633093 cost = 0.025333224647029026\n",
      "Epoch 159 theta0 = -1.8502684680854182e-16 theta1 = 0.7939826173868887 cost = 0.02492161323412276\n",
      "Epoch 160 theta0 = -1.853238592629122e-16 theta1 = 0.7959961902902323 cost = 0.024518192888333342\n",
      "Epoch 161 theta0 = -1.8565025530234063e-16 theta1 = 0.7979896274645425 cost = 0.024122800607425113\n",
      "Epoch 162 theta0 = -1.86166453418225e-16 theta1 = 0.7999631302671096 cost = 0.02373527663290696\n",
      "Epoch 163 theta0 = -1.8633560757004556e-16 theta1 = 0.8019168980416511 cost = 0.023355464385481705\n",
      "Epoch 164 theta0 = -1.865794119109325e-16 theta1 = 0.8038511281384472 cost = 0.02298321040178022\n",
      "Epoch 165 theta0 = -1.869868113470074e-16 theta1 = 0.8057660159342752 cost = 0.02261836427235441\n",
      "Epoch 166 theta0 = -1.8719170229146613e-16 theta1 = 0.807661754852145 cost = 0.022260778580904167\n",
      "Epoch 167 theta0 = -1.874982445572067e-16 theta1 = 0.8095385363808361 cost = 0.02191030884471378\n",
      "Epoch 168 theta0 = -1.8775396116230632e-16 theta1 = 0.8113965500942403 cost = 0.021566813456273575\n",
      "Epoch 169 theta0 = -1.879787058804529e-16 theta1 = 0.8132359836705104 cost = 0.021230153626063338\n",
      "Epoch 170 theta0 = -1.8825268795734538e-16 theta1 = 0.8150570229110179 cost = 0.02090019332647428\n",
      "Epoch 171 theta0 = -1.8849808060012732e-16 theta1 = 0.8168598517591202 cost = 0.02057679923684705\n",
      "Epoch 172 theta0 = -1.8878000418649494e-16 theta1 = 0.8186446523187415 cost = 0.020259840689603414\n",
      "Epoch 173 theta0 = -1.8904366230106973e-16 theta1 = 0.8204116048727667 cost = 0.019949189617449906\n",
      "Epoch 174 theta0 = -1.8937164664239318e-16 theta1 = 0.8221608879012515 cost = 0.01964472050163226\n",
      "Epoch 175 theta0 = -1.8978381098415316e-16 theta1 = 0.8238926780994515 cost = 0.019346310321219386\n",
      "Epoch 176 theta0 = -1.900728819290484e-16 theta1 = 0.8256071503956696 cost = 0.019053838503396727\n",
      "Epoch 177 theta0 = -1.903317751379381e-16 theta1 = 0.8273044779689254 cost = 0.01876718687474875\n",
      "Epoch 178 theta0 = -1.9063752325273115e-16 theta1 = 0.8289848322664486 cost = 0.018486239613510872\n",
      "Epoch 179 theta0 = -1.907780879704412e-16 theta1 = 0.8306483830209966 cost = 0.018210883202771613\n",
      "Epoch 180 theta0 = -1.911902523122012e-16 theta1 = 0.8322952982679992 cost = 0.017941006384606065\n",
      "Epoch 181 theta0 = -1.9144676306824836e-16 theta1 = 0.8339257443625318 cost = 0.01767650011512201\n",
      "Epoch 182 theta0 = -1.9168818495629274e-16 theta1 = 0.835539885996119 cost = 0.017417257520400693\n",
      "Epoch 183 theta0 = -1.9195422552371006e-16 theta1 = 0.8371378862133703 cost = 0.017163173853314333\n",
      "Epoch 184 theta0 = -1.9232827061998935e-16 theta1 = 0.8387199064284491 cost = 0.016914146451202986\n",
      "Epoch 185 theta0 = -1.9268484439542334e-16 theta1 = 0.8402861064413771 cost = 0.016670074694393657\n",
      "Epoch 186 theta0 = -1.9301441703864182e-16 theta1 = 0.8418366444541759 cost = 0.01643085996554482\n",
      "Epoch 187 theta0 = -1.934702596825151e-16 theta1 = 0.8433716770868467 cost = 0.016196405609800093\n",
      "Epoch 188 theta0 = -1.9381015628805128e-16 theta1 = 0.8448913593931907 cost = 0.015966616895734687\n",
      "Epoch 189 theta0 = -1.9410558044052665e-16 theta1 = 0.8463958448764713 cost = 0.015741400977079174\n",
      "Epoch 190 theta0 = -1.943120596868804e-16 theta1 = 0.8478852855049192 cost = 0.01552066685520491\n",
      "Epoch 191 theta0 = -1.9459715987703807e-16 theta1 = 0.8493598317270825 cost = 0.015304325342355938\n",
      "Epoch 192 theta0 = -1.9487114195393055e-16 theta1 = 0.8508196324870242 cost = 0.015092289025612665\n",
      "Epoch 193 theta0 = -1.9504188440764616e-16 theta1 = 0.8522648352393665 cost = 0.014884472231572583\n",
      "Epoch 194 theta0 = -1.953253962959088e-16 theta1 = 0.8536955859641854 cost = 0.014680790991733894\n",
      "Epoch 195 theta0 = -1.9538416346602486e-16 theta1 = 0.855112029181756 cost = 0.014481163008568006\n",
      "Epoch 196 theta0 = -1.9550408025909954e-16 theta1 = 0.856514307967151 cost = 0.014285507622267105\n",
      "Epoch 197 theta0 = -1.9579235705304728e-16 theta1 = 0.857902563964692 cost = 0.0140937457781536\n",
      "Epoch 198 theta0 = -1.9584953592126833e-16 theta1 = 0.8592769374022576 cost = 0.013905799994737948\n",
      "Epoch 199 theta0 = -1.960742806394149e-16 theta1 = 0.8606375671054476 cost = 0.013721594332412277\n",
      "Epoch 200 theta0 = -1.962172278099675e-16 theta1 = 0.8619845905116056 cost = 0.013541054362766888\n",
      "Epoch 201 theta0 = -1.964530906413793e-16 theta1 = 0.8633181436837021 cost = 0.013364107138517434\n",
      "Epoch 202 theta0 = -1.9658730215150923e-16 theta1 = 0.8646383613240776 cost = 0.013190681164030545\n",
      "Epoch 203 theta0 = -1.969494349835758e-16 theta1 = 0.8659453767880493 cost = 0.013020706366435951\n",
      "Epoch 204 theta0 = -1.971749738526699e-16 theta1 = 0.8672393220973813 cost = 0.01285411406731349\n",
      "Epoch 205 theta0 = -1.9723135856994341e-16 theta1 = 0.86852032795362 cost = 0.01269083695494356\n",
      "Epoch 206 theta0 = -1.9743069045776953e-16 theta1 = 0.8697885237512963 cost = 0.012530809057109791\n",
      "Epoch 207 theta0 = -1.9769117196855427e-16 theta1 = 0.8710440375909959 cost = 0.012373965714442917\n",
      "Epoch 208 theta0 = -1.9787541498837762e-16 theta1 = 0.8722869962922984 cost = 0.012220243554295115\n",
      "Epoch 209 theta0 = -1.9801677385703519e-16 theta1 = 0.873517525406588 cost = 0.012069580465134249\n",
      "Epoch 210 theta0 = -1.9811286612168443e-16 theta1 = 0.8747357492297346 cost = 0.011921915571447691\n",
      "Epoch 211 theta0 = -1.98198634424016e-16 theta1 = 0.8759417908146498 cost = 0.011777189209145484\n",
      "Epoch 212 theta0 = -1.9848135216133112e-16 theta1 = 0.8771357719837158 cost = 0.011635342901453108\n",
      "Epoch 213 theta0 = -1.9845117442532556e-16 theta1 = 0.8783178133410912 cost = 0.011496319335283802\n",
      "Epoch 214 theta0 = -1.9869815537000255e-16 theta1 = 0.8794880342848928 cost = 0.011360062338081267\n",
      "Epoch 215 theta0 = -1.989872263148978e-16 theta1 = 0.8806465530192563 cost = 0.011226516855123063\n",
      "Epoch 216 theta0 = -1.991127021646051e-16 theta1 = 0.8817934865662763 cost = 0.01109562892727572\n",
      "Epoch 217 theta0 = -1.993493591469644e-16 theta1 = 0.8829289507778261 cost = 0.010967345669192543\n",
      "Epoch 218 theta0 = -1.9945815782677387e-16 theta1 = 0.8840530603472604 cost = 0.010841615247945215\n",
      "Epoch 219 theta0 = -1.9964240084659723e-16 theta1 = 0.8851659288210003 cost = 0.010718386862080714\n",
      "Epoch 220 theta0 = -1.9969163820534311e-16 theta1 = 0.8862676686100028 cost = 0.010597610721094917\n",
      "Epoch 221 theta0 = -1.9976628839440948e-16 theta1 = 0.8873583910011154 cost = 0.010479238025314737\n",
      "Epoch 222 theta0 = -1.9987032216853386e-16 theta1 = 0.8884382061683167 cost = 0.010363220946180583\n",
      "Epoch 223 theta0 = -2.0008156632057268e-16 theta1 = 0.889507223183846 cost = 0.010249512606921205\n",
      "Epoch 224 theta0 = -2.0023324915154793e-16 theta1 = 0.8905655500292201 cost = 0.01013806706361308\n",
      "Epoch 225 theta0 = -2.0040955066189613e-16 theta1 = 0.8916132936061404 cost = 0.010028839286616794\n",
      "Epoch 226 theta0 = -2.0059697028550954e-16 theta1 = 0.8926505597472915 cost = 0.009921785142382735\n",
      "Epoch 227 theta0 = -2.0072482858805936e-16 theta1 = 0.8936774532270311 cost = 0.009816861375618928\n",
      "Epoch 228 theta0 = -2.008471278339766e-16 theta1 = 0.8946940777719733 cost = 0.00971402559181372\n",
      "Epoch 229 theta0 = -2.0125849802478907e-16 theta1 = 0.895700536071466 cost = 0.00961323624010624\n",
      "Epoch 230 theta0 = -2.0154042161115668e-16 theta1 = 0.8966969297879639 cost = 0.009514452596497738\n",
      "Epoch 231 theta0 = -2.0165319104570374e-16 theta1 = 0.8976833595672968 cost = 0.009417634747397036\n",
      "Epoch 232 theta0 = -2.019327321792288e-16 theta1 = 0.8986599250488364 cost = 0.009322743573493443\n",
      "Epoch 233 theta0 = -2.020693261422013e-16 theta1 = 0.8996267248755606 cost = 0.009229740733950527\n",
      "Epoch 234 theta0 = -2.0229962991698047e-16 theta1 = 0.9005838567040175 cost = 0.009138588650914525\n",
      "Epoch 235 theta0 = -2.0252437463512704e-16 theta1 = 0.9015314172141898 cost = 0.009049250494330939\n",
      "Epoch 236 theta0 = -2.0267446916420728e-16 theta1 = 0.9024695021192605 cost = 0.008961690167063361\n",
      "Epoch 237 theta0 = -2.0299927690174066e-16 theta1 = 0.9033982061752804 cost = 0.008875872290308406\n",
      "Epoch 238 theta0 = -2.0321528595946459e-16 theta1 = 0.9043176231907402 cost = 0.008791762189300877\n",
      "Epoch 239 theta0 = -2.0336855709233488e-16 theta1 = 0.9052278460360453 cost = 0.008709325879303394\n",
      "Epoch 240 theta0 = -2.03623479546487e-16 theta1 = 0.9061289666528974 cost = 0.008628530051874864\n",
      "Epoch 241 theta0 = -2.0377833898125231e-16 theta1 = 0.907021076063581 cost = 0.008549342061412167\n",
      "Epoch 242 theta0 = -2.0395225803875798e-16 theta1 = 0.9079042643801577 cost = 0.008471729911959672\n",
      "Epoch 243 theta0 = -2.0408170464320284e-16 theta1 = 0.9087786208135686 cost = 0.008395662244281284\n",
      "Epoch 244 theta0 = -2.0419050332301232e-16 theta1 = 0.9096442336826455 cost = 0.008321108323189698\n",
      "Epoch 245 theta0 = -2.0440254162599868e-16 theta1 = 0.9105011904230316 cost = 0.008248038025127828\n",
      "Epoch 246 theta0 = -2.045637542683441e-16 theta1 = 0.9113495775960138 cost = 0.008176421825997397\n",
      "Epoch 247 theta0 = -2.0469796577847405e-16 theta1 = 0.9121894808972661 cost = 0.008106230789229656\n",
      "Epoch 248 theta0 = -2.0490365087388029e-16 theta1 = 0.913020985165506 cost = 0.008037436554093598\n",
      "Epoch 249 theta0 = -2.0506168691243566e-16 theta1 = 0.9138441743910635 cost = 0.007970011324236746\n",
      "Epoch 250 theta0 = -2.0519431012067057e-16 theta1 = 0.9146591317243654 cost = 0.007903927856454038\n",
      "Epoch 251 theta0 = -2.0530946200806015e-16 theta1 = 0.9154659394843343 cost = 0.00783915944968021\n",
      "Epoch 252 theta0 = -2.0529754974384745e-16 theta1 = 0.9162646791667035 cost = 0.007775679934201182\n",
      "Epoch 253 theta0 = -2.0544129106534756e-16 theta1 = 0.917055431452249 cost = 0.007713463661080189\n",
      "Epoch 254 theta0 = -2.056088569152731e-16 theta1 = 0.9178382762149391 cost = 0.0076524854917942985\n",
      "Epoch 255 theta0 = -2.0564459370791125e-16 theta1 = 0.9186132925300022 cost = 0.007592720788077199\n",
      "Epoch 256 theta0 = -2.0581533616162686e-16 theta1 = 0.9193805586819147 cost = 0.0075341454019640765\n",
      "Epoch 257 theta0 = -2.0597496050207724e-16 theta1 = 0.920140152172308 cost = 0.007476735666034604\n",
      "Epoch 258 theta0 = -2.060496106911436e-16 theta1 = 0.9208921497277975 cost = 0.007420468383850121\n",
      "Epoch 259 theta0 = -2.06209235031594e-16 theta1 = 0.9216366273077321 cost = 0.007365320820581111\n",
      "Epoch 260 theta0 = -2.0632676937182612e-16 theta1 = 0.9223736601118673 cost = 0.0073112706938211584\n",
      "Epoch 261 theta0 = -2.0653721937291744e-16 theta1 = 0.9231033225879611 cost = 0.007258296164583727\n",
      "Epoch 262 theta0 = -2.0677069975148668e-16 theta1 = 0.923825688439294 cost = 0.007206375828478122\n",
      "Epoch 263 theta0 = -2.0691682352582935e-16 theta1 = 0.9245408306321136 cost = 0.00715548870706102\n",
      "Epoch 264 theta0 = -2.070145040923736e-16 theta1 = 0.9252488214030049 cost = 0.007105614239360117\n",
      "Epoch 265 theta0 = -2.0716142201766378e-16 theta1 = 0.9259497322661874 cost = 0.007056732273566461\n",
      "Epoch 266 theta0 = -2.0736948956591257e-16 theta1 = 0.926643634020738 cost = 0.007008823058892097\n",
      "Epoch 267 theta0 = -2.0750449522699002e-16 theta1 = 0.9273305967577432 cost = 0.006961867237589755\n",
      "Epoch 268 theta0 = -2.076688844731255e-16 theta1 = 0.9280106898673783 cost = 0.006915845837131325\n",
      "Epoch 269 theta0 = -2.0783724447399856e-16 theta1 = 0.9286839820459171 cost = 0.00687074026254202\n",
      "Epoch 270 theta0 = -2.0784677428536874e-16 theta1 = 0.9293505413026705 cost = 0.006826532288887041\n",
      "Epoch 271 theta0 = -2.0795080805949312e-16 theta1 = 0.9300104349668563 cost = 0.006783204053907797\n",
      "Epoch 272 theta0 = -2.080874020224656e-16 theta1 = 0.9306637296944003 cost = 0.006740738050804644\n",
      "Epoch 273 theta0 = -2.08384414476836e-16 theta1 = 0.9313104914746688 cost = 0.006699117121163236\n",
      "Epoch 274 theta0 = -2.0857342240234442e-16 theta1 = 0.9319507856371346 cost = 0.006658324448021699\n",
      "Epoch 275 theta0 = -2.0872907598805724e-16 theta1 = 0.9325846768579759 cost = 0.0066183435490756734\n",
      "Epoch 276 theta0 = -2.0878069579964568e-16 theta1 = 0.9332122291666086 cost = 0.006579158270018677\n",
      "Epoch 277 theta0 = -2.0886566995102973e-16 theta1 = 0.9338335059521551 cost = 0.006540752778014913\n",
      "Epoch 278 theta0 = -2.0900226391400222e-16 theta1 = 0.934448569969846 cost = 0.006503111555302028\n",
      "Epoch 279 theta0 = -2.0937869146312406e-16 theta1 = 0.9350574833473602 cost = 0.006466219392921124\n",
      "Epoch 280 theta0 = -2.0943428202945007e-16 theta1 = 0.9356603075910991 cost = 0.006430061384571604\n",
      "Epoch 281 theta0 = -2.0960423033221814e-16 theta1 = 0.9362571035924007 cost = 0.006394622920588236\n",
      "Epoch 282 theta0 = -2.0975829561603594e-16 theta1 = 0.9368479316336892 cost = 0.006359889682038138\n",
      "Epoch 283 theta0 = -2.0990759599416864e-16 theta1 = 0.9374328513945648 cost = 0.006325847634935192\n",
      "Epoch 284 theta0 = -2.1002433618345326e-16 theta1 = 0.9380119219578317 cost = 0.00629248302456959\n",
      "Epoch 285 theta0 = -2.1015616524074065e-16 theta1 = 0.9385852018154659 cost = 0.006259782369950263\n",
      "Epoch 286 theta0 = -2.1027290543002527e-16 theta1 = 0.9391527488745237 cost = 0.006227732458357864\n",
      "Epoch 287 theta0 = -2.1036185033614689e-16 theta1 = 0.939714620462991 cost = 0.006196320340006152\n",
      "Epoch 288 theta0 = -2.1057071203534319e-16 theta1 = 0.9402708733355737 cost = 0.006165533322809635\n",
      "Epoch 289 theta0 = -2.108907548671915e-16 theta1 = 0.9408215636794305 cost = 0.006135358967255333\n",
      "Epoch 290 theta0 = -2.1105911486806455e-16 theta1 = 0.9413667471198487 cost = 0.006105785081376563\n",
      "Epoch 291 theta0 = -2.1124732864262547e-16 theta1 = 0.9419064787258628 cost = 0.006076799715826778\n",
      "Epoch 292 theta0 = -2.1142283600202616e-16 theta1 = 0.9424408130158166 cost = 0.006048391159051436\n",
      "Epoch 293 theta0 = -2.115904018519517e-16 theta1 = 0.942969803962871 cost = 0.006020547932555921\n",
      "Epoch 294 theta0 = -2.1185326581557897e-16 theta1 = 0.9434935050004548 cost = 0.005993258786267667\n",
      "Epoch 295 theta0 = -2.1196285864633596e-16 theta1 = 0.9440119690276628 cost = 0.005966512693990547\n",
      "Epoch 296 theta0 = -2.1216060223226706e-16 theta1 = 0.9445252484145987 cost = 0.005940298848949746\n",
      "Epoch 297 theta0 = -2.123496101577755e-16 theta1 = 0.9450333950076653 cost = 0.005914606659425256\n",
      "Epoch 298 theta0 = -2.1246793864895513e-16 theta1 = 0.9455364601348011 cost = 0.0058894257444723035\n",
      "Epoch 299 theta0 = -2.1256800166834195e-16 theta1 = 0.9460344946106656 cost = 0.005864745929726915\n",
      "Epoch 300 theta0 = -2.1269585997089176e-16 theta1 = 0.9465275487417715 cost = 0.0058405572432949585\n",
      "Epoch 301 theta0 = -2.1278480487701338e-16 theta1 = 0.9470156723315662 cost = 0.005816849911722999\n",
      "Epoch 302 theta0 = -2.129126631795632e-16 theta1 = 0.9474989146854631 cost = 0.005793614356049323\n",
      "Epoch 303 theta0 = -2.1300001978378977e-16 theta1 = 0.947977324615821 cost = 0.005770841187933551\n",
      "Epoch 304 theta0 = -2.130730816709611e-16 theta1 = 0.9484509504468753 cost = 0.005748521205863281\n",
      "Epoch 305 theta0 = -2.131445552562374e-16 theta1 = 0.9489198400196192 cost = 0.005726645391436209\n",
      "Epoch 306 theta0 = -2.132430299737292e-16 theta1 = 0.9493840406966355 cost = 0.005705204905716236\n",
      "Epoch 307 theta0 = -2.1341853733312988e-16 theta1 = 0.9498435993668817 cost = 0.005684191085662093\n",
      "Epoch 308 theta0 = -2.1386246771279043e-16 theta1 = 0.9502985624504254 cost = 0.005663595440627025\n",
      "Epoch 309 theta0 = -2.139156758262739e-16 theta1 = 0.9507489759031337 cost = 0.005643409648928157\n",
      "Epoch 310 theta0 = -2.1406577035535412e-16 theta1 = 0.9511948852213149 cost = 0.005623625554484095\n",
      "Epoch 311 theta0 = -2.141698041294785e-16 theta1 = 0.9516363354463143 cost = 0.00560423516351947\n",
      "Epoch 312 theta0 = -2.1421268828064427e-16 theta1 = 0.9520733711690637 cost = 0.005585230641335044\n",
      "Epoch 313 theta0 = -2.1432386941329628e-16 theta1 = 0.9525060365345855 cost = 0.0055666043091420845\n",
      "Epoch 314 theta0 = -2.146065871506114e-16 theta1 = 0.9529343752464522 cost = 0.005548348640959768\n",
      "Epoch 315 theta0 = -2.148758043218188e-16 theta1 = 0.9533584305712002 cost = 0.00553045626057428\n",
      "Epoch 316 theta0 = -2.1499333866205092e-16 theta1 = 0.9537782453427007 cost = 0.00551291993855846\n",
      "Epoch 317 theta0 = -2.1516011036102896e-16 theta1 = 0.9541938619664863 cost = 0.005495732589350755\n",
      "Epoch 318 theta0 = -2.1521093602166989e-16 theta1 = 0.954605322424034 cost = 0.005478887268392283\n",
      "Epoch 319 theta0 = -2.1535705979601255e-16 theta1 = 0.9550126682770061 cost = 0.0054623771693208855\n",
      "Epoch 320 theta0 = -2.1551588998551543e-16 theta1 = 0.9554159406714486 cost = 0.005446195621221008\n",
      "Epoch 321 theta0 = -2.1555003847625855e-16 theta1 = 0.9558151803419467 cost = 0.00543033608592832\n",
      "Epoch 322 theta0 = -2.1565566055227798e-16 theta1 = 0.9562104276157397 cost = 0.005414792155387957\n",
      "Epoch 323 theta0 = -2.1587008130810686e-16 theta1 = 0.9566017224167949 cost = 0.005399557549065344\n",
      "Epoch 324 theta0 = -2.159272601763279e-16 theta1 = 0.9569891042698394 cost = 0.005384626111408555\n",
      "Epoch 325 theta0 = -2.160749722525656e-16 theta1 = 0.9573726123043536 cost = 0.005369991809361134\n",
      "Epoch 326 theta0 = -2.1619806564943033e-16 theta1 = 0.9577522852585225 cost = 0.005355648729924457\n",
      "Epoch 327 theta0 = -2.1634974848040558e-16 theta1 = 0.9581281614831498 cost = 0.00534159107776857\n",
      "Epoch 328 theta0 = -2.1646966527348026e-16 theta1 = 0.9585002789455309 cost = 0.005327813172890583\n",
      "Epoch 329 theta0 = -2.1660705338740025e-16 theta1 = 0.9588686752332881 cost = 0.00531430944831967\n",
      "Epoch 330 theta0 = -2.1676191282216556e-16 theta1 = 0.9592333875581678 cost = 0.005301074447867716\n",
      "Epoch 331 theta0 = -2.1682147414322914e-16 theta1 = 0.9595944527597986 cost = 0.005288102823924759\n",
      "Epoch 332 theta0 = -2.169405967853563e-16 theta1 = 0.9599519073094132 cost = 0.005275389335298265\n",
      "Epoch 333 theta0 = -2.1711133923907192e-16 theta1 = 0.9603057873135316 cost = 0.005262928845095439\n",
      "Epoch 334 theta0 = -2.1725587471151954e-16 theta1 = 0.9606561285176087 cost = 0.005250716318647651\n",
      "Epoch 335 theta0 = -2.1726381622099468e-16 theta1 = 0.9610029663096452 cost = 0.005238746821476171\n",
      "Epoch 336 theta0 = -2.173694382970141e-16 theta1 = 0.9613463357237613 cost = 0.005227015517298405\n",
      "Epoch 337 theta0 = -2.1756638773199767e-16 theta1 = 0.9616862714437362 cost = 0.005215517666073775\n",
      "Epoch 338 theta0 = -2.177395126385558e-16 theta1 = 0.9620228078065114 cost = 0.005204248622088515\n",
      "Epoch 339 theta0 = -2.1788722471479349e-16 theta1 = 0.9623559788056588 cost = 0.005193203832078563\n",
      "Epoch 340 theta0 = -2.1793407962069685e-16 theta1 = 0.9626858180948148 cost = 0.005182378833389808\n",
      "Epoch 341 theta0 = -2.1812308754620528e-16 theta1 = 0.9630123589910792 cost = 0.00517176925217496\n",
      "Epoch 342 theta0 = -2.1831606622645128e-16 theta1 = 0.9633356344783809 cost = 0.005161370801626288\n",
      "Epoch 343 theta0 = -2.1851698641617241e-16 theta1 = 0.9636556772108096 cost = 0.005151179280243536\n",
      "Epoch 344 theta0 = -2.1869646453031067e-16 theta1 = 0.963972519515914 cost = 0.005141190570136299\n",
      "Epoch 345 theta0 = -2.1878064453074718e-16 theta1 = 0.9642861933979674 cost = 0.005131400635360195\n",
      "Epoch 346 theta0 = -2.1880446905917262e-16 theta1 = 0.9645967305412002 cost = 0.005121805520286138\n",
      "Epoch 347 theta0 = -2.1888785490866163e-16 theta1 = 0.9649041623130007 cost = 0.005112401348002055\n",
      "Epoch 348 theta0 = -2.1897679981478324e-16 theta1 = 0.9652085197670832 cost = 0.0051031843187464235\n",
      "Epoch 349 theta0 = -2.1909592245691042e-16 theta1 = 0.9655098336466249 cost = 0.00509415070837298\n",
      "Epoch 350 theta0 = -2.1926745906157353e-16 theta1 = 0.9658081343873712 cost = 0.005085296866845965\n",
      "Epoch 351 theta0 = -2.1940802377928359e-16 theta1 = 0.96610345212071 cost = 0.00507661921676534\n",
      "Epoch 352 theta0 = -2.1945090793044935e-16 theta1 = 0.9663958166767155 cost = 0.005068114251921318\n",
      "Epoch 353 theta0 = -2.1956526566689142e-16 theta1 = 0.9666852575871608 cost = 0.005059778535877693\n",
      "Epoch 354 theta0 = -2.1970662453554899e-16 theta1 = 0.9669718040885018 cost = 0.005051608700583335\n",
      "Epoch 355 theta0 = -2.1991945698948285e-16 theta1 = 0.9672554851248293 cost = 0.005043601445011337\n",
      "Epoch 356 theta0 = -2.200711398204581e-16 theta1 = 0.9675363293507935 cost = 0.005035753533825222\n",
      "Epoch 357 theta0 = -2.198900734044248e-16 theta1 = 0.967814365134498 cost = 0.005028061796071711\n",
      "Epoch 358 theta0 = -2.2004096208445255e-16 theta1 = 0.9680896205603656 cost = 0.005020523123899492\n",
      "Epoch 359 theta0 = -2.2011878887730897e-16 theta1 = 0.9683621234319745 cost = 0.005013134471303501\n",
      "Epoch 360 theta0 = -2.2022361680238086e-16 theta1 = 0.9686319012748672 cost = 0.005005892852894173\n",
      "Epoch 361 theta0 = -2.2036259321819588e-16 theta1 = 0.9688989813393311 cost = 0.004998795342691188\n",
      "Epoch 362 theta0 = -2.205508069927568e-16 theta1 = 0.9691633906031503 cost = 0.004991839072941243\n",
      "Epoch 363 theta0 = -2.207429915220553e-16 theta1 = 0.9694251557743313 cost = 0.004985021232959321\n",
      "Epoch 364 theta0 = -2.2077952246564096e-16 theta1 = 0.9696843032938005 cost = 0.004978339067993041\n",
      "Epoch 365 theta0 = -2.2091214567387588e-16 theta1 = 0.9699408593380751 cost = 0.0049717898781095875\n",
      "Epoch 366 theta0 = -2.2107415246716882e-16 theta1 = 0.9701948498219068 cost = 0.004965371017104816\n",
      "Epoch 367 theta0 = -2.2123139435477668e-16 theta1 = 0.9704463004009003 cost = 0.00495907989143404\n",
      "Epoch 368 theta0 = -2.2138784209143703e-16 theta1 = 0.9706952364741038 cost = 0.004952913959164112\n",
      "Epoch 369 theta0 = -2.2156334945083772e-16 theta1 = 0.9709416831865754 cost = 0.004946870728946355\n",
      "Epoch 370 theta0 = -2.2171264982897042e-16 theta1 = 0.9711856654319221 cost = 0.0049409477590099315\n",
      "Epoch 371 theta0 = -2.2188339228268603e-16 theta1 = 0.9714272078548154 cost = 0.0049351426561752435\n",
      "Epoch 372 theta0 = -2.220843124724072e-16 theta1 = 0.9716663348534798 cost = 0.004929453074886967\n",
      "Epoch 373 theta0 = -2.222709379450731e-16 theta1 = 0.9719030705821575 cost = 0.004923876716266324\n",
      "Epoch 374 theta0 = -2.2237973662488255e-16 theta1 = 0.9721374389535484 cost = 0.004918411327182235\n",
      "Epoch 375 theta0 = -2.225576264371258e-16 theta1 = 0.9723694636412255 cost = 0.004913054699340918\n",
      "Epoch 376 theta0 = -2.2273710455126404e-16 theta1 = 0.9725991680820257 cost = 0.0049078046683936425\n",
      "Epoch 377 theta0 = -2.2290864115592716e-16 theta1 = 0.972826575478418 cost = 0.0049026591130622195\n",
      "Epoch 378 theta0 = -2.230595298359549e-16 theta1 = 0.9730517088008463 cost = 0.00489761595428189\n",
      "Epoch 379 theta0 = -2.231857998366097e-16 theta1 = 0.9732745907900504 cost = 0.0048926731543612895\n",
      "Epoch 380 theta0 = -2.23231066440618e-16 theta1 = 0.9734952439593624 cost = 0.004887828716159111\n",
      "Epoch 381 theta0 = -2.233104815353695e-16 theta1 = 0.9737136905969813 cost = 0.004883080682277154\n",
      "Epoch 382 theta0 = -2.233827492715933e-16 theta1 = 0.973929952768224 cost = 0.0048784271342694465\n",
      "Epoch 383 theta0 = -2.2350266606466797e-16 theta1 = 0.9741440523177544 cost = 0.004873866191867094\n",
      "Epoch 384 theta0 = -2.2361781795205755e-16 theta1 = 0.9743560108717894 cost = 0.004869396012218547\n",
      "Epoch 385 theta0 = -2.237202634242869e-16 theta1 = 0.9745658498402839 cost = 0.004865014789145009\n",
      "Epoch 386 theta0 = -2.2384494512304667e-16 theta1 = 0.9747735904190936 cost = 0.004860720752410633\n",
      "Epoch 387 theta0 = -2.240506302184529e-16 theta1 = 0.9749792535921152 cost = 0.0048565121670072695\n",
      "Epoch 388 theta0 = -2.2417610606816015e-16 theta1 = 0.9751828601334066 cost = 0.004852387332453435\n",
      "Epoch 389 theta0 = -2.242984053140774e-16 theta1 = 0.975384430609285 cost = 0.004848344582107221\n",
      "Epoch 390 theta0 = -2.2444611739031504e-16 theta1 = 0.9755839853804047 cost = 0.0048443822824928975\n",
      "Epoch 391 theta0 = -2.2452950323980407e-16 theta1 = 0.9757815446038132 cost = 0.0048404988326408984\n",
      "Epoch 392 theta0 = -2.2460097682508035e-16 theta1 = 0.9759771282349876 cost = 0.004836692663440953\n",
      "Epoch 393 theta0 = -2.247264526747876e-16 theta1 = 0.9761707560298503 cost = 0.004832962237008087\n",
      "Epoch 394 theta0 = -2.248908419209231e-16 theta1 = 0.9763624475467643 cost = 0.004829306046061235\n",
      "Epoch 395 theta0 = -2.2500599380831266e-16 theta1 = 0.9765522221485091 cost = 0.004825722613314228\n",
      "Epoch 396 theta0 = -2.251187632428597e-16 theta1 = 0.9767400990042365 cost = 0.004822210490878884\n",
      "Epoch 397 theta0 = -2.25218032111299e-16 theta1 = 0.9769260970914067 cost = 0.004818768259680004\n",
      "Epoch 398 theta0 = -2.2518706022434593e-16 theta1 = 0.9771102351977051 cost = 0.004815394528881981\n",
      "Epoch 399 theta0 = -2.254316587161804e-16 theta1 = 0.9772925319229406 cost = 0.004812087935326839\n",
      "Epoch 400 theta0 = -2.255809590943131e-16 theta1 = 0.9774730056809238 cost = 0.0048088471429834434\n",
      "Epoch 401 theta0 = -2.256508443776944e-16 theta1 = 0.9776516747013271 cost = 0.004805670842407682\n",
      "Epoch 402 theta0 = -2.255491930564125e-16 theta1 = 0.9778285570315264 cost = 0.004802557750213378\n",
      "Epoch 403 theta0 = -2.256468736229568e-16 theta1 = 0.9780036705384236 cost = 0.004799506608553741\n",
      "Epoch 404 theta0 = -2.2581523362382984e-16 theta1 = 0.9781770329102519 cost = 0.004796516184613131\n",
      "Epoch 405 theta0 = -2.2595500419059236e-16 theta1 = 0.978348661658362 cost = 0.004793585270108938\n",
      "Epoch 406 theta0 = -2.261058928706201e-16 theta1 = 0.9785185741189909 cost = 0.00479071268080338\n",
      "Epoch 407 theta0 = -2.262393102298025e-16 theta1 = 0.9786867874550135 cost = 0.004787897256025003\n",
      "Epoch 408 theta0 = -2.2625201664496275e-16 theta1 = 0.9788533186576759 cost = 0.0047851378581997145\n",
      "Epoch 409 theta0 = -2.265760302315486e-16 theta1 = 0.9790181845483117 cost = 0.004782433372391148\n",
      "Epoch 410 theta0 = -2.267007119303084e-16 theta1 = 0.9791814017800411 cost = 0.004779782705850174\n",
      "Epoch 411 theta0 = -2.268341292894908e-16 theta1 = 0.9793429868394532 cost = 0.004777184787573365\n",
      "Epoch 412 theta0 = -2.2698184136572846e-16 theta1 = 0.9795029560482712 cost = 0.004774638567870264\n",
      "Epoch 413 theta0 = -2.271700551402894e-16 theta1 = 0.979661325565001 cost = 0.004772143017939257\n",
      "Epoch 414 theta0 = -2.2723835212177563e-16 theta1 = 0.9798181113865635 cost = 0.004769697129451875\n",
      "Epoch 415 theta0 = -2.273789168394857e-16 theta1 = 0.9799733293499104 cost = 0.0047672999141453905\n",
      "Epoch 416 theta0 = -2.2753774702898856e-16 theta1 = 0.9801269951336239 cost = 0.004764950403423507\n",
      "Epoch 417 theta0 = -2.2762907438795273e-16 theta1 = 0.9802791242595001 cost = 0.004762647647964988\n",
      "Epoch 418 theta0 = -2.277323140111296e-16 theta1 = 0.9804297320941177 cost = 0.004760390717340095\n",
      "Epoch 419 theta0 = -2.278554074079943e-16 theta1 = 0.980578833850389 cost = 0.004758178699634636\n",
      "Epoch 420 theta0 = -2.279991487294944e-16 theta1 = 0.9807264445890976 cost = 0.004756010701081516\n",
      "Epoch 421 theta0 = -2.280904760884586e-16 theta1 = 0.9808725792204191 cost = 0.0047538858456996035\n",
      "Epoch 422 theta0 = -2.28140507598152e-16 theta1 = 0.9810172525054275 cost = 0.004751803274939792\n",
      "Epoch 423 theta0 = -2.281675087303675e-16 theta1 = 0.9811604790575857 cost = 0.004749762147338099\n",
      "Epoch 424 theta0 = -2.283207798632378e-16 theta1 = 0.9813022733442224 cost = 0.00474776163817568\n",
      "Epoch 425 theta0 = -2.284160779769395e-16 theta1 = 0.9814426496879927 cost = 0.004745800939145594\n",
      "Epoch 426 theta0 = -2.285645842041247e-16 theta1 = 0.9815816222683252 cost = 0.004743879258026207\n",
      "Epoch 427 theta0 = -2.2864797005361375e-16 theta1 = 0.9817192051228545 cost = 0.004741995818361095\n",
      "Epoch 428 theta0 = -2.2876788684668843e-16 theta1 = 0.9818554121488384 cost = 0.004740149859145319\n",
      "Epoch 429 theta0 = -2.2886239080944263e-16 theta1 = 0.9819902571045626 cost = 0.004738340634517937\n",
      "Epoch 430 theta0 = -2.290045438290477e-16 theta1 = 0.9821237536107295 cost = 0.0047365674134606395\n",
      "Epoch 431 theta0 = -2.2917925703750085e-16 theta1 = 0.9822559151518346 cost = 0.0047348294795023825\n",
      "Epoch 432 theta0 = -2.292642311888849e-16 theta1 = 0.9823867550775288 cost = 0.004733126130429895\n",
      "Epoch 433 theta0 = -2.293134685476308e-16 theta1 = 0.9825162866039661 cost = 0.004731456678003948\n",
      "Epoch 434 theta0 = -2.2946515137860607e-16 theta1 = 0.9826445228151389 cost = 0.00472982044768128\n",
      "Epoch 435 theta0 = -2.2954456647335753e-16 theta1 = 0.9827714766642001 cost = 0.004728216778342032\n",
      "Epoch 436 theta0 = -2.2959142137926086e-16 theta1 = 0.9828971609747705 cost = 0.004726645022022635\n",
      "Epoch 437 theta0 = -2.296327172285316e-16 theta1 = 0.9830215884422353 cost = 0.004725104543653995\n",
      "Epoch 438 theta0 = -2.2974866326686873e-16 theta1 = 0.9831447716350254 cost = 0.00472359472080489\n",
      "Epoch 439 theta0 = -2.297693111915041e-16 theta1 = 0.9832667229958877 cost = 0.0047221149434304825\n",
      "Epoch 440 theta0 = -2.2993131798479706e-16 theta1 = 0.9833874548431414 cost = 0.004720664613625825\n",
      "Epoch 441 theta0 = -2.2994799515469487e-16 theta1 = 0.9835069793719226 cost = 0.00471924314538428\n",
      "Epoch 442 theta0 = -2.2999008515491315e-16 theta1 = 0.9836253086554159 cost = 0.004717849964360742\n",
      "Epoch 443 theta0 = -2.3012270836314807e-16 theta1 = 0.9837424546460742 cost = 0.004716484507639572\n",
      "Epoch 444 theta0 = -2.302219772315874e-16 theta1 = 0.983858429176826 cost = 0.0047151462235071545\n",
      "Epoch 445 theta0 = -2.3035221798697974e-16 theta1 = 0.9839732439622703 cost = 0.004713834571228971\n",
      "Epoch 446 theta0 = -2.3051184232743016e-16 theta1 = 0.9840869105998601 cost = 0.004712549020831124\n",
      "Epoch 447 theta0 = -2.3059919893165676e-16 theta1 = 0.984199440571074 cost = 0.004711289052886194\n",
      "Epoch 448 theta0 = -2.307556466683171e-16 theta1 = 0.9843108452425758 cost = 0.004710054158303368\n",
      "Epoch 449 theta0 = -2.3082553195169834e-16 theta1 = 0.9844211358673626 cost = 0.00470884383812274\n",
      "Epoch 450 theta0 = -2.3087000440475913e-16 theta1 = 0.9845303235859014 cost = 0.004707657603313709\n",
      "Epoch 451 theta0 = -2.3091368270687243e-16 theta1 = 0.9846384194272549 cost = 0.004706494974577375\n",
      "Epoch 452 theta0 = -2.309510078014056e-16 theta1 = 0.9847454343101949 cost = 0.0047053554821528945\n",
      "Epoch 453 theta0 = -2.3101612817910177e-16 theta1 = 0.9848513790443055 cost = 0.00470423866562766\n",
      "Epoch 454 theta0 = -2.3118409110450106e-16 theta1 = 0.984956264331075 cost = 0.004703144073751279\n",
      "Epoch 455 theta0 = -2.31277403840834e-16 theta1 = 0.9850601007649767 cost = 0.004702071264253239\n",
      "Epoch 456 theta0 = -2.314036738414888e-16 theta1 = 0.9851628988345394 cost = 0.00470101980366421\n",
      "Epoch 457 theta0 = -2.315660777102555e-16 theta1 = 0.9852646689234066 cost = 0.0046999892671409004\n",
      "Epoch 458 theta0 = -2.316709056353274e-16 theta1 = 0.985365421311385 cost = 0.004698979238294407\n",
      "Epoch 459 theta0 = -2.317916165793496e-16 theta1 = 0.9854651661754837 cost = 0.004697989309021956\n",
      "Epoch 460 theta0 = -2.3199372799549203e-16 theta1 = 0.9855639135909414 cost = 0.004697019079342029\n",
      "Epoch 461 theta0 = -2.3204336242971166e-16 theta1 = 0.9856616735322445 cost = 0.004696068157232732\n",
      "Epoch 462 theta0 = -2.321061003545653e-16 theta1 = 0.9857584558741346 cost = 0.0046951361584734105\n",
      "Epoch 463 theta0 = -2.322065604494259e-16 theta1 = 0.9858542703926058 cost = 0.0046942227064894\n",
      "Epoch 464 theta0 = -2.323761116767202e-16 theta1 = 0.9859491267658922 cost = 0.00469332743219987\n",
      "Epoch 465 theta0 = -2.324829249791609e-16 theta1 = 0.9860430345754458 cost = 0.0046924499738687005\n",
      "Epoch 466 theta0 = -2.3254486875306703e-16 theta1 = 0.9861360033069039 cost = 0.004691589976958324\n",
      "Epoch 467 theta0 = -2.3271322875394006e-16 theta1 = 0.9862280423510473 cost = 0.004690747093986462\n",
      "Epoch 468 theta0 = -2.327827169618476e-16 theta1 = 0.9863191610047494 cost = 0.004689920984385742\n",
      "Epoch 469 theta0 = -2.3286173498112525e-16 theta1 = 0.9864093684719144 cost = 0.004689111314366075\n",
      "Epoch 470 theta0 = -2.329288407361902e-16 theta1 = 0.9864986738644078 cost = 0.004688317756779799\n",
      "Epoch 471 theta0 = -2.3300587337809914e-16 theta1 = 0.9865870862029763 cost = 0.00468753999098949\n",
      "Epoch 472 theta0 = -2.3315239422791557e-16 theta1 = 0.9866746144181591 cost = 0.004686777702738409\n",
      "Epoch 473 theta0 = -2.3332353375710494e-16 theta1 = 0.98676126735119 cost = 0.004686030584023524\n",
      "Epoch 474 theta0 = -2.3337356526679836e-16 theta1 = 0.9868470537548906 cost = 0.004685298332971066\n",
      "Epoch 475 theta0 = -2.3346211309744624e-16 theta1 = 0.9869319822945541 cost = 0.004684580653714551\n",
      "Epoch 476 theta0 = -2.335550287583054e-16 theta1 = 0.9870160615488212 cost = 0.00468387725627524\n",
      "Epoch 477 theta0 = -2.3367375432495883e-16 theta1 = 0.9870993000105455 cost = 0.004683187856444972\n",
      "Epoch 478 theta0 = -2.3374205130644507e-16 theta1 = 0.9871817060876525 cost = 0.004682512175671327\n",
      "Epoch 479 theta0 = -2.3382940791067167e-16 theta1 = 0.9872632881039886 cost = 0.004681849940945077\n",
      "Epoch 480 theta0 = -2.3393105923195353e-16 theta1 = 0.9873440543001611 cost = 0.0046812008846898795\n",
      "Epoch 481 theta0 = -2.3408750696861386e-16 theta1 = 0.9874240128343721 cost = 0.004680564744654159\n",
      "Epoch 482 theta0 = -2.3423482196937777e-16 theta1 = 0.9875031717832409 cost = 0.004679941263805152\n",
      "Epoch 483 theta0 = -2.3432892885665823e-16 theta1 = 0.987581539142621 cost = 0.004679330190225039\n",
      "Epoch 484 theta0 = -2.3442819772509754e-16 theta1 = 0.9876591228284074 cost = 0.004678731277009169\n",
      "Epoch 485 theta0 = -2.345957635750231e-16 theta1 = 0.9877359306773359 cost = 0.004678144282166296\n",
      "Epoch 486 theta0 = -2.346485746130328e-16 theta1 = 0.987811970447775 cost = 0.0046775689685207966\n",
      "Epoch 487 theta0 = -2.3483083225548735e-16 theta1 = 0.9878872498205098 cost = 0.004677005103616841\n",
      "Epoch 488 theta0 = -2.3500514838846676e-16 theta1 = 0.9879617763995172 cost = 0.004676452459624476\n",
      "Epoch 489 theta0 = -2.3512188857775135e-16 theta1 = 0.9880355577127345 cost = 0.00467591081324756\n",
      "Epoch 490 theta0 = -2.352290989556658e-16 theta1 = 0.9881086012128197 cost = 0.004675379945633541\n",
      "Epoch 491 theta0 = -2.353394859373703e-16 theta1 = 0.9881809142779041 cost = 0.004674859642285044\n",
      "Epoch 492 theta0 = -2.3546019688139253e-16 theta1 = 0.9882525042123376 cost = 0.004674349692973181\n",
      "Epoch 493 theta0 = -2.3561505631615784e-16 theta1 = 0.9883233782474267 cost = 0.004673849891652624\n",
      "Epoch 494 theta0 = -2.357667391471331e-16 theta1 = 0.9883935435421649 cost = 0.004673360036378346\n",
      "Epoch 495 theta0 = -2.3585091914756963e-16 theta1 = 0.9884630071839557 cost = 0.004672879929224026\n",
      "Epoch 496 theta0 = -2.3598473358222583e-16 theta1 = 0.9885317761893287 cost = 0.004672409376202078\n",
      "Epoch 497 theta0 = -2.3611616556403947e-16 theta1 = 0.988599857504648 cost = 0.004671948187185265\n",
      "Epoch 498 theta0 = -2.363226448103932e-16 theta1 = 0.988667258006814 cost = 0.004671496175829889\n",
      "Epoch 499 theta0 = -2.3639094179187946e-16 theta1 = 0.9887339845039583 cost = 0.004671053159500484\n",
      "Epoch 500 theta0 = -2.3647194518852594e-16 theta1 = 0.9888000437361313 cost = 0.004670618959196033\n",
      "Epoch 501 theta0 = -2.365370655662221e-16 theta1 = 0.9888654423759825 cost = 0.0046701933994776415\n",
      "Epoch 502 theta0 = -2.3671098462372777e-16 theta1 = 0.9889301870294352 cost = 0.004669776308397645\n",
      "Epoch 503 theta0 = -2.3685035811501655e-16 theta1 = 0.9889942842363534 cost = 0.004669367517430142\n",
      "Epoch 504 theta0 = -2.370250713234697e-16 theta1 = 0.9890577404712024 cost = 0.004668966861402892\n",
      "Epoch 505 theta0 = -2.370941624559035e-16 theta1 = 0.9891205621437029 cost = 0.004668574178430583\n",
      "Epoch 506 theta0 = -2.3711282500317004e-16 theta1 = 0.9891827555994784 cost = 0.004668189309849424\n",
      "Epoch 507 theta0 = -2.371529296260195e-16 theta1 = 0.9892443271206962 cost = 0.0046678121001530294\n",
      "Epoch 508 theta0 = -2.372637136831978e-16 theta1 = 0.9893052829267017 cost = 0.004667442396929594\n",
      "Epoch 509 theta0 = -2.3737449774037605e-16 theta1 = 0.9893656291746472 cost = 0.004667080050800305\n",
      "Epoch 510 theta0 = -2.3747376660881536e-16 theta1 = 0.9894253719601133 cost = 0.004666724915358988\n",
      "Epoch 511 theta0 = -2.375253864204038e-16 theta1 = 0.9894845173177247 cost = 0.0046663768471129526\n",
      "Epoch 512 theta0 = -2.3768739321369676e-16 theta1 = 0.98954307122176 cost = 0.004666035705425014\n",
      "Epoch 513 theta0 = -2.377862650066623e-16 theta1 = 0.9896010395867549 cost = 0.004665701352456666\n",
      "Epoch 514 theta0 = -2.3787401868636266e-16 theta1 = 0.9896584282680999 cost = 0.0046653736531123875\n",
      "Epoch 515 theta0 = -2.379494630263765e-16 theta1 = 0.9897152430626315 cost = 0.004665052474985061\n",
      "Epoch 516 theta0 = -2.3800108283796495e-16 theta1 = 0.9897714897092177 cost = 0.0046647376883024675\n",
      "Epoch 517 theta0 = -2.381622954803104e-16 theta1 = 0.989827173889338 cost = 0.004664429165874858\n",
      "Epoch 518 theta0 = -2.380848657629277e-16 theta1 = 0.9898823012276572 cost = 0.004664126783043557\n",
      "Epoch 519 theta0 = -2.38195649820106e-16 theta1 = 0.9899368772925932 cost = 0.004663830417630599\n",
      "Epoch 520 theta0 = -2.3835765661339895e-16 theta1 = 0.9899909075968798 cost = 0.004663539949889359\n",
      "Epoch 521 theta0 = -2.3859788727502205e-16 theta1 = 0.9900443975981236 cost = 0.004663255262456171\n",
      "Epoch 522 theta0 = -2.3860979953923476e-16 theta1 = 0.9900973526993548 cost = 0.004662976240302903\n",
      "Epoch 523 theta0 = -2.3867889067166854e-16 theta1 = 0.9901497782495738 cost = 0.004662702770690484\n",
      "Epoch 524 theta0 = -2.3886233954054436e-16 theta1 = 0.9902016795442906 cost = 0.004662434743123353\n",
      "Epoch 525 theta0 = -2.390088603903608e-16 theta1 = 0.9902530618260602 cost = 0.004662172049304808\n",
      "Epoch 526 theta0 = -2.3910455557953627e-16 theta1 = 0.9903039302850122 cost = 0.00466191458309325\n",
      "Epoch 527 theta0 = -2.391692788817587e-16 theta1 = 0.9903542900593746 cost = 0.004661662240459305\n",
      "Epoch 528 theta0 = -2.3922804605187477e-16 theta1 = 0.9904041462359934 cost = 0.004661414919443774\n",
      "Epoch 529 theta0 = -2.392574296369328e-16 theta1 = 0.990453503850846 cost = 0.0046611725201164515\n",
      "Epoch 530 theta0 = -2.3936741954316355e-16 theta1 = 0.99050236788955 cost = 0.004660934944535744\n",
      "Epoch 531 theta0 = -2.394682767134979e-16 theta1 = 0.9905507432878671 cost = 0.004660702096709092\n",
      "Epoch 532 theta0 = -2.395107637891899e-16 theta1 = 0.9905986349322009 cost = 0.004660473882554191\n",
      "Epoch 533 theta0 = -2.395794578461499e-16 theta1 = 0.9906460476600915 cost = 0.004660250209860972\n",
      "Epoch 534 theta0 = -2.3959573794057395e-16 theta1 = 0.990692986260703 cost = 0.004660030988254347\n",
      "Epoch 535 theta0 = -2.397374938847053e-16 theta1 = 0.9907394554753085 cost = 0.004659816129157696\n",
      "Epoch 536 theta0 = -2.3980936454545535e-16 theta1 = 0.9907854599977679 cost = 0.004659605545757067\n",
      "Epoch 537 theta0 = -2.3987805860241534e-16 theta1 = 0.9908310044750027 cost = 0.004659399152966111\n",
      "Epoch 538 theta0 = -2.3999122511243615e-16 theta1 = 0.9908760935074652 cost = 0.004659196867391695\n",
      "Epoch 539 theta0 = -2.4009764133940306e-16 theta1 = 0.990920731649603 cost = 0.004658998607300209\n",
      "Epoch 540 theta0 = -2.402663984157499e-16 theta1 = 0.9909649234103195 cost = 0.004658804292584545\n",
      "Epoch 541 theta0 = -2.4028823756680654e-16 theta1 = 0.9910086732534288 cost = 0.004658613844731722\n",
      "Epoch 542 theta0 = -2.4025567737795846e-16 theta1 = 0.991051985598107 cost = 0.00465842718679117\n",
      "Epoch 543 theta0 = -2.4035891700113533e-16 theta1 = 0.9910948648193385 cost = 0.004658244243343635\n",
      "Epoch 544 theta0 = -2.404260227562003e-16 theta1 = 0.9911373152483577 cost = 0.0046580649404707065\n",
      "Epoch 545 theta0 = -2.405530869078026e-16 theta1 = 0.9911793411730866 cost = 0.0046578892057249485\n",
      "Epoch 546 theta0 = -2.4068968087077507e-16 theta1 = 0.9912209468385682 cost = 0.004657716968100632\n",
      "Epoch 547 theta0 = -2.4084573153196165e-16 theta1 = 0.991262136447395 cost = 0.004657548158005039\n",
      "Epoch 548 theta0 = -2.408723355887034e-16 theta1 = 0.9913029141601336 cost = 0.004657382707230349\n",
      "Epoch 549 theta0 = -2.4088345370196863e-16 theta1 = 0.9913432840957448 cost = 0.004657220548926074\n",
      "Epoch 550 theta0 = -2.409775605892491e-16 theta1 = 0.9913832503319999 cost = 0.004657061617572054\n",
      "Epoch 551 theta0 = -2.4108357974074225e-16 theta1 = 0.9914228169058924 cost = 0.004656905848951978\n",
      "Epoch 552 theta0 = -2.4122374738297857e-16 theta1 = 0.991461987814046 cost = 0.004656753180127444\n",
      "Epoch 553 theta0 = -2.4126464615677557e-16 theta1 = 0.9915007670131181 cost = 0.004656603549412517\n",
      "Epoch 554 theta0 = -2.4130673615699386e-16 theta1 = 0.9915391584201995 cost = 0.004656456896348817\n",
      "Epoch 555 theta0 = -2.4146119851628543e-16 theta1 = 0.99157716591321 cost = 0.004656313161681086\n",
      "Epoch 556 theta0 = -2.415703942715687e-16 theta1 = 0.9916147933312904 cost = 0.0046561722873332415\n",
      "Epoch 557 theta0 = -2.4149653823344985e-16 theta1 = 0.9916520444751901 cost = 0.0046560342163849185\n",
      "Epoch 558 theta0 = -2.4153902530914187e-16 theta1 = 0.9916889231076507 cost = 0.004655898893048469\n",
      "Epoch 559 theta0 = -2.416335292718961e-16 theta1 = 0.9917254329537867 cost = 0.004655766262646414\n",
      "Epoch 560 theta0 = -2.417093706873837e-16 theta1 = 0.9917615777014613 cost = 0.004655636271589359\n",
      "Epoch 561 theta0 = -2.4166330993242786e-16 theta1 = 0.9917973610016593 cost = 0.0046555088673543394\n",
      "Epoch 562 theta0 = -2.4182372842382576e-16 theta1 = 0.9918327864688552 cost = 0.004655383998463598\n",
      "Epoch 563 theta0 = -2.4174987238570693e-16 theta1 = 0.9918678576813792 cost = 0.004655261614463782\n",
      "Epoch 564 theta0 = -2.4178878578213513e-16 theta1 = 0.991902578181778 cost = 0.004655141665905561\n",
      "Epoch 565 theta0 = -2.41892025405312e-16 theta1 = 0.9919369514771728 cost = 0.00465502410432365\n",
      "Epoch 566 theta0 = -2.420155158776505e-16 theta1 = 0.9919709810396136 cost = 0.0046549088822172196\n",
      "Epoch 567 theta0 = -2.4207626842513536e-16 theta1 = 0.9920046703064299 cost = 0.004654795953030706\n",
      "Epoch 568 theta0 = -2.421084315385097e-16 theta1 = 0.9920380226805782 cost = 0.004654685271135004\n",
      "Epoch 569 theta0 = -2.4219181738799873e-16 theta1 = 0.9920710415309849 cost = 0.004654576791809027\n",
      "Epoch 570 theta0 = -2.422271571051631e-16 theta1 = 0.9921037301928876 cost = 0.004654470471221636\n",
      "Epoch 571 theta0 = -2.423355587094988e-16 theta1 = 0.9921360919681712 cost = 0.004654366266413936\n",
      "Epoch 572 theta0 = -2.424312538986743e-16 theta1 = 0.992168130125702 cost = 0.004654264135281907\n",
      "Epoch 573 theta0 = -2.4244276908741326e-16 theta1 = 0.9921998479016575 cost = 0.004654164036559408\n",
      "Epoch 574 theta0 = -2.425483911634327e-16 theta1 = 0.9922312484998534 cost = 0.004654065929801484\n",
      "Epoch 575 theta0 = -2.4261271739018136e-16 theta1 = 0.9922623350920674 cost = 0.004653969775368044\n",
      "Epoch 576 theta0 = -2.426718816357712e-16 theta1 = 0.9922931108183592 cost = 0.00465387553440783\n",
      "Epoch 577 theta0 = -2.427775037117906e-16 theta1 = 0.9923235787873882 cost = 0.0046537831688427235\n",
      "Epoch 578 theta0 = -2.4280688729684866e-16 theta1 = 0.9923537420767269 cost = 0.004653692641352363\n",
      "Epoch 579 theta0 = -2.429081415426567e-16 theta1 = 0.9923836037331721 cost = 0.00465360391535906\n",
      "Epoch 580 theta0 = -2.4294904031645373e-16 theta1 = 0.9924131667730529 cost = 0.004653516955013024\n",
      "Epoch 581 theta0 = -2.429835858826706e-16 theta1 = 0.9924424341825349 cost = 0.004653431725177874\n",
      "Epoch 582 theta0 = -2.4309953192100773e-16 theta1 = 0.9924714089179221 cost = 0.004653348191416443\n",
      "Epoch 583 theta0 = -2.4315512248733374e-16 theta1 = 0.9925000939059554 cost = 0.004653266319976866\n",
      "Epoch 584 theta0 = -2.4322183116692496e-16 theta1 = 0.9925284920441083 cost = 0.004653186077778936\n",
      "Epoch 585 theta0 = -2.433310269222082e-16 theta1 = 0.9925566062008797 cost = 0.004653107432400745\n",
      "Epoch 586 theta0 = -2.4341441277169724e-16 theta1 = 0.9925844392160834 cost = 0.004653030352065579\n",
      "Epoch 587 theta0 = -2.4352202022508543e-16 theta1 = 0.9926119939011351 cost = 0.004652954805629084\n",
      "Epoch 588 theta0 = -2.4364551069742393e-16 theta1 = 0.9926392730393363 cost = 0.004652880762566674\n",
      "Epoch 589 theta0 = -2.436947480561698e-16 theta1 = 0.9926662793861555 cost = 0.004652808192961206\n",
      "Epoch 590 theta0 = -2.437590742829185e-16 theta1 = 0.9926930156695064 cost = 0.004652737067490888\n",
      "Epoch 591 theta0 = -2.43856357773989e-16 theta1 = 0.9927194845900239 cost = 0.004652667357417429\n",
      "Epoch 592 theta0 = -2.43967538906641e-16 theta1 = 0.9927456888213362 cost = 0.004652599034574431\n",
      "Epoch 593 theta0 = -2.440592633410789e-16 theta1 = 0.9927716310103354 cost = 0.00465253207135601\n",
      "Epoch 594 theta0 = -2.441315310773027e-16 theta1 = 0.9927973137774445 cost = 0.004652466440705634\n",
      "Epoch 595 theta0 = -2.442470800401661e-16 theta1 = 0.9928227397168826 cost = 0.004652402116105202\n",
      "Epoch 596 theta0 = -2.442347707004796e-16 theta1 = 0.9928479113969263 cost = 0.004652339071564318\n",
      "Epoch 597 theta0 = -2.443070384367034e-16 theta1 = 0.9928728313601696 cost = 0.004652277281609797\n",
      "Epoch 598 theta0 = -2.442617718326951e-16 theta1 = 0.9928975021237804 cost = 0.004652216721275371\n",
      "Epoch 599 theta0 = -2.4436143777660814e-16 theta1 = 0.992921926179755 cost = 0.004652157366091601\n",
      "Epoch 600 theta0 = -2.4441980787125044e-16 theta1 = 0.9929461059951701 cost = 0.004652099192075987\n",
      "Epoch 601 theta0 = -2.445274153246386e-16 theta1 = 0.9929700440124309 cost = 0.004652042175723284\n",
      "Epoch 602 theta0 = -2.4460722749486383e-16 theta1 = 0.9929937426495191 cost = 0.004651986293996001\n",
      "Epoch 603 theta0 = -2.4471840862751584e-16 theta1 = 0.9930172043002364 cost = 0.004651931524315089\n",
      "Epoch 604 theta0 = -2.4476685183531424e-16 theta1 = 0.9930404313344466 cost = 0.004651877844550828\n",
      "Epoch 605 theta0 = -2.44822839477114e-16 theta1 = 0.9930634260983147 cost = 0.0046518252330138765\n",
      "Epoch 606 theta0 = -2.4493004985502843e-16 theta1 = 0.9930861909145441 cost = 0.0046517736684465105\n",
      "Epoch 607 theta0 = -2.450944391011639e-16 theta1 = 0.9931087280826112 cost = 0.004651723130014033\n",
      "Epoch 608 theta0 = -2.4518536938465427e-16 theta1 = 0.9931310398789976 cost = 0.004651673597296363\n",
      "Epoch 609 theta0 = -2.452492985359292e-16 theta1 = 0.9931531285574202 cost = 0.004651625050279775\n",
      "Epoch 610 theta0 = -2.4531163938530907e-16 theta1 = 0.9931749963490586 cost = 0.004651577469348817\n",
      "Epoch 611 theta0 = -2.4539224570648176e-16 theta1 = 0.9931966454627805 cost = 0.004651530835278385\n",
      "Epoch 612 theta0 = -2.454279824991199e-16 theta1 = 0.9932180780853652 cost = 0.004651485129225954\n",
      "Epoch 613 theta0 = -2.45462130989863e-16 theta1 = 0.9932392963817241 cost = 0.004651440332723967\n",
      "Epoch 614 theta0 = -2.456245348586297e-16 theta1 = 0.9932603024951194 cost = 0.004651396427672369\n",
      "Epoch 615 theta0 = -2.4574961363286325e-16 theta1 = 0.9932810985473808 cost = 0.004651353396331299\n",
      "Epoch 616 theta0 = -2.4581751353887575e-16 theta1 = 0.9933016866391196 cost = 0.004651311221313915\n",
      "Epoch 617 theta0 = -2.458810456146769e-16 theta1 = 0.9933220688499409 cost = 0.004651269885579378\n",
      "Epoch 618 theta0 = -2.459290917470015e-16 theta1 = 0.993342247238654 cost = 0.004651229372425958\n",
      "Epoch 619 theta0 = -2.4603034599280957e-16 theta1 = 0.99336222384348 cost = 0.00465118966548429\n",
      "Epoch 620 theta0 = -2.4605853835144633e-16 theta1 = 0.9933820006822578 cost = 0.004651150748710762\n",
      "Epoch 621 theta0 = -2.461284236348276e-16 theta1 = 0.9934015797526478 cost = 0.004651112606381028\n",
      "Epoch 622 theta0 = -2.462217363711605e-16 theta1 = 0.9934209630323338 cost = 0.004651075223083654\n",
      "Epoch 623 theta0 = -2.4628209184317163e-16 theta1 = 0.993440152479223 cost = 0.004651038583713899\n",
      "Epoch 624 theta0 = -2.4640359693814133e-16 theta1 = 0.9934591500316433 cost = 0.004651002673467602\n",
      "Epoch 625 theta0 = -2.4645918750446733e-16 theta1 = 0.9934779576085394 cost = 0.004650967477835206\n",
      "Epoch 626 theta0 = -2.4672681637377967e-16 theta1 = 0.9934965771096665 cost = 0.004650932982595895\n",
      "Epoch 627 theta0 = -2.46773671279683e-16 theta1 = 0.9935150104157824 cost = 0.004650899173811846\n",
      "Epoch 628 theta0 = -2.468157612799013e-16 theta1 = 0.9935332593888371 cost = 0.004650866037822599\n",
      "Epoch 629 theta0 = -2.4684871854422316e-16 theta1 = 0.9935513258721612 cost = 0.004650833561239538\n",
      "Epoch 630 theta0 = -2.4693686929939724e-16 theta1 = 0.9935692116906522 cost = 0.004650801730940481\n",
      "Epoch 631 theta0 = -2.469920627902495e-16 theta1 = 0.9935869186509582 cost = 0.0046507705340643754\n",
      "Epoch 632 theta0 = -2.4715327543259494e-16 theta1 = 0.9936044485416611 cost = 0.004650739958006103\n",
      "Epoch 633 theta0 = -2.4718027656481043e-16 theta1 = 0.993621803133457 cost = 0.004650709990411391\n",
      "Epoch 634 theta0 = -2.472779571313547e-16 theta1 = 0.993638984179335 cost = 0.0046506806191718136\n",
      "Epoch 635 theta0 = -2.473530043958948e-16 theta1 = 0.9936559934147542 cost = 0.004650651832419904\n",
      "Epoch 636 theta0 = -2.474209043019073e-16 theta1 = 0.9936728325578191 cost = 0.004650623618524357\n",
      "Epoch 637 theta0 = -2.4738794703758545e-16 theta1 = 0.9936895033094535 cost = 0.004650595966085333\n",
      "Epoch 638 theta0 = -2.474081978867471e-16 theta1 = 0.9937060073535715 cost = 0.004650568863929843\n",
      "Epoch 639 theta0 = -2.4747689194370707e-16 theta1 = 0.9937223463572483 cost = 0.004650542301107249\n",
      "Epoch 640 theta0 = -2.475304971326643e-16 theta1 = 0.9937385219708884 cost = 0.0046505162668848245\n",
      "Epoch 641 theta0 = -2.476067356236257e-16 theta1 = 0.993754535828392 cost = 0.004650490750743426\n",
      "Epoch 642 theta0 = -2.476984600580636e-16 theta1 = 0.9937703895473207 cost = 0.0046504657423732405\n",
      "Epoch 643 theta0 = -2.4790017439873225e-16 theta1 = 0.9937860847290599 cost = 0.004650441231669623\n",
      "Epoch 644 theta0 = -2.4795139713484695e-16 theta1 = 0.9938016229589819 cost = 0.004650417208729006\n",
      "Epoch 645 theta0 = -2.480514601542338e-16 theta1 = 0.9938170058066046 cost = 0.004650393663844909\n",
      "Epoch 646 theta0 = -2.4811697760740374e-16 theta1 = 0.9938322348257511 cost = 0.004650370587504005\n",
      "Epoch 647 theta0 = -2.4821624647584304e-16 theta1 = 0.9938473115547062 cost = 0.004650347970382284\n",
      "Epoch 648 theta0 = -2.483067796838597e-16 theta1 = 0.9938622375163716 cost = 0.004650325803341286\n",
      "Epoch 649 theta0 = -2.483639585520807e-16 theta1 = 0.9938770142184205 cost = 0.004650304077424404\n",
      "Epoch 650 theta0 = -2.4851564138305597e-16 theta1 = 0.9938916431534488 cost = 0.004650282783853268\n",
      "Epoch 651 theta0 = -2.4864151430823703e-16 theta1 = 0.9939061257991268 cost = 0.004650261914024197\n",
      "Epoch 652 theta0 = -2.4874078317667634e-16 theta1 = 0.9939204636183481 cost = 0.0046502414595047245\n",
      "Epoch 653 theta0 = -2.487848585542634e-16 theta1 = 0.9939346580593771 cost = 0.00465022141203019\n",
      "Epoch 654 theta0 = -2.4889087770575655e-16 theta1 = 0.9939487105559959 cost = 0.004650201763500398\n",
      "Epoch 655 theta0 = -2.4892979110218474e-16 theta1 = 0.9939626225276484 cost = 0.00465018250597635\n",
      "Epoch 656 theta0 = -2.4895361563061015e-16 theta1 = 0.9939763953795845 cost = 0.004650163631677031\n",
      "Epoch 657 theta0 = -2.490838563860025e-16 theta1 = 0.9939900305030012 cost = 0.004650145132976267\n",
      "Epoch 658 theta0 = -2.491342849711697e-16 theta1 = 0.9940035292751837 cost = 0.004650127002399649\n",
      "Epoch 659 theta0 = -2.49233553839609e-16 theta1 = 0.9940168930596444 cost = 0.004650109232621505\n",
      "Epoch 660 theta0 = -2.491827281789681e-16 theta1 = 0.9940301232062604 cost = 0.004650091816461946\n",
      "Epoch 661 theta0 = -2.492021848771822e-16 theta1 = 0.9940432210514103 cost = 0.004650074746883962\n",
      "Epoch 662 theta0 = -2.492140971413949e-16 theta1 = 0.9940561879181087 cost = 0.004650058016990581\n",
      "Epoch 663 theta0 = -2.492009936507609e-16 theta1 = 0.9940690251161401 cost = 0.0046500416200220785\n",
      "Epoch 664 theta0 = -2.492216415753963e-16 theta1 = 0.9940817339421912 cost = 0.004650025549353247\n",
      "Epoch 665 theta0 = -2.4930343912299025e-16 theta1 = 0.9940943156799819 cost = 0.004650009798490728\n",
      "Epoch 666 theta0 = -2.4933798468920714e-16 theta1 = 0.9941067716003945 cost = 0.004649994361070372\n",
      "Epoch 667 theta0 = -2.4937411855731904e-16 theta1 = 0.9941191029616031 cost = 0.004649979230854681\n",
      "Epoch 668 theta0 = -2.494455921425953e-16 theta1 = 0.9941313110091996 cost = 0.004649964401730282\n",
      "Epoch 669 theta0 = -2.4947418157670583e-16 theta1 = 0.9941433969763201 cost = 0.004649949867705459\n",
      "Epoch 670 theta0 = -2.495277867656631e-16 theta1 = 0.9941553620837694 cost = 0.00464993562290773\n",
      "Epoch 671 theta0 = -2.495682884639863e-16 theta1 = 0.9941672075401442 cost = 0.004649921661581475\n",
      "Epoch 672 theta0 = -2.4963102638883995e-16 theta1 = 0.9941789345419553 cost = 0.004649907978085613\n",
      "Epoch 673 theta0 = -2.4966914563432067e-16 theta1 = 0.9941905442737482 cost = 0.004649894566891319\n",
      "Epoch 674 theta0 = -2.4970011752127373e-16 theta1 = 0.9942020379082233 cost = 0.004649881422579792\n",
      "Epoch 675 theta0 = -2.4968979355895604e-16 theta1 = 0.9942134166063535 cost = 0.004649868539840063\n",
      "Epoch 676 theta0 = -2.497433987479133e-16 theta1 = 0.9942246815175025 cost = 0.004649855913466855\n",
      "Epoch 677 theta0 = -2.49756899314021e-16 theta1 = 0.9942358337795401 cost = 0.004649843538358473\n",
      "Epoch 678 theta0 = -2.4977516478581383e-16 theta1 = 0.9942468745189572 cost = 0.0046498314095147495\n",
      "Epoch 679 theta0 = -2.498887283713084e-16 theta1 = 0.9942578048509801 cost = 0.0046498195220350145\n",
      "Epoch 680 theta0 = -2.4987324242783186e-16 theta1 = 0.9942686258796829 cost = 0.004649807871116128\n",
      "Epoch 681 theta0 = -2.498033571444506e-16 theta1 = 0.9942793386980986 cost = 0.004649796452050527\n",
      "Epoch 682 theta0 = -2.498375056351937e-16 theta1 = 0.9942899443883302 cost = 0.00464978526022433\n",
      "Epoch 683 theta0 = -2.4988158101278074e-16 theta1 = 0.9943004440216594 cost = 0.004649774291115475\n",
      "Epoch 684 theta0 = -2.498899195977296e-16 theta1 = 0.9943108386586553 cost = 0.004649763540291887\n",
      "Epoch 685 theta0 = -2.498855517675183e-16 theta1 = 0.9943211293492813 cost = 0.004649753003409687\n",
      "Epoch 686 theta0 = -2.498653009183567e-16 theta1 = 0.994331317133001 cost = 0.004649742676211444\n",
      "Epoch 687 theta0 = -2.498684775221467e-16 theta1 = 0.9943414030388835 cost = 0.004649732554524446\n",
      "Epoch 688 theta0 = -2.498970669562572e-16 theta1 = 0.9943513880857072 cost = 0.004649722634259018\n",
      "Epoch 689 theta0 = -2.498756248806743e-16 theta1 = 0.9943612732820627 cost = 0.004649712911406874\n",
      "Epoch 690 theta0 = -2.4989389035246714e-16 theta1 = 0.9943710596264546 cost = 0.004649703382039487\n",
      "Epoch 691 theta0 = -2.496349971435774e-16 theta1 = 0.9943807481074025 cost = 0.00464969404230651\n",
      "Epoch 692 theta0 = -2.4968502865327084e-16 theta1 = 0.994390339703541 cost = 0.00464968488843422\n",
      "Epoch 693 theta0 = -2.4972672157801533e-16 theta1 = 0.9943998353837181 cost = 0.004649675916723988\n",
      "Epoch 694 theta0 = -2.4975054610644074e-16 theta1 = 0.9944092361070934 cost = 0.00464966712355079\n",
      "Epoch 695 theta0 = -2.498037542199242e-16 theta1 = 0.994418542823235 cost = 0.004649658505361739\n",
      "Epoch 696 theta0 = -2.4984703544656375e-16 theta1 = 0.9944277564722153 cost = 0.004649650058674649\n",
      "Epoch 697 theta0 = -2.49791047804764e-16 theta1 = 0.9944368779847056 cost = 0.004649641780076634\n",
      "Epoch 698 theta0 = -2.49913744126155e-16 theta1 = 0.994445908282071 cost = 0.004649633666222718\n",
      "Epoch 699 theta0 = -2.4991017044689115e-16 theta1 = 0.9944548482764628 cost = 0.004649625713834495\n",
      "Epoch 700 theta0 = -2.49943127711213e-16 theta1 = 0.9944636988709107 cost = 0.004649617919698798\n",
      "Epoch 701 theta0 = -2.498617272390928e-16 theta1 = 0.9944724609594141 cost = 0.004649610280666402\n",
      "Epoch 702 theta0 = -2.498514032767751e-16 theta1 = 0.9944811354270325 cost = 0.00464960279365075\n",
      "Epoch 703 theta0 = -2.498180489369795e-16 theta1 = 0.9944897231499747 cost = 0.0046495954556267085\n",
      "Epoch 704 theta0 = -2.4978866535192146e-16 theta1 = 0.9944982249956875 cost = 0.004649588263629345\n",
      "Epoch 705 theta0 = -2.498494178994063e-16 theta1 = 0.9945066418229431 cost = 0.004649581214752733\n",
      "Epoch 706 theta0 = -2.4980454837087173e-16 theta1 = 0.9945149744819263 cost = 0.004649574306148763\n",
      "Epoch 707 theta0 = -2.4983512318235105e-16 theta1 = 0.9945232238143196 cost = 0.004649567535026011\n",
      "Epoch 708 theta0 = -2.49805739597293e-16 theta1 = 0.9945313906533889 cost = 0.004649560898648603\n",
      "Epoch 709 theta0 = -2.4985180035224886e-16 theta1 = 0.9945394758240675 cost = 0.0046495543943351056\n",
      "Epoch 710 theta0 = -2.498557711069864e-16 theta1 = 0.9945474801430394 cost = 0.004649548019457446\n",
      "Epoch 711 theta0 = -2.498132840312944e-16 theta1 = 0.9945554044188215 cost = 0.004649541771439852\n",
      "Epoch 712 theta0 = -2.4971322101190756e-16 theta1 = 0.9945632494518458 cost = 0.004649535647757808\n",
      "Epoch 713 theta0 = -2.4976523789896974e-16 theta1 = 0.9945710160345399 cost = 0.004649529645937037\n",
      "Epoch 714 theta0 = -2.498549769560389e-16 theta1 = 0.994578704951407 cost = 0.0046495237635525\n",
      "Epoch 715 theta0 = -2.498585506353027e-16 theta1 = 0.9945863169791055 cost = 0.004649517998227414\n",
      "Epoch 716 theta0 = -2.497946214840278e-16 theta1 = 0.9945938528865269 cost = 0.004649512347632298\n",
      "Epoch 717 theta0 = -2.4993796573005413e-16 theta1 = 0.9946013134348741 cost = 0.004649506809484025\n",
      "Epoch 718 theta0 = -2.499661580886909e-16 theta1 = 0.9946086993777379 cost = 0.004649501381544903\n",
      "Epoch 719 theta0 = -2.499272446922627e-16 theta1 = 0.9946160114611731 cost = 0.004649496061621767\n",
      "Epoch 720 theta0 = -2.499467013904768e-16 theta1 = 0.9946232504237739 cost = 0.004649490847565104\n",
      "Epoch 721 theta0 = -2.498883312958345e-16 theta1 = 0.9946304169967487 cost = 0.004649485737268168\n",
      "Epoch 722 theta0 = -2.498430646918262e-16 theta1 = 0.9946375119039937 cost = 0.0046494807286661406\n",
      "Epoch 723 theta0 = -2.4988634591846574e-16 theta1 = 0.9946445358621663 cost = 0.0046494758197352945\n",
      "Epoch 724 theta0 = -2.498839634656232e-16 theta1 = 0.9946514895807571 cost = 0.004649471008492171\n",
      "Epoch 725 theta0 = -2.4985378572961766e-16 theta1 = 0.994658373762162 cost = 0.004649466292992786\n",
      "Epoch 726 theta0 = -2.4990858214499614e-16 theta1 = 0.994665189101753 cost = 0.004649461671331839\n",
      "Epoch 727 theta0 = -2.4984147638993117e-16 theta1 = 0.9946719362879479 cost = 0.004649457141641945\n",
      "Epoch 728 theta0 = -2.4986410969193535e-16 theta1 = 0.994678616002281 cost = 0.00464945270209288\n",
      "Epoch 729 theta0 = -2.497755618612875e-16 theta1 = 0.9946852289194708 cost = 0.004649448350890841\n",
      "Epoch 730 theta0 = -2.4984624129561627e-16 theta1 = 0.9946917757074886 cost = 0.004649444086277722\n",
      "Epoch 731 theta0 = -2.4980375421992425e-16 theta1 = 0.9946982570276262 cost = 0.0046494399065304046\n",
      "Epoch 732 theta0 = -2.4984465299372125e-16 theta1 = 0.9947046735345624 cost = 0.0046494358099600595\n",
      "Epoch 733 theta0 = -2.498533886541439e-16 theta1 = 0.9947110258764292 cost = 0.004649431794911464\n",
      "Epoch 734 theta0 = -2.4978906242739525e-16 theta1 = 0.9947173146948775 cost = 0.0046494278597623345\n",
      "Epoch 735 theta0 = -2.4992367101299893e-16 theta1 = 0.9947235406251412 cost = 0.0046494240029226735\n",
      "Epoch 736 theta0 = -2.498831693146757e-16 theta1 = 0.9947297042961023 cost = 0.004649420222834122\n",
      "Epoch 737 theta0 = -2.4982996120119225e-16 theta1 = 0.9947358063303539 cost = 0.004649416517969332\n",
      "Epoch 738 theta0 = -2.4981685771055827e-16 theta1 = 0.9947418473442629 cost = 0.004649412886831352\n",
      "Epoch 739 theta0 = -2.4979740101234418e-16 theta1 = 0.9947478279480327 cost = 0.004649409327953017\n",
      "Epoch 740 theta0 = -2.4986053601267157e-16 theta1 = 0.9947537487457649 cost = 0.004649405839896361\n",
      "Epoch 741 theta0 = -2.4987006582404173e-16 theta1 = 0.9947596103355199 cost = 0.004649402421252034\n",
      "Epoch 742 theta0 = -2.499026260128898e-16 theta1 = 0.9947654133093772 cost = 0.004649399070638728\n",
      "Epoch 743 theta0 = -2.49884360541097e-16 theta1 = 0.9947711582534959 cost = 0.0046493957867026255\n",
      "Epoch 744 theta0 = -2.499177148808926e-16 theta1 = 0.9947768457481735 cost = 0.0046493925681168535\n",
      "Epoch 745 theta0 = -2.498518003522489e-16 theta1 = 0.9947824763679043 cost = 0.004649389413580937\n",
      "Epoch 746 theta0 = -2.498907137486771e-16 theta1 = 0.9947880506814377 cost = 0.004649386321820286\n",
      "Epoch 747 theta0 = -2.498414763899312e-16 theta1 = 0.9947935692518358 cost = 0.004649383291585671\n",
      "Epoch 748 theta0 = -2.497914448802378e-16 theta1 = 0.99479903263653 cost = 0.004649380321652727\n",
      "Epoch 749 theta0 = -2.4991056752236494e-16 theta1 = 0.9948044413873772 cost = 0.004649377410821446\n",
      "Epoch 750 theta0 = -2.5001539544743684e-16 theta1 = 0.994809796050716 cost = 0.004649374557915709\n",
      "Epoch 751 theta0 = -2.499923650699589e-16 theta1 = 0.9948150971674213 cost = 0.004649371761782795\n",
      "Epoch 752 theta0 = -2.499228768620514e-16 theta1 = 0.9948203452729596 cost = 0.004649369021292928\n",
      "Epoch 753 theta0 = -2.499395540319492e-16 theta1 = 0.9948255408974426 cost = 0.004649366335338807\n",
      "Epoch 754 theta0 = -2.4994273063573923e-16 theta1 = 0.9948306845656807 cost = 0.004649363702835175\n",
      "Epoch 755 theta0 = -2.499014347864685e-16 theta1 = 0.9948357767972364 cost = 0.0046493611227183635\n",
      "Epoch 756 theta0 = -2.4991017044689115e-16 theta1 = 0.9948408181064766 cost = 0.004649358593945878\n",
      "Epoch 757 theta0 = -2.499756879000611e-16 theta1 = 0.9948458090026244 cost = 0.004649356115495964\n",
      "Epoch 758 theta0 = -2.4993240667342155e-16 theta1 = 0.9948507499898107 cost = 0.0046493536863672046\n",
      "Epoch 759 theta0 = -2.499002435600472e-16 theta1 = 0.9948556415671251 cost = 0.004649351305578107\n",
      "Epoch 760 theta0 = -2.499042143147848e-16 theta1 = 0.9948604842286665 cost = 0.00464934897216671\n",
      "Epoch 761 theta0 = -2.49931612522474e-16 theta1 = 0.9948652784635923 cost = 0.004649346685190204\n",
      "Epoch 762 theta0 = -2.4991453827710246e-16 theta1 = 0.9948700247561689 cost = 0.004649344443724527\n",
      "Epoch 763 theta0 = -2.499744966736398e-16 theta1 = 0.9948747235858197 cost = 0.004649342246864019\n",
      "Epoch 764 theta0 = -2.5003524922112463e-16 theta1 = 0.9948793754271741 cost = 0.0046493400937210345\n",
      "Epoch 765 theta0 = -2.5000110073038153e-16 theta1 = 0.9948839807501149 cost = 0.004649337983425594\n",
      "Epoch 766 theta0 = -2.4991930318278757e-16 theta1 = 0.9948885400198262 cost = 0.004649335915125036\n",
      "Epoch 767 theta0 = -2.4986808044667287e-16 theta1 = 0.9948930536968404 cost = 0.004649333887983656\n",
      "Epoch 768 theta0 = -2.4989309620151956e-16 theta1 = 0.9948975222370846 cost = 0.004649331901182391\n",
      "Epoch 769 theta0 = -2.498879342203607e-16 theta1 = 0.9949019460919263 cost = 0.00464932995391847\n",
      "Epoch 770 theta0 = -2.498537857296176e-16 theta1 = 0.9949063257082196 cost = 0.004649328045405102\n",
      "Epoch 771 theta0 = -2.4982876997477093e-16 theta1 = 0.99491066152835 cost = 0.00464932617487115\n",
      "Epoch 772 theta0 = -2.4986212431456654e-16 theta1 = 0.994914953990279 cost = 0.004649324341560823\n",
      "Epoch 773 theta0 = -2.4978707705002644e-16 theta1 = 0.9949192035275887 cost = 0.004649322544733372\n",
      "Epoch 774 theta0 = -2.4995583412637326e-16 theta1 = 0.9949234105695253 cost = 0.004649320783662788\n",
      "Epoch 775 theta0 = -2.498116957293994e-16 theta1 = 0.9949275755410425 cost = 0.004649319057637508\n",
      "Epoch 776 theta0 = -2.49804151295398e-16 theta1 = 0.9949316988628446 cost = 0.004649317365960131\n",
      "Epoch 777 theta0 = -2.497938273330803e-16 theta1 = 0.9949357809514286 cost = 0.004649315707947133\n",
      "Epoch 778 theta0 = -2.498180489369795e-16 theta1 = 0.9949398222191269 cost = 0.004649314082928595\n",
      "Epoch 779 theta0 = -2.498406822389837e-16 theta1 = 0.9949438230741482 cost = 0.004649312490247926\n",
      "Epoch 780 theta0 = -2.4996456978679593e-16 theta1 = 0.9949477839206192 cost = 0.004649310929261601\n",
      "Epoch 781 theta0 = -2.499264505413152e-16 theta1 = 0.9949517051586255 cost = 0.004649309399338905\n",
      "Epoch 782 theta0 = -2.499185090318401e-16 theta1 = 0.9949555871842518 cost = 0.00464930789986167\n",
      "Epoch 783 theta0 = -2.4992247978657765e-16 theta1 = 0.9949594303896219 cost = 0.0046493064302240315\n",
      "Epoch 784 theta0 = -2.499248622394202e-16 theta1 = 0.9949632351629382 cost = 0.004649304989832182\n",
      "Epoch 785 theta0 = -2.4984743252203755e-16 theta1 = 0.9949670018885213 cost = 0.004649303578104132\n",
      "Epoch 786 theta0 = -2.4979501855950158e-16 theta1 = 0.9949707309468486 cost = 0.004649302194469468\n",
      "Epoch 787 theta0 = -2.4989627280530964e-16 theta1 = 0.9949744227145927 cost = 0.004649300838369137\n",
      "Epoch 788 theta0 = -2.4991850903184003e-16 theta1 = 0.9949780775646593 cost = 0.0046492995092552\n",
      "Epoch 789 theta0 = -2.499772762019561e-16 theta1 = 0.9949816958662252 cost = 0.0046492982065906305\n",
      "Epoch 790 theta0 = -2.4996496686226963e-16 theta1 = 0.9949852779847754 cost = 0.004649296929849086\n",
      "Epoch 791 theta0 = -2.4982757874834965e-16 theta1 = 0.9949888242821402 cost = 0.004649295678514699\n",
      "Epoch 792 theta0 = -2.497981951632916e-16 theta1 = 0.9949923351165313 cost = 0.004649294452081866\n",
      "Epoch 793 theta0 = -2.498764190316218e-16 theta1 = 0.9949958108425785 cost = 0.004649293250055047\n",
      "Epoch 794 theta0 = -2.4976087006875843e-16 theta1 = 0.9949992518113653 cost = 0.004649292071948559\n",
      "Epoch 795 theta0 = -2.498176518615057e-16 theta1 = 0.9950026583704642 cost = 0.004649290917286393\n",
      "Epoch 796 theta0 = -2.498641096919353e-16 theta1 = 0.9950060308639721 cost = 0.004649289785602003\n",
      "Epoch 797 theta0 = -2.498382997861411e-16 theta1 = 0.9950093696325449 cost = 0.004649288676438133\n",
      "Epoch 798 theta0 = -2.498788014844643e-16 theta1 = 0.995012675013432 cost = 0.004649287589346624\n",
      "Epoch 799 theta0 = -2.498664921447778e-16 theta1 = 0.9950159473405102 cost = 0.004649286523888235\n",
      "Epoch 800 theta0 = -2.498601389371977e-16 theta1 = 0.9950191869443177 cost = 0.004649285479632469\n",
      "Epoch 801 theta0 = -2.498422705408786e-16 theta1 = 0.995022394152087 cost = 0.004649284456157391\n",
      "Epoch 802 theta0 = -2.498478295975112e-16 theta1 = 0.9950255692877787 cost = 0.004649283453049469\n",
      "Epoch 803 theta0 = -2.498144752577156e-16 theta1 = 0.9950287126721135 cost = 0.004649282469903394\n",
      "Epoch 804 theta0 = -2.4983988808803605e-16 theta1 = 0.9950318246226049 cost = 0.004649281506321925\n",
      "Epoch 805 theta0 = -2.4985219742772255e-16 theta1 = 0.9950349054535913 cost = 0.004649280561915728\n",
      "Epoch 806 theta0 = -2.499113616733124e-16 theta1 = 0.9950379554762679 cost = 0.004649279636303215\n",
      "Epoch 807 theta0 = -2.4991811195636624e-16 theta1 = 0.9950409749987178 cost = 0.004649278729110391\n",
      "Epoch 808 theta0 = -2.49960996107532e-16 theta1 = 0.9950439643259431 cost = 0.004649277839970703\n",
      "Epoch 809 theta0 = -2.49905405541206e-16 theta1 = 0.9950469237598962 cost = 0.004649276968524895\n",
      "Epoch 810 theta0 = -2.498843605410969e-16 theta1 = 0.9950498535995098 cost = 0.004649276114420859\n",
      "Epoch 811 theta0 = -2.499220827111038e-16 theta1 = 0.9950527541407272 cost = 0.004649275277313494\n",
      "Epoch 812 theta0 = -2.499324066734215e-16 theta1 = 0.9950556256765325 cost = 0.004649274456864564\n",
      "Epoch 813 theta0 = -2.4993280374889524e-16 theta1 = 0.9950584684969797 cost = 0.004649273652742569\n",
      "Epoch 814 theta0 = -2.4989547865436206e-16 theta1 = 0.9950612828892224 cost = 0.004649272864622601\n",
      "Epoch 815 theta0 = -2.4988436054109684e-16 theta1 = 0.9950640691375426 cost = 0.004649272092186221\n",
      "Epoch 816 theta0 = -2.498903166732032e-16 theta1 = 0.9950668275233797 cost = 0.004649271335121325\n",
      "Epoch 817 theta0 = -2.4989666988078333e-16 theta1 = 0.9950695583253585 cost = 0.004649270593122019\n",
      "Epoch 818 theta0 = -2.498430646918261e-16 theta1 = 0.9950722618193174 cost = 0.004649269865888501\n",
      "Epoch 819 theta0 = -2.498216226162432e-16 theta1 = 0.9950749382783367 cost = 0.004649269153126929\n",
      "Epoch 820 theta0 = -2.497572963894945e-16 theta1 = 0.9950775879727659 cost = 0.004649268454549312\n",
      "Epoch 821 theta0 = -2.498323436540346e-16 theta1 = 0.9950802111702508 cost = 0.004649267769873391\n",
      "Epoch 822 theta0 = -2.4981248988034677e-16 theta1 = 0.9950828081357608 cost = 0.004649267098822519\n",
      "Epoch 823 theta0 = -2.49826784597402e-16 theta1 = 0.9950853791316157 cost = 0.0046492664411255605\n",
      "Epoch 824 theta0 = -2.498069308237142e-16 theta1 = 0.995087924417512 cost = 0.0046492657965167715\n",
      "Epoch 825 theta0 = -2.498029600689766e-16 theta1 = 0.9950904442505495 cost = 0.004649265164735697\n",
      "Epoch 826 theta0 = -2.497918419557114e-16 theta1 = 0.9950929388852565 cost = 0.0046492645455270655\n",
      "Epoch 827 theta0 = -2.498855517675181e-16 theta1 = 0.9950954085736164 cost = 0.004649263938640687\n",
      "Epoch 828 theta0 = -2.4987125705046286e-16 theta1 = 0.9950978535650928 cost = 0.004649263343831346\n",
      "Epoch 829 theta0 = -2.497922390311852e-16 theta1 = 0.9951002741066545 cost = 0.0046492627608587115\n",
      "Epoch 830 theta0 = -2.4980375421992415e-16 theta1 = 0.9951026704428004 cost = 0.0046492621894872336\n",
      "Epoch 831 theta0 = -2.498164606350844e-16 theta1 = 0.995105042815585 cost = 0.004649261629486047\n",
      "Epoch 832 theta0 = -2.498164606350844e-16 theta1 = 0.9951073914646417 cost = 0.004649261080628884\n",
      "Epoch 833 theta0 = -2.4984544714466864e-16 theta1 = 0.9951097166272078 cost = 0.004649260542693977\n",
      "Epoch 834 theta0 = -2.498160635596106e-16 theta1 = 0.9951120185381482 cost = 0.004649260015463977\n",
      "Epoch 835 theta0 = -2.4979978346518653e-16 theta1 = 0.9951142974299793 cost = 0.004649259498725854\n",
      "Epoch 836 theta0 = -2.4984981497487995e-16 theta1 = 0.995116553532892 cost = 0.004649258992270819\n",
      "Epoch 837 theta0 = -2.4991890610731372e-16 theta1 = 0.9951187870747755 cost = 0.004649258495894238\n",
      "Epoch 838 theta0 = -2.499006406355209e-16 theta1 = 0.9951209982812403 cost = 0.004649258009395553\n",
      "Epoch 839 theta0 = -2.4993637742815906e-16 theta1 = 0.9951231873756404 cost = 0.004649257532578191\n",
      "Epoch 840 theta0 = -2.499748937491135e-16 theta1 = 0.9951253545790966 cost = 0.004649257065249494\n",
      "Epoch 841 theta0 = -2.4990937629594357e-16 theta1 = 0.9951275001105181 cost = 0.004649256607220638\n",
      "Epoch 842 theta0 = -2.4989706695625707e-16 theta1 = 0.9951296241866254 cost = 0.004649256158306557\n",
      "Epoch 843 theta0 = -2.498553740315126e-16 theta1 = 0.9951317270219717 cost = 0.004649255718325866\n",
      "Epoch 844 theta0 = -2.500324696928083e-16 theta1 = 0.9951338088289645 cost = 0.004649255287100791\n",
      "Epoch 845 theta0 = -2.5005748544765497e-16 theta1 = 0.9951358698178874 cost = 0.004649254864457094\n",
      "Epoch 846 theta0 = -2.500070568624878e-16 theta1 = 0.995137910196921 cost = 0.004649254450224007\n",
      "Epoch 847 theta0 = -2.499848206359574e-16 theta1 = 0.9951399301721643 cost = 0.004649254044234159\n",
      "Epoch 848 theta0 = -2.499228768620513e-16 theta1 = 0.9951419299476552 cost = 0.004649253646323509\n",
      "Epoch 849 theta0 = -2.49877610258043e-16 theta1 = 0.9951439097253911 cost = 0.00464925325633128\n",
      "Epoch 850 theta0 = -2.4981566648413685e-16 theta1 = 0.9951458697053498 cost = 0.004649252874099897\n",
      "Epoch 851 theta0 = -2.4982678459740207e-16 theta1 = 0.9951478100855088 cost = 0.0046492524994749184\n",
      "Epoch 852 theta0 = -2.497580905404421e-16 theta1 = 0.9951497310618662 cost = 0.004649252132304976\n",
      "Epoch 853 theta0 = -2.496754988419006e-16 theta1 = 0.9951516328284601 cost = 0.0046492517724417174\n",
      "Epoch 854 theta0 = -2.497163976156976e-16 theta1 = 0.995153515577388 cost = 0.004649251419739736\n",
      "Epoch 855 theta0 = -2.4974935488001947e-16 theta1 = 0.9951553794988266 cost = 0.004649251074056525\n",
      "Epoch 856 theta0 = -2.498454471446687e-16 theta1 = 0.9951572247810508 cost = 0.00464925073525241\n",
      "Epoch 857 theta0 = -2.4986172723909275e-16 theta1 = 0.9951590516104528 cost = 0.004649250403190496\n",
      "Epoch 858 theta0 = -2.4987761025804302e-16 theta1 = 0.9951608601715608 cost = 0.004649250077736615\n",
      "Epoch 859 theta0 = -2.4994392186216046e-16 theta1 = 0.9951626506470577 cost = 0.004649249758759265\n",
      "Epoch 860 theta0 = -2.499999095039602e-16 theta1 = 0.9951644232177996 cost = 0.004649249446129566\n",
      "Epoch 861 theta0 = -2.50001894881329e-16 theta1 = 0.9951661780628341 cost = 0.004649249139721197\n",
      "Epoch 862 theta0 = -2.4997370252269225e-16 theta1 = 0.9951679153594183 cost = 0.0046492488394103545\n",
      "Epoch 863 theta0 = -2.499649668622696e-16 theta1 = 0.9951696352830366 cost = 0.004649248545075697\n",
      "Epoch 864 theta0 = -2.5005788252312876e-16 theta1 = 0.9951713380074187 cost = 0.0046492482565983\n",
      "Epoch 865 theta0 = -2.500555000702862e-16 theta1 = 0.9951730237045571 cost = 0.004649247973861604\n",
      "Epoch 866 theta0 = -2.500717801647103e-16 theta1 = 0.995174692544724 cost = 0.004649247696751367\n",
      "Epoch 867 theta0 = -2.500364404475459e-16 theta1 = 0.9951763446964893 cost = 0.004649247425155625\n",
      "Epoch 868 theta0 = -2.5008607488176553e-16 theta1 = 0.995177980326737 cost = 0.004649247158964637\n",
      "Epoch 869 theta0 = -2.501531806368305e-16 theta1 = 0.9951795996006821 cost = 0.004649246898070849\n",
      "Epoch 870 theta0 = -2.5013729761788023e-16 theta1 = 0.9951812026818878 cost = 0.004649246642368849\n",
      "Epoch 871 theta0 = -2.500678094099727e-16 theta1 = 0.9951827897322815 cost = 0.004649246391755318\n",
      "Epoch 872 theta0 = -2.4995781950374197e-16 theta1 = 0.9951843609121712 cost = 0.004649246146128996\n",
      "Epoch 873 theta0 = -2.499864089378525e-16 theta1 = 0.995185916380262 cost = 0.00464924590539064\n",
      "Epoch 874 theta0 = -2.5000070365490774e-16 theta1 = 0.9951874562936719 cost = 0.004649245669442975\n",
      "Epoch 875 theta0 = -2.5006066205144505e-16 theta1 = 0.9951889808079477 cost = 0.004649245438190669\n",
      "Epoch 876 theta0 = -2.5007257431565776e-16 theta1 = 0.9951904900770807 cost = 0.004649245211540285\n",
      "Epoch 877 theta0 = -2.4996258440942703e-16 theta1 = 0.9951919842535224 cost = 0.004649244989400242\n",
      "Epoch 878 theta0 = -2.499891884661688e-16 theta1 = 0.9951934634881997 cost = 0.004649244771680786\n",
      "Epoch 879 theta0 = -2.4995226044710934e-16 theta1 = 0.9951949279305302 cost = 0.004649244558293948\n",
      "Epoch 880 theta0 = -2.4991930318278747e-16 theta1 = 0.9951963777284374 cost = 0.004649244349153508\n",
      "Epoch 881 theta0 = -2.499335978998427e-16 theta1 = 0.9951978130283655 cost = 0.004649244144174963\n",
      "Epoch 882 theta0 = -2.498502120503537e-16 theta1 = 0.9951992339752944 cost = 0.00464924394327549\n",
      "Epoch 883 theta0 = -2.4983194657856087e-16 theta1 = 0.995200640712754 cost = 0.0046492437463739175\n",
      "Epoch 884 theta0 = -2.498069308237142e-16 theta1 = 0.9952020333828391 cost = 0.004649243553390686\n",
      "Epoch 885 theta0 = -2.498283728992971e-16 theta1 = 0.9952034121262232 cost = 0.00464924336424782\n",
      "Epoch 886 theta0 = -2.497279128044365e-16 theta1 = 0.9952047770821735 cost = 0.004649243178868898\n",
      "Epoch 887 theta0 = -2.497874741255001e-16 theta1 = 0.9952061283885643 cost = 0.004649242997179016\n",
      "Epoch 888 theta0 = -2.4978231214434124e-16 theta1 = 0.9952074661818912 cost = 0.004649242819104764\n",
      "Epoch 889 theta0 = -2.4987602195614796e-16 theta1 = 0.9952087905972847 cost = 0.004649242644574188\n",
      "Epoch 890 theta0 = -2.49823607993612e-16 theta1 = 0.9952101017685244 cost = 0.004649242473516771\n",
      "Epoch 891 theta0 = -2.497862828990788e-16 theta1 = 0.9952113998280517 cost = 0.004649242305863397\n",
      "Epoch 892 theta0 = -2.4988237516372803e-16 theta1 = 0.9952126849069838 cost = 0.004649242141546325\n",
      "Epoch 893 theta0 = -2.498605360126714e-16 theta1 = 0.9952139571351265 cost = 0.004649241980499162\n",
      "Epoch 894 theta0 = -2.4981924016340063e-16 theta1 = 0.9952152166409878 cost = 0.004649241822656838\n",
      "Epoch 895 theta0 = -2.4980018054066027e-16 theta1 = 0.9952164635517904 cost = 0.004649241667955577\n",
      "Epoch 896 theta0 = -2.4985338865414373e-16 theta1 = 0.995217697993485 cost = 0.004649241516332871\n",
      "Epoch 897 theta0 = -2.4989587572983575e-16 theta1 = 0.9952189200907627 cost = 0.004649241367727455\n",
      "Epoch 898 theta0 = -2.4987006582404153e-16 theta1 = 0.9952201299670677 cost = 0.004649241222079289\n",
      "Epoch 899 theta0 = -2.4984584422014233e-16 theta1 = 0.9952213277446095 cost = 0.00464924107932952\n",
      "Epoch 900 theta0 = -2.497600759178108e-16 theta1 = 0.9952225135443759 cost = 0.004649240939420471\n",
      "Epoch 901 theta0 = -2.4985140327677497e-16 theta1 = 0.9952236874861446 cost = 0.004649240802295613\n",
      "Epoch 902 theta0 = -2.498430646918261e-16 theta1 = 0.9952248496884958 cost = 0.00464924066789954\n",
      "Epoch 903 theta0 = -2.498541828050913e-16 theta1 = 0.9952260002688234 cost = 0.004649240536177949\n",
      "Epoch 904 theta0 = -2.4984743252203745e-16 theta1 = 0.9952271393433476 cost = 0.004649240407077617\n",
      "Epoch 905 theta0 = -2.4983552025782474e-16 theta1 = 0.9952282670271266 cost = 0.004649240280546383\n",
      "Epoch 906 theta0 = -2.4983710855971976e-16 theta1 = 0.9952293834340679 cost = 0.004649240156533119\n",
      "Epoch 907 theta0 = -2.4979343025760646e-16 theta1 = 0.9952304886769398 cost = 0.004649240034987718\n",
      "Epoch 908 theta0 = -2.497866799745526e-16 theta1 = 0.9952315828673829 cost = 0.004649239915861072\n",
      "Epoch 909 theta0 = -2.4991334705068114e-16 theta1 = 0.9952326661159215 cost = 0.004649239799105046\n",
      "Epoch 910 theta0 = -2.499304212960527e-16 theta1 = 0.9952337385319748 cost = 0.004649239684672466\n",
      "Epoch 911 theta0 = -2.499526575225831e-16 theta1 = 0.9952348002238676 cost = 0.004649239572517093\n",
      "Epoch 912 theta0 = -2.499153324280499e-16 theta1 = 0.9952358512988414 cost = 0.004649239462593612\n",
      "Epoch 913 theta0 = -2.4994749554142424e-16 theta1 = 0.9952368918630655 cost = 0.004649239354857608\n",
      "Epoch 914 theta0 = -2.5001976327764805e-16 theta1 = 0.9952379220216474 cost = 0.004649239249265551\n",
      "Epoch 915 theta0 = -2.5002174865501686e-16 theta1 = 0.9952389418786435 cost = 0.004649239145774776\n",
      "Epoch 916 theta0 = -2.5001539544743674e-16 theta1 = 0.9952399515370696 cost = 0.004649239044343468\n",
      "Epoch 917 theta0 = -2.500177779002793e-16 theta1 = 0.9952409510989114 cost = 0.0046492389449306415\n",
      "Epoch 918 theta0 = -2.499729083717447e-16 theta1 = 0.9952419406651348 cost = 0.004649238847496132\n",
      "Epoch 919 theta0 = -2.4997330544721845e-16 theta1 = 0.9952429203356961 cost = 0.004649238752000569\n",
      "Epoch 920 theta0 = -2.4999752705111766e-16 theta1 = 0.9952438902095516 cost = 0.004649238658405367\n",
      "Epoch 921 theta0 = -2.499590107301632e-16 theta1 = 0.9952448503846686 cost = 0.004649238566672709\n",
      "Epoch 922 theta0 = -2.4994908384331925e-16 theta1 = 0.9952458009580344 cost = 0.0046492384767655315\n",
      "Epoch 923 theta0 = -2.499224797865775e-16 theta1 = 0.9952467420256665 cost = 0.0046492383886475065\n",
      "Epoch 924 theta0 = -2.4990064063552085e-16 theta1 = 0.9952476736826225 cost = 0.00464923830228303\n",
      "Epoch 925 theta0 = -2.4994431893763415e-16 theta1 = 0.9952485960230087 cost = 0.004649238217637207\n",
      "Epoch 926 theta0 = -2.5001380714554167e-16 theta1 = 0.9952495091399912 cost = 0.0046492381346758364\n",
      "Epoch 927 theta0 = -2.500515293155486e-16 theta1 = 0.9952504131258039 cost = 0.004649238053365396\n",
      "Epoch 928 theta0 = -2.5005669129670744e-16 theta1 = 0.9952513080717583 cost = 0.004649237973673034\n",
      "Epoch 929 theta0 = -2.501190321460873e-16 theta1 = 0.9952521940682533 cost = 0.00464923789556655\n",
      "Epoch 930 theta0 = -2.501126789385072e-16 theta1 = 0.9952530712047832 cost = 0.0046492378190143855\n",
      "Epoch 931 theta0 = -2.5013253271219503e-16 theta1 = 0.9952539395699479 cost = 0.004649237743985609\n",
      "Epoch 932 theta0 = -2.501114877120859e-16 theta1 = 0.995254799251461 cost = 0.0046492376704499044\n",
      "Epoch 933 theta0 = -2.5011466431587594e-16 theta1 = 0.9952556503361589 cost = 0.004649237598377561\n",
      "Epoch 934 theta0 = -2.5008130997608033e-16 theta1 = 0.9952564929100098 cost = 0.004649237527739457\n",
      "Epoch 935 theta0 = -2.5009520761766184e-16 theta1 = 0.9952573270581223 cost = 0.0046492374585070505\n",
      "Epoch 936 theta0 = -2.5001142469269907e-16 theta1 = 0.9952581528647536 cost = 0.0046492373906523695\n",
      "Epoch 937 theta0 = -2.5007297139113145e-16 theta1 = 0.9952589704133186 cost = 0.004649237324147997\n",
      "Epoch 938 theta0 = -2.501261795046149e-16 theta1 = 0.9952597797863979 cost = 0.004649237258967061\n",
      "Epoch 939 theta0 = -2.501742256369395e-16 theta1 = 0.9952605810657464 cost = 0.004649237195083226\n",
      "Epoch 940 theta0 = -2.501635045991481e-16 theta1 = 0.9952613743323016 cost = 0.004649237132470679\n",
      "Epoch 941 theta0 = -2.5014365082546025e-16 theta1 = 0.995262159666191 cost = 0.004649237071104122\n",
      "Epoch 942 theta0 = -2.501551660141992e-16 theta1 = 0.9952629371467416 cost = 0.00464923701095876\n",
      "Epoch 943 theta0 = -2.5017541686336084e-16 theta1 = 0.9952637068524868 cost = 0.00464923695201029\n",
      "Epoch 944 theta0 = -2.50114664315876e-16 theta1 = 0.9952644688611745 cost = 0.0046492368942348955\n",
      "Epoch 945 theta0 = -2.5009917837239946e-16 theta1 = 0.9952652232497753 cost = 0.0046492368376092295\n",
      "Epoch 946 theta0 = -2.5008369242892293e-16 theta1 = 0.99526597009449 cost = 0.004649236782110416\n",
      "Epoch 947 theta0 = -2.501404742216702e-16 theta1 = 0.9952667094707577 cost = 0.004649236727716027\n",
      "Epoch 948 theta0 = -2.5021512441073657e-16 theta1 = 0.9952674414532626 cost = 0.004649236674404087\n",
      "Epoch 949 theta0 = -2.5025800856190234e-16 theta1 = 0.9952681661159425 cost = 0.004649236622153056\n",
      "Epoch 950 theta0 = -2.502230659202117e-16 theta1 = 0.9952688835319956 cost = 0.004649236570941819\n",
      "Epoch 951 theta0 = -2.501746227124133e-16 theta1 = 0.9952695937738881 cost = 0.004649236520749687\n",
      "Epoch 952 theta0 = -2.5024927290147967e-16 theta1 = 0.9952702969133618 cost = 0.0046492364715563774\n",
      "Epoch 953 theta0 = -2.5024609629768964e-16 theta1 = 0.9952709930214407 cost = 0.004649236423342014\n",
      "Epoch 954 theta0 = -2.5024768459958465e-16 theta1 = 0.9952716821684389 cost = 0.004649236376087118\n",
      "Epoch 955 theta0 = -2.502619793166399e-16 theta1 = 0.995272364423967 cost = 0.004649236329772593\n",
      "Epoch 956 theta0 = -2.504958567706829e-16 theta1 = 0.9952730398569399 cost = 0.004649236284379728\n",
      "Epoch 957 theta0 = -2.5045178139309585e-16 theta1 = 0.9952737085355831 cost = 0.004649236239890182\n",
      "Epoch 958 theta0 = -2.5044900186477956e-16 theta1 = 0.9952743705274397 cost = 0.004649236196285976\n",
      "Epoch 959 theta0 = -2.5042200073256406e-16 theta1 = 0.9952750258993779 cost = 0.0046492361535494945\n",
      "Epoch 960 theta0 = -2.5041405922308893e-16 theta1 = 0.9952756747175966 cost = 0.0046492361116634694\n",
      "Epoch 961 theta0 = -2.503386148830751e-16 theta1 = 0.9952763170476332 cost = 0.004649236070610975\n",
      "Epoch 962 theta0 = -2.5032749676980986e-16 theta1 = 0.9952769529543694 cost = 0.004649236030375426\n",
      "Epoch 963 theta0 = -2.502873921469604e-16 theta1 = 0.9952775825020382 cost = 0.004649235990940565\n",
      "Epoch 964 theta0 = -2.502321986561081e-16 theta1 = 0.9952782057542304 cost = 0.004649235952290456\n",
      "Epoch 965 theta0 = -2.501722402595708e-16 theta1 = 0.9952788227739007 cost = 0.004649235914409486\n",
      "Epoch 966 theta0 = -2.5015159233493543e-16 theta1 = 0.9952794336233742 cost = 0.004649235877282346\n",
      "Epoch 967 theta0 = -2.501285619574575e-16 theta1 = 0.995280038364353 cost = 0.0046492358408940365\n",
      "Epoch 968 theta0 = -2.5010394327808456e-16 theta1 = 0.9952806370579219 cost = 0.004649235805229855\n",
      "Epoch 969 theta0 = -2.501861379011523e-16 theta1 = 0.9952812297645552 cost = 0.004649235770275391\n",
      "Epoch 970 theta0 = -2.5018971158041615e-16 theta1 = 0.9952818165441222 cost = 0.004649235736016519\n",
      "Epoch 971 theta0 = -2.5016826950483324e-16 theta1 = 0.9952823974558935 cost = 0.004649235702439401\n",
      "Epoch 972 theta0 = -2.5018018176904594e-16 theta1 = 0.9952829725585471 cost = 0.004649235669530465\n",
      "Epoch 973 theta0 = -2.5023736063726697e-16 theta1 = 0.9952835419101742 cost = 0.004649235637276418\n",
      "Epoch 974 theta0 = -2.5017899054262467e-16 theta1 = 0.995284105568285 cost = 0.004649235605664227\n",
      "Epoch 975 theta0 = -2.502186980900004e-16 theta1 = 0.9952846635898146 cost = 0.0046492355746811185\n",
      "Epoch 976 theta0 = -2.5018494667473105e-16 theta1 = 0.995285216031129 cost = 0.004649235544314573\n",
      "Epoch 977 theta0 = -2.5017938761809846e-16 theta1 = 0.9952857629480302 cost = 0.004649235514552323\n",
      "Epoch 978 theta0 = -2.5023616941084574e-16 theta1 = 0.9952863043957624 cost = 0.004649235485382341\n",
      "Epoch 979 theta0 = -2.5027786233559023e-16 theta1 = 0.9952868404290173 cost = 0.004649235456792842\n",
      "Epoch 980 theta0 = -2.5031479035464967e-16 theta1 = 0.9952873711019397 cost = 0.004649235428772274\n",
      "Epoch 981 theta0 = -2.503703809209757e-16 theta1 = 0.9952878964681328 cost = 0.0046492354013093155\n",
      "Epoch 982 theta0 = -2.503676013926594e-16 theta1 = 0.9952884165806639 cost = 0.004649235374392869\n",
      "Epoch 983 theta0 = -2.503088342225433e-16 theta1 = 0.9952889314920698 cost = 0.00464923534801206\n",
      "Epoch 984 theta0 = -2.502806418639065e-16 theta1 = 0.9952894412543616 cost = 0.0046492353221562295\n",
      "Epoch 985 theta0 = -2.503298792226524e-16 theta1 = 0.9952899459190305 cost = 0.00464923529681493\n",
      "Epoch 986 theta0 = -2.503088342225433e-16 theta1 = 0.9952904455370527 cost = 0.004649235271977922\n",
      "Epoch 987 theta0 = -2.5023577233537195e-16 theta1 = 0.9952909401588947 cost = 0.004649235247635171\n",
      "Epoch 988 theta0 = -2.5022544837305426e-16 theta1 = 0.9952914298345183 cost = 0.00464923522377684\n",
      "Epoch 989 theta0 = -2.501496069575666e-16 theta1 = 0.9952919146133857 cost = 0.004649235200393291\n",
      "Epoch 990 theta0 = -2.5015754846704176e-16 theta1 = 0.9952923945444644 cost = 0.0046492351774750735\n",
      "Epoch 991 theta0 = -2.5018931450494236e-16 theta1 = 0.9952928696762323 cost = 0.004649235155012929\n",
      "Epoch 992 theta0 = -2.5022544837305426e-16 theta1 = 0.9952933400566826 cost = 0.004649235132997781\n",
      "Epoch 993 theta0 = -2.5014841573114535e-16 theta1 = 0.9952938057333283 cost = 0.0046492351114207344\n",
      "Epoch 994 theta0 = -2.5022505129758047e-16 theta1 = 0.9952942667532075 cost = 0.004649235090273071\n",
      "Epoch 995 theta0 = -2.5022068346736916e-16 theta1 = 0.995294723162888 cost = 0.004649235069546246\n",
      "Epoch 996 theta0 = -2.5023100742968685e-16 theta1 = 0.9952951750084716 cost = 0.004649235049231886\n",
      "Epoch 997 theta0 = -2.5028024478843273e-16 theta1 = 0.9952956223355994 cost = 0.004649235029321781\n",
      "Epoch 998 theta0 = -2.5029215705264544e-16 theta1 = 0.995296065189456 cost = 0.004649235009807887\n",
      "Epoch 999 theta0 = -2.501905057313636e-16 theta1 = 0.995296503614774 cost = 0.004649234990682319\n",
      "Epoch 1000 theta0 = -2.50256817335481e-16 theta1 = 0.9952969376558387 cost = 0.00464923497193735\n",
      "[[-2.50256817e-16  9.95296938e-01]] 0.00464923497193735\n"
     ]
    }
   ],
   "source": [
    "epoch=1000\n",
    "alpha=0.01\n",
    "result_theta,cost=gradient_descent(x_train,y_train,theta,alpha,epoch)\n",
    "print(result_theta,cost)"
   ]
  },
  {
   "cell_type": "code",
   "execution_count": 40,
   "id": "5da8912e",
   "metadata": {},
   "outputs": [
    {
     "data": {
      "text/plain": [
       "((300,), (300,))"
      ]
     },
     "execution_count": 40,
     "metadata": {},
     "output_type": "execute_result"
    }
   ],
   "source": [
    "x_test.shape,y_test.shape"
   ]
  },
  {
   "cell_type": "code",
   "execution_count": 41,
   "id": "eb3fdab3",
   "metadata": {},
   "outputs": [],
   "source": [
    "x_test=x_test.reshape(-1,1)\n",
    "y_test=y_test.reshape(-1,1)"
   ]
  },
  {
   "cell_type": "code",
   "execution_count": 42,
   "id": "ae7dc6b3",
   "metadata": {},
   "outputs": [
    {
     "data": {
      "text/plain": [
       "(300, 1)"
      ]
     },
     "execution_count": 42,
     "metadata": {},
     "output_type": "execute_result"
    }
   ],
   "source": [
    "x_test.shape"
   ]
  },
  {
   "cell_type": "code",
   "execution_count": 43,
   "id": "d0d76c16",
   "metadata": {},
   "outputs": [
    {
     "data": {
      "text/plain": [
       "(300, 2)"
      ]
     },
     "execution_count": 43,
     "metadata": {},
     "output_type": "execute_result"
    }
   ],
   "source": [
    "x1=np.ones((x_test.shape[0],1))\n",
    "x_test1=np.concatenate((x1,x_test),axis=1)\n",
    "x_test1.shape"
   ]
  },
  {
   "cell_type": "code",
   "execution_count": 44,
   "id": "2a5f0a32",
   "metadata": {},
   "outputs": [
    {
     "data": {
      "text/plain": [
       "(1, 2)"
      ]
     },
     "execution_count": 44,
     "metadata": {},
     "output_type": "execute_result"
    }
   ],
   "source": [
    "result_theta.shape"
   ]
  },
  {
   "cell_type": "code",
   "execution_count": 45,
   "id": "6a969a0d",
   "metadata": {},
   "outputs": [],
   "source": [
    "y_pred=np.dot(x_test1,result_theta.T)"
   ]
  },
  {
   "cell_type": "markdown",
   "id": "66a690c7",
   "metadata": {},
   "source": [
    "## Performance matrix"
   ]
  },
  {
   "cell_type": "code",
   "execution_count": 46,
   "id": "921d4087",
   "metadata": {},
   "outputs": [],
   "source": [
    "from sklearn.metrics import r2_score,mean_squared_error,mean_absolute_error"
   ]
  },
  {
   "cell_type": "code",
   "execution_count": 47,
   "id": "add0df8e",
   "metadata": {},
   "outputs": [
    {
     "data": {
      "text/plain": [
       "0.99"
      ]
     },
     "execution_count": 47,
     "metadata": {},
     "output_type": "execute_result"
    }
   ],
   "source": [
    "R2_score=round(r2_score(y_test,y_pred),2)\n",
    "R2_score"
   ]
  },
  {
   "cell_type": "code",
   "execution_count": 48,
   "id": "4ba64e7e",
   "metadata": {},
   "outputs": [
    {
     "data": {
      "text/plain": [
       "0.010880203813310443"
      ]
     },
     "execution_count": 48,
     "metadata": {},
     "output_type": "execute_result"
    }
   ],
   "source": [
    "mean_square_error1=mean_squared_error(y_test,y_pred)\n",
    "mean_square_error1"
   ]
  },
  {
   "cell_type": "code",
   "execution_count": 49,
   "id": "fb7a670c",
   "metadata": {},
   "outputs": [
    {
     "data": {
      "text/plain": [
       "0.08310097153853373"
      ]
     },
     "execution_count": 49,
     "metadata": {},
     "output_type": "execute_result"
    }
   ],
   "source": [
    "mean_absolute_error1=mean_absolute_error(y_test,y_pred)\n",
    "mean_absolute_error1"
   ]
  },
  {
   "cell_type": "code",
   "execution_count": 50,
   "id": "8abdf356",
   "metadata": {},
   "outputs": [
    {
     "data": {
      "text/plain": [
       "0.10430821546412557"
      ]
     },
     "execution_count": 50,
     "metadata": {},
     "output_type": "execute_result"
    }
   ],
   "source": [
    "root_mean_square_error=math.sqrt(mean_square_error1)\n",
    "root_mean_square_error"
   ]
  },
  {
   "cell_type": "code",
   "execution_count": null,
   "id": "04150a76",
   "metadata": {},
   "outputs": [],
   "source": []
  }
 ],
 "metadata": {
  "kernelspec": {
   "display_name": "Python 3 (ipykernel)",
   "language": "python",
   "name": "python3"
  },
  "language_info": {
   "codemirror_mode": {
    "name": "ipython",
    "version": 3
   },
   "file_extension": ".py",
   "mimetype": "text/x-python",
   "name": "python",
   "nbconvert_exporter": "python",
   "pygments_lexer": "ipython3",
   "version": "3.9.12"
  }
 },
 "nbformat": 4,
 "nbformat_minor": 5
}
